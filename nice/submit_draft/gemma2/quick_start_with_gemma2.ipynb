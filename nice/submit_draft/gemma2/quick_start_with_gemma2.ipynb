{
 "cells": [
  {
   "cell_type": "markdown",
   "id": "6fb3eb28",
   "metadata": {
    "papermill": {
     "duration": 0.004228,
     "end_time": "2025-03-22T11:57:39.023074",
     "exception": false,
     "start_time": "2025-03-22T11:57:39.018846",
     "status": "completed"
    },
    "tags": []
   },
   "source": [
    "This notebook implements a submission with Gemma 2 9B IT model with some helper code to ensure the generated SVGs conform to the submission requirements. (See the [Evaluation](https://www.kaggle.com/competitions/drawing-with-llms/overview/evaluation) page for details on the submission requirements.)\n",
    "\n",
    "To use this notebook interactively, you'll need to install some dependencies. First, *turn on* the Internet under **Session options** to the right. Then select the **Add-ons->Install Dependencies** menu above and click *Run*. A console should pop up with a running `pip` command. Wait for the dependencies to finish installing and then *turn off* the Internet before submitting."
   ]
  },
  {
   "cell_type": "code",
   "execution_count": 1,
   "id": "212944d9",
   "metadata": {
    "execution": {
     "iopub.execute_input": "2025-03-22T11:57:39.031261Z",
     "iopub.status.busy": "2025-03-22T11:57:39.031060Z",
     "iopub.status.idle": "2025-03-22T11:57:39.034578Z",
     "shell.execute_reply": "2025-03-22T11:57:39.033994Z"
    },
    "papermill": {
     "duration": 0.008564,
     "end_time": "2025-03-22T11:57:39.035798",
     "exception": false,
     "start_time": "2025-03-22T11:57:39.027234",
     "status": "completed"
    },
    "tags": []
   },
   "outputs": [],
   "source": [
    "#| default_exp core"
   ]
  },
  {
   "cell_type": "code",
   "execution_count": 2,
   "id": "4b5e89a5",
   "metadata": {
    "execution": {
     "iopub.execute_input": "2025-03-22T11:57:39.043276Z",
     "iopub.status.busy": "2025-03-22T11:57:39.043081Z",
     "iopub.status.idle": "2025-03-22T11:57:39.161773Z",
     "shell.execute_reply": "2025-03-22T11:57:39.161060Z"
    },
    "papermill": {
     "duration": 0.123779,
     "end_time": "2025-03-22T11:57:39.163072",
     "exception": false,
     "start_time": "2025-03-22T11:57:39.039293",
     "status": "completed"
    },
    "tags": []
   },
   "outputs": [
    {
     "name": "stdout",
     "output_type": "stream",
     "text": [
      "Python 3.10.12\r\n"
     ]
    }
   ],
   "source": [
    "!python --version"
   ]
  },
  {
   "cell_type": "code",
   "execution_count": 3,
   "id": "8b7a17a7",
   "metadata": {
    "execution": {
     "iopub.execute_input": "2025-03-22T11:57:39.170892Z",
     "iopub.status.busy": "2025-03-22T11:57:39.170681Z",
     "iopub.status.idle": "2025-03-22T11:57:39.295546Z",
     "shell.execute_reply": "2025-03-22T11:57:39.294817Z"
    },
    "papermill": {
     "duration": 0.13014,
     "end_time": "2025-03-22T11:57:39.296856",
     "exception": false,
     "start_time": "2025-03-22T11:57:39.166716",
     "status": "completed"
    },
    "tags": []
   },
   "outputs": [
    {
     "name": "stdout",
     "output_type": "stream",
     "text": [
      "\u001b[0m\u001b[01;34mkaggle_evaluation\u001b[0m/  questions.parquet  train.csv\r\n"
     ]
    }
   ],
   "source": [
    "ls /kaggle/input/drawing-with-llms/published"
   ]
  },
  {
   "cell_type": "code",
   "execution_count": 4,
   "id": "b2ac810f",
   "metadata": {
    "execution": {
     "iopub.execute_input": "2025-03-22T11:57:39.304693Z",
     "iopub.status.busy": "2025-03-22T11:57:39.304428Z",
     "iopub.status.idle": "2025-03-22T11:57:39.422513Z",
     "shell.execute_reply": "2025-03-22T11:57:39.421790Z"
    },
    "papermill": {
     "duration": 0.123235,
     "end_time": "2025-03-22T11:57:39.423601",
     "exception": false,
     "start_time": "2025-03-22T11:57:39.300366",
     "status": "completed"
    },
    "tags": []
   },
   "outputs": [
    {
     "name": "stdout",
     "output_type": "stream",
     "text": [
      "train.csv\r\n"
     ]
    }
   ],
   "source": [
    "ls /kaggle/input/d/nicecaliforniaw/drawing-with-llms"
   ]
  },
  {
   "cell_type": "code",
   "execution_count": 5,
   "id": "c942cc77",
   "metadata": {
    "execution": {
     "iopub.execute_input": "2025-03-22T11:57:39.431376Z",
     "iopub.status.busy": "2025-03-22T11:57:39.431174Z",
     "iopub.status.idle": "2025-03-22T11:57:42.674907Z",
     "shell.execute_reply": "2025-03-22T11:57:42.673941Z"
    },
    "papermill": {
     "duration": 3.249901,
     "end_time": "2025-03-22T11:57:42.677018",
     "exception": false,
     "start_time": "2025-03-22T11:57:39.427117",
     "status": "completed"
    },
    "tags": []
   },
   "outputs": [
    {
     "name": "stdout",
     "output_type": "stream",
     "text": [
      "Requirement already satisfied: google-re2 in /usr/local/lib/python3.10/dist-packages (1.1.20240702)\r\n"
     ]
    }
   ],
   "source": [
    "# !pip install re2\n",
    "!pip install google-re2"
   ]
  },
  {
   "cell_type": "code",
   "execution_count": 6,
   "id": "6927e36b",
   "metadata": {
    "execution": {
     "iopub.execute_input": "2025-03-22T11:57:42.685515Z",
     "iopub.status.busy": "2025-03-22T11:57:42.685244Z",
     "iopub.status.idle": "2025-03-22T11:57:42.693198Z",
     "shell.execute_reply": "2025-03-22T11:57:42.692343Z"
    },
    "papermill": {
     "duration": 0.013492,
     "end_time": "2025-03-22T11:57:42.694456",
     "exception": false,
     "start_time": "2025-03-22T11:57:42.680964",
     "status": "completed"
    },
    "tags": []
   },
   "outputs": [
    {
     "name": "stdout",
     "output_type": "stream",
     "text": [
      "re2 module is installed.\n"
     ]
    }
   ],
   "source": [
    "try:\n",
    "    import re2\n",
    "    print(\"re2 module is installed.\")\n",
    "except ImportError:\n",
    "    print(\"re2 module is not installed.\")"
   ]
  },
  {
   "cell_type": "code",
   "execution_count": 7,
   "id": "6504fc68",
   "metadata": {
    "execution": {
     "iopub.execute_input": "2025-03-22T11:57:42.702282Z",
     "iopub.status.busy": "2025-03-22T11:57:42.702055Z",
     "iopub.status.idle": "2025-03-22T11:57:46.010801Z",
     "shell.execute_reply": "2025-03-22T11:57:46.009791Z"
    },
    "papermill": {
     "duration": 3.31485,
     "end_time": "2025-03-22T11:57:46.012942",
     "exception": false,
     "start_time": "2025-03-22T11:57:42.698092",
     "status": "completed"
    },
    "tags": []
   },
   "outputs": [
    {
     "name": "stdout",
     "output_type": "stream",
     "text": [
      "Requirement already satisfied: cairosvg in /usr/local/lib/python3.10/dist-packages (2.7.1)\r\n",
      "Requirement already satisfied: cairocffi in /usr/local/lib/python3.10/dist-packages (from cairosvg) (1.7.1)\r\n",
      "Requirement already satisfied: cssselect2 in /usr/local/lib/python3.10/dist-packages (from cairosvg) (0.8.0)\r\n",
      "Requirement already satisfied: defusedxml in /usr/local/lib/python3.10/dist-packages (from cairosvg) (0.7.1)\r\n",
      "Requirement already satisfied: pillow in /usr/local/lib/python3.10/dist-packages (from cairosvg) (11.0.0)\r\n",
      "Requirement already satisfied: tinycss2 in /usr/local/lib/python3.10/dist-packages (from cairosvg) (1.4.0)\r\n",
      "Requirement already satisfied: cffi>=1.1.0 in /usr/local/lib/python3.10/dist-packages (from cairocffi->cairosvg) (1.17.1)\r\n",
      "Requirement already satisfied: webencodings in /usr/local/lib/python3.10/dist-packages (from cssselect2->cairosvg) (0.5.1)\r\n",
      "Requirement already satisfied: pycparser in /usr/local/lib/python3.10/dist-packages (from cffi>=1.1.0->cairocffi->cairosvg) (2.22)\r\n"
     ]
    }
   ],
   "source": [
    "!pip install cairosvg"
   ]
  },
  {
   "cell_type": "code",
   "execution_count": 8,
   "id": "7234fdba",
   "metadata": {
    "execution": {
     "iopub.execute_input": "2025-03-22T11:57:46.021775Z",
     "iopub.status.busy": "2025-03-22T11:57:46.021505Z",
     "iopub.status.idle": "2025-03-22T12:01:08.859656Z",
     "shell.execute_reply": "2025-03-22T12:01:08.858527Z"
    },
    "papermill": {
     "duration": 202.844997,
     "end_time": "2025-03-22T12:01:08.861985",
     "exception": false,
     "start_time": "2025-03-22T11:57:46.016988",
     "status": "completed"
    },
    "tags": []
   },
   "outputs": [
    {
     "name": "stdout",
     "output_type": "stream",
     "text": [
      "Requirement already satisfied: bitsandbytes in /usr/local/lib/python3.10/dist-packages (0.45.3)\r\n",
      "\u001b[33mWARNING: Retrying (Retry(total=4, connect=None, read=None, redirect=None, status=None)) after connection broken by 'NewConnectionError('<pip._vendor.urllib3.connection.HTTPSConnection object at 0x7db5f4fd9630>: Failed to establish a new connection: [Errno -3] Temporary failure in name resolution')': /simple/bitsandbytes/\u001b[0m\u001b[33m\r\n",
      "\u001b[0m\u001b[33mWARNING: Retrying (Retry(total=3, connect=None, read=None, redirect=None, status=None)) after connection broken by 'NewConnectionError('<pip._vendor.urllib3.connection.HTTPSConnection object at 0x7db5f4fd9960>: Failed to establish a new connection: [Errno -3] Temporary failure in name resolution')': /simple/bitsandbytes/\u001b[0m\u001b[33m\r\n",
      "\u001b[0m\u001b[33mWARNING: Retrying (Retry(total=2, connect=None, read=None, redirect=None, status=None)) after connection broken by 'NewConnectionError('<pip._vendor.urllib3.connection.HTTPSConnection object at 0x7db5f4fd9b10>: Failed to establish a new connection: [Errno -3] Temporary failure in name resolution')': /simple/bitsandbytes/\u001b[0m\u001b[33m\r\n",
      "\u001b[0m\u001b[33mWARNING: Retrying (Retry(total=1, connect=None, read=None, redirect=None, status=None)) after connection broken by 'NewConnectionError('<pip._vendor.urllib3.connection.HTTPSConnection object at 0x7db5f4fd9cc0>: Failed to establish a new connection: [Errno -3] Temporary failure in name resolution')': /simple/bitsandbytes/\u001b[0m\u001b[33m\r\n",
      "\u001b[0m\u001b[33mWARNING: Retrying (Retry(total=0, connect=None, read=None, redirect=None, status=None)) after connection broken by 'NewConnectionError('<pip._vendor.urllib3.connection.HTTPSConnection object at 0x7db5f4fd9e70>: Failed to establish a new connection: [Errno -3] Temporary failure in name resolution')': /simple/bitsandbytes/\u001b[0m\u001b[33m\r\n",
      "\u001b[0mRequirement already satisfied: torch<3,>=2.0 in /usr/local/lib/python3.10/dist-packages (from bitsandbytes) (2.5.1+cu121)\r\n",
      "Requirement already satisfied: numpy>=1.17 in /usr/local/lib/python3.10/dist-packages (from bitsandbytes) (1.26.4)\r\n",
      "Requirement already satisfied: mkl_fft in /usr/local/lib/python3.10/dist-packages (from numpy>=1.17->bitsandbytes) (1.3.8)\r\n",
      "Requirement already satisfied: mkl_random in /usr/local/lib/python3.10/dist-packages (from numpy>=1.17->bitsandbytes) (1.2.4)\r\n",
      "Requirement already satisfied: mkl_umath in /usr/local/lib/python3.10/dist-packages (from numpy>=1.17->bitsandbytes) (0.1.1)\r\n",
      "Requirement already satisfied: mkl in /usr/local/lib/python3.10/dist-packages (from numpy>=1.17->bitsandbytes) (2025.0.1)\r\n",
      "Requirement already satisfied: tbb4py in /usr/local/lib/python3.10/dist-packages (from numpy>=1.17->bitsandbytes) (2022.0.0)\r\n",
      "Requirement already satisfied: mkl-service in /usr/local/lib/python3.10/dist-packages (from numpy>=1.17->bitsandbytes) (2.4.1)\r\n",
      "Requirement already satisfied: filelock in /usr/local/lib/python3.10/dist-packages (from torch<3,>=2.0->bitsandbytes) (3.17.0)\r\n",
      "Requirement already satisfied: typing-extensions>=4.8.0 in /usr/local/lib/python3.10/dist-packages (from torch<3,>=2.0->bitsandbytes) (4.12.2)\r\n",
      "Requirement already satisfied: networkx in /usr/local/lib/python3.10/dist-packages (from torch<3,>=2.0->bitsandbytes) (3.4.2)\r\n",
      "Requirement already satisfied: jinja2 in /usr/local/lib/python3.10/dist-packages (from torch<3,>=2.0->bitsandbytes) (3.1.4)\r\n",
      "Requirement already satisfied: fsspec in /usr/local/lib/python3.10/dist-packages (from torch<3,>=2.0->bitsandbytes) (2024.12.0)\r\n",
      "Requirement already satisfied: sympy==1.13.1 in /usr/local/lib/python3.10/dist-packages (from torch<3,>=2.0->bitsandbytes) (1.13.1)\r\n",
      "Requirement already satisfied: mpmath<1.4,>=1.1.0 in /usr/local/lib/python3.10/dist-packages (from sympy==1.13.1->torch<3,>=2.0->bitsandbytes) (1.3.0)\r\n",
      "Requirement already satisfied: MarkupSafe>=2.0 in /usr/local/lib/python3.10/dist-packages (from jinja2->torch<3,>=2.0->bitsandbytes) (3.0.2)\r\n",
      "Requirement already satisfied: intel-openmp>=2024 in /usr/local/lib/python3.10/dist-packages (from mkl->numpy>=1.17->bitsandbytes) (2024.2.0)\r\n",
      "Requirement already satisfied: tbb==2022.* in /usr/local/lib/python3.10/dist-packages (from mkl->numpy>=1.17->bitsandbytes) (2022.0.0)\r\n",
      "Requirement already satisfied: tcmlib==1.* in /usr/local/lib/python3.10/dist-packages (from tbb==2022.*->mkl->numpy>=1.17->bitsandbytes) (1.2.0)\r\n",
      "Requirement already satisfied: intel-cmplr-lib-rt in /usr/local/lib/python3.10/dist-packages (from mkl_umath->numpy>=1.17->bitsandbytes) (2024.2.0)\r\n",
      "Requirement already satisfied: intel-cmplr-lib-ur==2024.2.0 in /usr/local/lib/python3.10/dist-packages (from intel-openmp>=2024->mkl->numpy>=1.17->bitsandbytes) (2024.2.0)\r\n"
     ]
    }
   ],
   "source": [
    "!pip install -U bitsandbytes"
   ]
  },
  {
   "cell_type": "code",
   "execution_count": 9,
   "id": "6e6fd8f5",
   "metadata": {
    "execution": {
     "iopub.execute_input": "2025-03-22T12:01:08.871704Z",
     "iopub.status.busy": "2025-03-22T12:01:08.871429Z",
     "iopub.status.idle": "2025-03-22T12:01:12.424799Z",
     "shell.execute_reply": "2025-03-22T12:01:12.423642Z"
    },
    "papermill": {
     "duration": 3.559881,
     "end_time": "2025-03-22T12:01:12.426450",
     "exception": false,
     "start_time": "2025-03-22T12:01:08.866569",
     "status": "completed"
    },
    "tags": []
   },
   "outputs": [
    {
     "name": "stdout",
     "output_type": "stream",
     "text": [
      "0.45.3\n"
     ]
    }
   ],
   "source": [
    "import bitsandbytes\n",
    "print(bitsandbytes.__version__)"
   ]
  },
  {
   "cell_type": "code",
   "execution_count": 10,
   "id": "6fa2a640",
   "metadata": {
    "execution": {
     "iopub.execute_input": "2025-03-22T12:01:12.436825Z",
     "iopub.status.busy": "2025-03-22T12:01:12.436347Z",
     "iopub.status.idle": "2025-03-22T12:01:19.750768Z",
     "shell.execute_reply": "2025-03-22T12:01:19.750080Z"
    },
    "papermill": {
     "duration": 7.321172,
     "end_time": "2025-03-22T12:01:19.752293",
     "exception": false,
     "start_time": "2025-03-22T12:01:12.431121",
     "status": "completed"
    },
    "tags": []
   },
   "outputs": [],
   "source": [
    "#| export\n",
    "import concurrent\n",
    "import io\n",
    "import logging\n",
    "import re\n",
    "import re2\n",
    "\n",
    "import cairosvg\n",
    "import kagglehub\n",
    "import torch\n",
    "from lxml import etree\n",
    "from transformers import AutoTokenizer, AutoModelForCausalLM, BitsAndBytesConfig\n",
    "\n",
    "svg_constraints = kagglehub.package_import('metric/svg-constraints')\n",
    "\n",
    "DEVICE = torch.device(\"cuda\" if torch.cuda.is_available() else \"cpu\")\n",
    "\n",
    "\n",
    "class Model:\n",
    "    def __init__(self):\n",
    "         # Quantization Configuration\n",
    "        quantization_config = BitsAndBytesConfig(\n",
    "            load_in_4bit=True,\n",
    "            bnb_4bit_quant_type=\"nf4\",\n",
    "            bnb_4bit_use_double_quant=True,\n",
    "            bnb_4bit_compute_dtype=torch.float16,\n",
    "        )\n",
    "        self.model_path = kagglehub.model_download('google/gemma-2/Transformers/gemma-2-9b-it/2')\n",
    "        self.tokenizer = AutoTokenizer.from_pretrained(self.model_path)\n",
    "        self.model = AutoModelForCausalLM.from_pretrained(\n",
    "            self.model_path,\n",
    "            device_map=\"auto\",\n",
    "            quantization_config=quantization_config,\n",
    "        )\n",
    "        self.prompt_template = \"\"\"Generate SVG code to visually represent the following text description, while respecting the given constraints.\n",
    "<constraints>\n",
    "* **Allowed Elements:** `svg`, `path`, `circle`, `rect`, `ellipse`, `line`, `polyline`, `polygon`, `g`, `linearGradient`, `radialGradient`, `stop`, `defs`\n",
    "* **Allowed Attributes:** `viewBox`, `width`, `height`, `fill`, `stroke`, `stroke-width`, `d`, `cx`, `cy`, `r`, `x`, `y`, `rx`, `ry`, `x1`, `y1`, `x2`, `y2`, `points`, `transform`, `opacity`\n",
    "</constraints>\n",
    "\n",
    "<example>\n",
    "<description>\"A red circle with a blue square inside\"</description>\n",
    "```svg\n",
    "<svg viewBox=\"0 0 256 256\" width=\"256\" height=\"256\">\n",
    "  <circle cx=\"50\" cy=\"50\" r=\"40\" fill=\"red\"/>\n",
    "  <rect x=\"30\" y=\"30\" width=\"40\" height=\"40\" fill=\"blue\"/>\n",
    "</svg>\n",
    "```\n",
    "</example>\n",
    "\n",
    "\n",
    "Please ensure that the generated SVG code is well-formed, valid, and strictly adheres to these constraints. Focus on a clear and concise representation of the input description within the given limitations. Always give the complete SVG code with nothing omitted. Never use an ellipsis.\n",
    "\n",
    "<description>\"{}\"</description>\n",
    "```svg\n",
    "<svg viewBox=\"0 0 256 256\" width=\"256\" height=\"256\">\n",
    "\"\"\"\n",
    "        self.default_svg = \"\"\"<svg width=\"256\" height=\"256\" viewBox=\"0 0 256 256\"><circle cx=\"50\" cy=\"50\" r=\"40\" fill=\"red\" /></svg>\"\"\"\n",
    "        self.constraints = svg_constraints.SVGConstraints()\n",
    "        self.timeout_seconds = 90\n",
    "\n",
    "    \n",
    "    \n",
    "    # You could try increasing `max_new_tokens`\n",
    "    def predict(self, description: str, max_new_tokens=512) -> str:\n",
    "        def generate_svg():\n",
    "            try:\n",
    "                prompt = self.prompt_template.format(description)\n",
    "                inputs = self.tokenizer(text=prompt, return_tensors=\"pt\").to(DEVICE)\n",
    "\n",
    "                with torch.no_grad():\n",
    "                    output = self.model.generate(\n",
    "                        **inputs,\n",
    "                        max_new_tokens=max_new_tokens,\n",
    "                        do_sample=True,\n",
    "                    )\n",
    "\n",
    "                output_decoded = self.tokenizer.decode(output[0], skip_special_tokens=True)\n",
    "                logging.debug('Output decoded from model: %s', output_decoded)\n",
    "\n",
    "                matches = re.findall(r\"<svg.*?</svg>\", output_decoded, re.DOTALL | re.IGNORECASE)\n",
    "                if matches:\n",
    "                    svg = matches[-1]\n",
    "                else:\n",
    "                    return self.default_svg\n",
    "\n",
    "                logging.debug('Unprocessed SVG: %s', svg)\n",
    "                svg = self.enforce_constraints(svg)\n",
    "                logging.debug('Processed SVG: %s', svg)\n",
    "                # Ensure the generated code can be converted by cairosvg\n",
    "                cairosvg.svg2png(bytestring=svg.encode('utf-8'))\n",
    "                return svg\n",
    "            except Exception as e:\n",
    "                logging.error('Exception during SVG generation: %s', e)\n",
    "                return self.default_svg\n",
    "\n",
    "        # Execute SVG generation in a new thread to enforce time constraints\n",
    "        with concurrent.futures.ThreadPoolExecutor(max_workers=1) as executor:\n",
    "            future = executor.submit(generate_svg)\n",
    "            try:\n",
    "                return future.result(timeout=self.timeout_seconds)\n",
    "            except concurrent.futures.TimeoutError:\n",
    "                logging.warning(\"Prediction timed out after %s seconds.\", self.timeout_seconds)\n",
    "                return self.default_svg\n",
    "            except Exception as e:\n",
    "                logging.error(f\"An unexpected error occurred: {e}\")\n",
    "                return self.default_svg\n",
    "\n",
    "    def enforce_constraints(self, svg_string: str) -> str:\n",
    "        \"\"\"Enforces constraints on an SVG string, removing disallowed elements\n",
    "        and attributes.\n",
    "\n",
    "        Parameters\n",
    "        ----------\n",
    "        svg_string : str\n",
    "            The SVG string to process.\n",
    "\n",
    "        Returns\n",
    "        -------\n",
    "        str\n",
    "            The processed SVG string, or the default SVG if constraints\n",
    "            cannot be satisfied.\n",
    "        \"\"\"\n",
    "        logging.info('Sanitizing SVG...')\n",
    "\n",
    "        try:\n",
    "            parser = etree.XMLParser(remove_blank_text=True, remove_comments=True)\n",
    "            root = etree.fromstring(svg_string, parser=parser)\n",
    "        except etree.ParseError as e:\n",
    "            logging.error('SVG Parse Error: %s. Returning default SVG.', e)\n",
    "            return self.default_svg\n",
    "    \n",
    "        elements_to_remove = []\n",
    "        for element in root.iter():\n",
    "            tag_name = etree.QName(element.tag).localname\n",
    "    \n",
    "            # Remove disallowed elements\n",
    "            if tag_name not in self.constraints.allowed_elements:\n",
    "                elements_to_remove.append(element)\n",
    "                continue  # Skip attribute checks for removed elements\n",
    "    \n",
    "            # Remove disallowed attributes\n",
    "            attrs_to_remove = []\n",
    "            for attr in element.attrib:\n",
    "                attr_name = etree.QName(attr).localname\n",
    "                if (\n",
    "                    attr_name\n",
    "                    not in self.constraints.allowed_elements[tag_name]\n",
    "                    and attr_name\n",
    "                    not in self.constraints.allowed_elements['common']\n",
    "                ):\n",
    "                    attrs_to_remove.append(attr)\n",
    "    \n",
    "            for attr in attrs_to_remove:\n",
    "                logging.debug(\n",
    "                    'Attribute \"%s\" for element \"%s\" not allowed. Removing.',\n",
    "                    attr,\n",
    "                    tag_name,\n",
    "                )\n",
    "                del element.attrib[attr]\n",
    "    \n",
    "            # Check and remove invalid href attributes\n",
    "            for attr, value in element.attrib.items():\n",
    "                 if etree.QName(attr).localname == 'href' and not value.startswith('#'):\n",
    "                    logging.debug(\n",
    "                        'Removing invalid href attribute in element \"%s\".', tag_name\n",
    "                    )\n",
    "                    del element.attrib[attr]\n",
    "\n",
    "            # Validate path elements to help ensure SVG conversion\n",
    "            if tag_name == 'path':\n",
    "                d_attribute = element.get('d')\n",
    "                if not d_attribute:\n",
    "                    logging.warning('Path element is missing \"d\" attribute. Removing path.')\n",
    "                    elements_to_remove.append(element)\n",
    "                    continue # Skip further checks for this removed element\n",
    "                # Use regex to validate 'd' attribute format\n",
    "                path_regex = re2.compile(\n",
    "                    r'^'  # Start of string\n",
    "                    r'(?:'  # Non-capturing group for each command + numbers block\n",
    "                    r'[MmZzLlHhVvCcSsQqTtAa]'  # Valid SVG path commands (adjusted to exclude extra letters)\n",
    "                    r'\\s*'  # Optional whitespace after command\n",
    "                    r'(?:'  # Non-capturing group for optional numbers\n",
    "                    r'-?\\d+(?:\\.\\d+)?(?:[Ee][+-]?\\d+)?'  # First number\n",
    "                    r'(?:[\\s,]+-?\\d+(?:\\.\\d+)?(?:[Ee][+-]?\\d+)?)*'  # Subsequent numbers with mandatory separator(s)\n",
    "                    r')?'  # Numbers are optional (e.g. for Z command)\n",
    "                    r'\\s*'  # Optional whitespace after numbers/command block\n",
    "                    r')+'  # One or more command blocks\n",
    "                    r'\\s*'  # Optional trailing whitespace\n",
    "                    r'$'  # End of string\n",
    "                )\n",
    "                if not path_regex.match(d_attribute):\n",
    "                    logging.warning(\n",
    "                        'Path element has malformed \"d\" attribute format. Removing path.'\n",
    "                    )\n",
    "                    elements_to_remove.append(element)\n",
    "                    continue\n",
    "                logging.debug('Path element \"d\" attribute validated (regex check).')\n",
    "        \n",
    "        # Remove elements marked for removal\n",
    "        for element in elements_to_remove:\n",
    "            if element.getparent() is not None:\n",
    "                element.getparent().remove(element)\n",
    "                logging.debug('Removed element: %s', element.tag)\n",
    "\n",
    "        try:\n",
    "            cleaned_svg_string = etree.tostring(root, encoding='unicode')\n",
    "            return cleaned_svg_string\n",
    "        except ValueError as e:\n",
    "            logging.error(\n",
    "                'SVG could not be sanitized to meet constraints: %s', e\n",
    "            )\n",
    "            return self.default_svg"
   ]
  },
  {
   "cell_type": "code",
   "execution_count": 11,
   "id": "3356bcf6",
   "metadata": {
    "execution": {
     "iopub.execute_input": "2025-03-22T12:01:19.761992Z",
     "iopub.status.busy": "2025-03-22T12:01:19.761692Z",
     "iopub.status.idle": "2025-03-22T12:01:19.889588Z",
     "shell.execute_reply": "2025-03-22T12:01:19.888788Z"
    },
    "papermill": {
     "duration": 0.134074,
     "end_time": "2025-03-22T12:01:19.890983",
     "exception": false,
     "start_time": "2025-03-22T12:01:19.756909",
     "status": "completed"
    },
    "tags": []
   },
   "outputs": [
    {
     "name": "stdout",
     "output_type": "stream",
     "text": [
      "/kaggle/working\r\n"
     ]
    }
   ],
   "source": [
    "!pwd"
   ]
  },
  {
   "cell_type": "code",
   "execution_count": 12,
   "id": "e28b93ce",
   "metadata": {
    "execution": {
     "iopub.execute_input": "2025-03-22T12:01:19.900469Z",
     "iopub.status.busy": "2025-03-22T12:01:19.900230Z",
     "iopub.status.idle": "2025-03-22T12:01:20.029022Z",
     "shell.execute_reply": "2025-03-22T12:01:20.028248Z"
    },
    "papermill": {
     "duration": 0.135045,
     "end_time": "2025-03-22T12:01:20.030348",
     "exception": false,
     "start_time": "2025-03-22T12:01:19.895303",
     "status": "completed"
    },
    "tags": []
   },
   "outputs": [
    {
     "name": "stdout",
     "output_type": "stream",
     "text": [
      "\u001b[0m\u001b[01;34mkaggle_evaluation\u001b[0m/  questions.parquet  train.csv\r\n"
     ]
    }
   ],
   "source": [
    "ls /kaggle/input/drawing-with-llms/published"
   ]
  },
  {
   "cell_type": "code",
   "execution_count": 13,
   "id": "4adeb6e1",
   "metadata": {
    "execution": {
     "iopub.execute_input": "2025-03-22T12:01:20.039891Z",
     "iopub.status.busy": "2025-03-22T12:01:20.039669Z",
     "iopub.status.idle": "2025-03-22T12:01:20.045429Z",
     "shell.execute_reply": "2025-03-22T12:01:20.044740Z"
    },
    "papermill": {
     "duration": 0.011979,
     "end_time": "2025-03-22T12:01:20.046705",
     "exception": false,
     "start_time": "2025-03-22T12:01:20.034726",
     "status": "completed"
    },
    "tags": []
   },
   "outputs": [
    {
     "name": "stdout",
     "output_type": "stream",
     "text": [
      "/kaggle/input/drawing-with-llms/published\n"
     ]
    }
   ],
   "source": [
    "cd /kaggle/input/drawing-with-llms/published"
   ]
  },
  {
   "cell_type": "code",
   "execution_count": 14,
   "id": "5e2f118e",
   "metadata": {
    "execution": {
     "iopub.execute_input": "2025-03-22T12:01:20.055930Z",
     "iopub.status.busy": "2025-03-22T12:01:20.055705Z",
     "iopub.status.idle": "2025-03-22T12:01:20.181549Z",
     "shell.execute_reply": "2025-03-22T12:01:20.180793Z"
    },
    "papermill": {
     "duration": 0.131784,
     "end_time": "2025-03-22T12:01:20.182801",
     "exception": false,
     "start_time": "2025-03-22T12:01:20.051017",
     "status": "completed"
    },
    "tags": []
   },
   "outputs": [
    {
     "name": "stdout",
     "output_type": "stream",
     "text": [
      "\u001b[0m\u001b[01;34mkaggle_evaluation\u001b[0m/  questions.parquet  train.csv\r\n"
     ]
    }
   ],
   "source": [
    "ls"
   ]
  },
  {
   "cell_type": "markdown",
   "id": "f9815ede",
   "metadata": {
    "papermill": {
     "duration": 0.004231,
     "end_time": "2025-03-22T12:01:20.191638",
     "exception": false,
     "start_time": "2025-03-22T12:01:20.187407",
     "status": "completed"
    },
    "tags": []
   },
   "source": [
    "The following code tests the above model in a local mock-up of this competition's evaluation pipeline. It runs the model on a sample of 15 instances defined in the `test.csv` file in the `kaggle_evaluation` package folder."
   ]
  },
  {
   "cell_type": "code",
   "execution_count": 15,
   "id": "145d73cd",
   "metadata": {
    "execution": {
     "iopub.execute_input": "2025-03-22T12:01:20.200996Z",
     "iopub.status.busy": "2025-03-22T12:01:20.200785Z",
     "iopub.status.idle": "2025-03-22T12:08:48.775796Z",
     "shell.execute_reply": "2025-03-22T12:08:48.774732Z"
    },
    "papermill": {
     "duration": 448.581258,
     "end_time": "2025-03-22T12:08:48.777169",
     "exception": false,
     "start_time": "2025-03-22T12:01:20.195911",
     "status": "completed"
    },
    "tags": []
   },
   "outputs": [
    {
     "name": "stdout",
     "output_type": "stream",
     "text": [
      "Creating Model instance...\n"
     ]
    },
    {
     "data": {
      "application/vnd.jupyter.widget-view+json": {
       "model_id": "2cbb7b1f9e904e5e837dfdd245563901",
       "version_major": 2,
       "version_minor": 0
      },
      "text/plain": [
       "Loading checkpoint shards:   0%|          | 0/4 [00:00<?, ?it/s]"
      ]
     },
     "metadata": {},
     "output_type": "display_data"
    },
    {
     "name": "stdout",
     "output_type": "stream",
     "text": [
      "Running inference tests...\n",
      "GETPREDICT: 8021f8 - an aubergine satin neckerchief with fringed edges\n"
     ]
    },
    {
     "name": "stderr",
     "output_type": "stream",
     "text": [
      "The 'batch_size' attribute of HybridCache is deprecated and will be removed in v4.49. Use the more precisely named 'self.max_batch_size' attribute instead.\n",
      "INFO:root:Sanitizing SVG...\n"
     ]
    },
    {
     "name": "stdout",
     "output_type": "stream",
     "text": [
      "GOTPREDICT: 8021f8\n",
      "GETPREDICT: 98051e - ginger ribbed dungarees\n"
     ]
    },
    {
     "name": "stderr",
     "output_type": "stream",
     "text": [
      "INFO:root:Sanitizing SVG...\n"
     ]
    },
    {
     "name": "stdout",
     "output_type": "stream",
     "text": [
      "GOTPREDICT: 98051e\n",
      "GETPREDICT: de29af - mountain vistas\n"
     ]
    },
    {
     "name": "stderr",
     "output_type": "stream",
     "text": [
      "INFO:root:Sanitizing SVG...\n"
     ]
    },
    {
     "name": "stdout",
     "output_type": "stream",
     "text": [
      "GOTPREDICT: de29af\n",
      "GETPREDICT: 4e4c8b - an emerald lake beneath an overcast sky\n"
     ]
    },
    {
     "name": "stderr",
     "output_type": "stream",
     "text": [
      "INFO:root:Sanitizing SVG...\n"
     ]
    },
    {
     "name": "stdout",
     "output_type": "stream",
     "text": [
      "GOTPREDICT: 4e4c8b\n",
      "GETPREDICT: 80caae - a beacon tower facing the sea\n"
     ]
    },
    {
     "name": "stderr",
     "output_type": "stream",
     "text": [
      "INFO:root:Sanitizing SVG...\n"
     ]
    },
    {
     "name": "stdout",
     "output_type": "stream",
     "text": [
      "GOTPREDICT: 80caae\n",
      "GETPREDICT: 8a64e9 - chestnut ribbed pants with cargo pockets and pewter clasps\n"
     ]
    },
    {
     "name": "stderr",
     "output_type": "stream",
     "text": [
      "INFO:root:Sanitizing SVG...\n"
     ]
    },
    {
     "name": "stdout",
     "output_type": "stream",
     "text": [
      "GOTPREDICT: 8a64e9\n",
      "GETPREDICT: 9458c7 - ivory and ebony harlequin trousers\n"
     ]
    },
    {
     "name": "stderr",
     "output_type": "stream",
     "text": [
      "INFO:root:Sanitizing SVG...\n"
     ]
    },
    {
     "name": "stdout",
     "output_type": "stream",
     "text": [
      "GOTPREDICT: 9458c7\n",
      "GETPREDICT: aa0206 - a violet wood as evening falls\n"
     ]
    },
    {
     "name": "stderr",
     "output_type": "stream",
     "text": [
      "INFO:root:Sanitizing SVG...\n"
     ]
    },
    {
     "name": "stdout",
     "output_type": "stream",
     "text": [
      "GOTPREDICT: aa0206\n",
      "GETPREDICT: 91f5df - a wine-colored 12-sided shape connected by turquoise strands\n"
     ]
    },
    {
     "name": "stderr",
     "output_type": "stream",
     "text": [
      "INFO:root:Sanitizing SVG...\n"
     ]
    },
    {
     "name": "stdout",
     "output_type": "stream",
     "text": [
      "GOTPREDICT: 91f5df\n",
      "GETPREDICT: dbaddf - an expanse of white desert\n"
     ]
    },
    {
     "name": "stderr",
     "output_type": "stream",
     "text": [
      "INFO:root:Sanitizing SVG...\n"
     ]
    },
    {
     "name": "stdout",
     "output_type": "stream",
     "text": [
      "GOTPREDICT: dbaddf\n",
      "GETPREDICT: c73bb3 - tan polygons and sky-blue arcs\n"
     ]
    },
    {
     "name": "stderr",
     "output_type": "stream",
     "text": [
      "INFO:root:Sanitizing SVG...\n"
     ]
    },
    {
     "name": "stdout",
     "output_type": "stream",
     "text": [
      "GOTPREDICT: c73bb3\n",
      "GETPREDICT: 4d552b - charcoal cashmere overcoat with a synthetic fur lining\n"
     ]
    },
    {
     "name": "stderr",
     "output_type": "stream",
     "text": [
      "INFO:root:Sanitizing SVG...\n"
     ]
    },
    {
     "name": "stdout",
     "output_type": "stream",
     "text": [
      "GOTPREDICT: 4d552b\n",
      "GETPREDICT: 279f7b - scarlet squares in a disordered array\n"
     ]
    },
    {
     "name": "stderr",
     "output_type": "stream",
     "text": [
      "INFO:root:Sanitizing SVG...\n"
     ]
    },
    {
     "name": "stdout",
     "output_type": "stream",
     "text": [
      "GOTPREDICT: 279f7b\n",
      "GETPREDICT: 0168f2 - fuchsia parallelograms over a shimmering tin surface\n"
     ]
    },
    {
     "name": "stderr",
     "output_type": "stream",
     "text": [
      "INFO:root:Sanitizing SVG...\n"
     ]
    },
    {
     "name": "stdout",
     "output_type": "stream",
     "text": [
      "GOTPREDICT: 0168f2\n",
      "GETPREDICT: c828f0 - indigo prisms circling a copper spire\n"
     ]
    },
    {
     "name": "stderr",
     "output_type": "stream",
     "text": [
      "INFO:root:Sanitizing SVG...\n"
     ]
    },
    {
     "name": "stdout",
     "output_type": "stream",
     "text": [
      "GOTPREDICT: c828f0\n",
      "Wrote test submission file to \"/tmp/kaggle-evaluation-submission-altng0ey.csv\".\n",
      "Success!\n"
     ]
    }
   ],
   "source": [
    "import kaggle_evaluation\n",
    "\n",
    "logging.basicConfig(level=logging.INFO, force=True)\n",
    "kaggle_evaluation.test(Model)"
   ]
  },
  {
   "cell_type": "markdown",
   "id": "1919ae9d",
   "metadata": {
    "papermill": {
     "duration": 0.005874,
     "end_time": "2025-03-22T12:08:48.789654",
     "exception": false,
     "start_time": "2025-03-22T12:08:48.783780",
     "status": "completed"
    },
    "tags": []
   },
   "source": [
    "Alternatively, you could use the code below to run the model over `train.csv` and see some generated images along with some debugging info. Feel free to turn down the logging level to `INFO` if you just want to see the images."
   ]
  },
  {
   "cell_type": "code",
   "execution_count": 16,
   "id": "f421657e",
   "metadata": {
    "execution": {
     "iopub.execute_input": "2025-03-22T12:08:48.804124Z",
     "iopub.status.busy": "2025-03-22T12:08:48.803580Z",
     "iopub.status.idle": "2025-03-22T12:15:57.256519Z",
     "shell.execute_reply": "2025-03-22T12:15:57.255744Z"
    },
    "papermill": {
     "duration": 428.46229,
     "end_time": "2025-03-22T12:15:57.257810",
     "exception": false,
     "start_time": "2025-03-22T12:08:48.795520",
     "status": "completed"
    },
    "tags": []
   },
   "outputs": [
    {
     "data": {
      "text/html": [
       "<div><style>\n",
       ".dataframe > thead > tr,\n",
       ".dataframe > tbody > tr {\n",
       "  text-align: right;\n",
       "  white-space: pre-wrap;\n",
       "}\n",
       "</style>\n",
       "<small>shape: (5, 2)</small><table border=\"1\" class=\"dataframe\"><thead><tr><th>id</th><th>description</th></tr><tr><td>str</td><td>str</td></tr></thead><tbody><tr><td>&quot;02d892&quot;</td><td>&quot;a purple forest at dusk&quot;</td></tr><tr><td>&quot;0dcd2e&quot;</td><td>&quot;gray wool coat with a faux fur…</td></tr><tr><td>&quot;1e9ac1&quot;</td><td>&quot;a lighthouse overlooking the o…</td></tr><tr><td>&quot;2b25db&quot;</td><td>&quot;burgundy corduroy pants with p…</td></tr><tr><td>&quot;4e6a54&quot;</td><td>&quot;orange corduroy overalls&quot;</td></tr></tbody></table></div>"
      ],
      "text/plain": [
       "shape: (5, 2)\n",
       "┌────────┬─────────────────────────────────┐\n",
       "│ id     ┆ description                     │\n",
       "│ ---    ┆ ---                             │\n",
       "│ str    ┆ str                             │\n",
       "╞════════╪═════════════════════════════════╡\n",
       "│ 02d892 ┆ a purple forest at dusk         │\n",
       "│ 0dcd2e ┆ gray wool coat with a faux fur… │\n",
       "│ 1e9ac1 ┆ a lighthouse overlooking the o… │\n",
       "│ 2b25db ┆ burgundy corduroy pants with p… │\n",
       "│ 4e6a54 ┆ orange corduroy overalls        │\n",
       "└────────┴─────────────────────────────────┘"
      ]
     },
     "metadata": {},
     "output_type": "display_data"
    },
    {
     "name": "stderr",
     "output_type": "stream",
     "text": [
      "DEBUG:urllib3.connectionpool:Starting new HTTPS connection (1): dp.kaggle.net:443\n",
      "DEBUG:urllib3.connectionpool:https://dp.kaggle.net:443 \"POST /kaggle-jwt-handler/AttachDatasourceUsingJwtRequest HTTP/1.1\" 200 None\n"
     ]
    },
    {
     "data": {
      "application/vnd.jupyter.widget-view+json": {
       "model_id": "486015530dcc47e3bd92f7d41cca153c",
       "version_major": 2,
       "version_minor": 0
      },
      "text/plain": [
       "Loading checkpoint shards:   0%|          | 0/4 [00:00<?, ?it/s]"
      ]
     },
     "metadata": {},
     "output_type": "display_data"
    },
    {
     "name": "stderr",
     "output_type": "stream",
     "text": [
      "DEBUG:root:Output decoded from model: Generate SVG code to visually represent the following text description, while respecting the given constraints.\n",
      "<constraints>\n",
      "* **Allowed Elements:** `svg`, `path`, `circle`, `rect`, `ellipse`, `line`, `polyline`, `polygon`, `g`, `linearGradient`, `radialGradient`, `stop`, `defs`\n",
      "* **Allowed Attributes:** `viewBox`, `width`, `height`, `fill`, `stroke`, `stroke-width`, `d`, `cx`, `cy`, `r`, `x`, `y`, `rx`, `ry`, `x1`, `y1`, `x2`, `y2`, `points`, `transform`, `opacity`\n",
      "</constraints>\n",
      "\n",
      "<example>\n",
      "<description>\"A red circle with a blue square inside\"</description>\n",
      "```svg\n",
      "<svg viewBox=\"0 0 256 256\" width=\"256\" height=\"256\">\n",
      "  <circle cx=\"50\" cy=\"50\" r=\"40\" fill=\"red\"/>\n",
      "  <rect x=\"30\" y=\"30\" width=\"40\" height=\"40\" fill=\"blue\"/>\n",
      "</svg>\n",
      "```\n",
      "</example>\n",
      "\n",
      "\n",
      "Please ensure that the generated SVG code is well-formed, valid, and strictly adheres to these constraints. Focus on a clear and concise representation of the input description within the given limitations. Always give the complete SVG code with nothing omitted. Never use an ellipsis.\n",
      "\n",
      "<description>\"a purple forest at dusk\"</description>\n",
      "```svg\n",
      "<svg viewBox=\"0 0 256 256\" width=\"256\" height=\"256\">\n",
      "  <rect x=\"0\" y=\"0\" width=\"256\" height=\"256\" fill=\"purple\"/>\n",
      "  <g>\n",
      "    <rect x=\"50\" y=\"50\" width=\"40\" height=\"80\" fill=\"darker purple\"/>\n",
      "    <rect x=\"120\" y=\"80\" width=\"30\" height=\"60\" fill=\"darker purple\"/>\n",
      "    <rect x=\"180\" y=\"30\" width=\"50\" height=\"90\" fill=\"darker purple\"/>\n",
      "  </g>\n",
      "</svg>\n",
      "```\n",
      "\n",
      "\n",
      "\n",
      "\n",
      "DEBUG:root:Unprocessed SVG: <svg viewBox=\"0 0 256 256\" width=\"256\" height=\"256\">\n",
      "  <rect x=\"0\" y=\"0\" width=\"256\" height=\"256\" fill=\"purple\"/>\n",
      "  <g>\n",
      "    <rect x=\"50\" y=\"50\" width=\"40\" height=\"80\" fill=\"darker purple\"/>\n",
      "    <rect x=\"120\" y=\"80\" width=\"30\" height=\"60\" fill=\"darker purple\"/>\n",
      "    <rect x=\"180\" y=\"30\" width=\"50\" height=\"90\" fill=\"darker purple\"/>\n",
      "  </g>\n",
      "</svg>\n",
      "INFO:root:Sanitizing SVG...\n",
      "DEBUG:root:Processed SVG: <svg viewBox=\"0 0 256 256\" width=\"256\" height=\"256\"><rect x=\"0\" y=\"0\" width=\"256\" height=\"256\" fill=\"purple\"/><g><rect x=\"50\" y=\"50\" width=\"40\" height=\"80\" fill=\"darker purple\"/><rect x=\"120\" y=\"80\" width=\"30\" height=\"60\" fill=\"darker purple\"/><rect x=\"180\" y=\"30\" width=\"50\" height=\"90\" fill=\"darker purple\"/></g></svg>\n"
     ]
    },
    {
     "name": "stdout",
     "output_type": "stream",
     "text": [
      "Prediction time for description 'a purple forest at d...': 18.5139 seconds\n"
     ]
    },
    {
     "data": {
      "image/svg+xml": [
       "<svg viewBox=\"0 0 256 256\" width=\"256\" height=\"256\"><rect x=\"0\" y=\"0\" width=\"256\" height=\"256\" fill=\"purple\"/><g><rect x=\"50\" y=\"50\" width=\"40\" height=\"80\" fill=\"darker purple\"/><rect x=\"120\" y=\"80\" width=\"30\" height=\"60\" fill=\"darker purple\"/><rect x=\"180\" y=\"30\" width=\"50\" height=\"90\" fill=\"darker purple\"/></g></svg>"
      ],
      "text/plain": [
       "<IPython.core.display.SVG object>"
      ]
     },
     "metadata": {},
     "output_type": "display_data"
    },
    {
     "name": "stderr",
     "output_type": "stream",
     "text": [
      "DEBUG:root:Output decoded from model: Generate SVG code to visually represent the following text description, while respecting the given constraints.\n",
      "<constraints>\n",
      "* **Allowed Elements:** `svg`, `path`, `circle`, `rect`, `ellipse`, `line`, `polyline`, `polygon`, `g`, `linearGradient`, `radialGradient`, `stop`, `defs`\n",
      "* **Allowed Attributes:** `viewBox`, `width`, `height`, `fill`, `stroke`, `stroke-width`, `d`, `cx`, `cy`, `r`, `x`, `y`, `rx`, `ry`, `x1`, `y1`, `x2`, `y2`, `points`, `transform`, `opacity`\n",
      "</constraints>\n",
      "\n",
      "<example>\n",
      "<description>\"A red circle with a blue square inside\"</description>\n",
      "```svg\n",
      "<svg viewBox=\"0 0 256 256\" width=\"256\" height=\"256\">\n",
      "  <circle cx=\"50\" cy=\"50\" r=\"40\" fill=\"red\"/>\n",
      "  <rect x=\"30\" y=\"30\" width=\"40\" height=\"40\" fill=\"blue\"/>\n",
      "</svg>\n",
      "```\n",
      "</example>\n",
      "\n",
      "\n",
      "Please ensure that the generated SVG code is well-formed, valid, and strictly adheres to these constraints. Focus on a clear and concise representation of the input description within the given limitations. Always give the complete SVG code with nothing omitted. Never use an ellipsis.\n",
      "\n",
      "<description>\"gray wool coat with a faux fur collar\"</description>\n",
      "```svg\n",
      "<svg viewBox=\"0 0 256 256\" width=\"256\" height=\"256\">\n",
      "  <rect x=\"50\" y=\"50\" width=\"156\" height=\"156\" fill=\"gray\"/>\n",
      "  <rect x=\"50\" y=\"20\" width=\"100\" height=\"30\" fill=\"white\" rx=\"15\" ry=\"15\"/> \n",
      "</svg>\n",
      "```\n",
      "\n",
      "\n",
      "\n",
      "\n",
      "DEBUG:root:Unprocessed SVG: <svg viewBox=\"0 0 256 256\" width=\"256\" height=\"256\">\n",
      "  <rect x=\"50\" y=\"50\" width=\"156\" height=\"156\" fill=\"gray\"/>\n",
      "  <rect x=\"50\" y=\"20\" width=\"100\" height=\"30\" fill=\"white\" rx=\"15\" ry=\"15\"/> \n",
      "</svg>\n",
      "INFO:root:Sanitizing SVG...\n",
      "DEBUG:root:Processed SVG: <svg viewBox=\"0 0 256 256\" width=\"256\" height=\"256\"><rect x=\"50\" y=\"50\" width=\"156\" height=\"156\" fill=\"gray\"/><rect x=\"50\" y=\"20\" width=\"100\" height=\"30\" fill=\"white\" rx=\"15\" ry=\"15\"/></svg>\n"
     ]
    },
    {
     "name": "stdout",
     "output_type": "stream",
     "text": [
      "Prediction time for description 'gray wool coat with ...': 10.9298 seconds\n"
     ]
    },
    {
     "data": {
      "image/svg+xml": [
       "<svg viewBox=\"0 0 256 256\" width=\"256\" height=\"256\"><rect x=\"50\" y=\"50\" width=\"156\" height=\"156\" fill=\"gray\"/><rect x=\"50\" y=\"20\" width=\"100\" height=\"30\" fill=\"white\" rx=\"15\" ry=\"15\"/></svg>"
      ],
      "text/plain": [
       "<IPython.core.display.SVG object>"
      ]
     },
     "metadata": {},
     "output_type": "display_data"
    },
    {
     "name": "stderr",
     "output_type": "stream",
     "text": [
      "DEBUG:root:Output decoded from model: Generate SVG code to visually represent the following text description, while respecting the given constraints.\n",
      "<constraints>\n",
      "* **Allowed Elements:** `svg`, `path`, `circle`, `rect`, `ellipse`, `line`, `polyline`, `polygon`, `g`, `linearGradient`, `radialGradient`, `stop`, `defs`\n",
      "* **Allowed Attributes:** `viewBox`, `width`, `height`, `fill`, `stroke`, `stroke-width`, `d`, `cx`, `cy`, `r`, `x`, `y`, `rx`, `ry`, `x1`, `y1`, `x2`, `y2`, `points`, `transform`, `opacity`\n",
      "</constraints>\n",
      "\n",
      "<example>\n",
      "<description>\"A red circle with a blue square inside\"</description>\n",
      "```svg\n",
      "<svg viewBox=\"0 0 256 256\" width=\"256\" height=\"256\">\n",
      "  <circle cx=\"50\" cy=\"50\" r=\"40\" fill=\"red\"/>\n",
      "  <rect x=\"30\" y=\"30\" width=\"40\" height=\"40\" fill=\"blue\"/>\n",
      "</svg>\n",
      "```\n",
      "</example>\n",
      "\n",
      "\n",
      "Please ensure that the generated SVG code is well-formed, valid, and strictly adheres to these constraints. Focus on a clear and concise representation of the input description within the given limitations. Always give the complete SVG code with nothing omitted. Never use an ellipsis.\n",
      "\n",
      "<description>\"a lighthouse overlooking the ocean\"</description>\n",
      "```svg\n",
      "<svg viewBox=\"0 0 256 256\" width=\"256\" height=\"256\">\n",
      "  <rect x=\"100\" y=\"180\" width=\"56\" height=\"76\" fill=\"black\"/>\n",
      "  <circle cx=\"128\" cy=\"100\" r=\"30\" fill=\"white\"/>\n",
      "  <circle cx=\"128\" cy=\"80\" r=\"10\" fill=\"black\"/>\n",
      "  <rect x=\"70\" y=\"180\" width=\"30\" height=\"20\" fill=\"black\"/>\n",
      "  <path d=\"M80,180 Q 120,120, 160,180\"/>\n",
      "<line x1=\"80\" y1=\"180\" x2=\"80\" y2=\"256\" stroke=\"black\" stroke-width=\"3\"/>\n",
      "  <path d=\"M160,180 Q 120,220, 80,180\"/>\n",
      "  <circle cx=\"128\" cy=\"200\" r=\"8\" fill=\"black\"/>\n",
      "  <circle cx=\"128\" cy=\"210\" r=\"8\" fill=\"black\"/>\n",
      "</svg>\n",
      "\n",
      "\n",
      "\n",
      "```\n",
      "\n",
      "```svg\n",
      "<svg viewBox=\"0 0 256 256\" width=\"256\" height=\"256\">\n",
      "  <path d=\"M56 200 L100 200 Q 100,140, 150,200 L200 200 Q 200,280,150,280 Q 100,280, 56,200 Z\" fill=\"gray\" opacity=\".5\"/>\n",
      "  <rect x=\"64\" y=\"80\" width=\"128\" height=\"80\" fill=\"white\"/>\n",
      "  <polygon points=\"80,140 100,60 120,140\" fill=\"black\"/>\n",
      "  <circle cx=\"100\" cy=\"50\" r=\"10\" fill=\"black\"/>\n",
      "  \n",
      "</svg>\n",
      "\n",
      "```\n",
      "\n",
      "\n",
      "\n",
      "\n",
      "  \n",
      "\n",
      "DEBUG:root:Unprocessed SVG: <svg viewBox=\"0 0 256 256\" width=\"256\" height=\"256\">\n",
      "  <path d=\"M56 200 L100 200 Q 100,140, 150,200 L200 200 Q 200,280,150,280 Q 100,280, 56,200 Z\" fill=\"gray\" opacity=\".5\"/>\n",
      "  <rect x=\"64\" y=\"80\" width=\"128\" height=\"80\" fill=\"white\"/>\n",
      "  <polygon points=\"80,140 100,60 120,140\" fill=\"black\"/>\n",
      "  <circle cx=\"100\" cy=\"50\" r=\"10\" fill=\"black\"/>\n",
      "  \n",
      "</svg>\n",
      "INFO:root:Sanitizing SVG...\n",
      "DEBUG:root:Path element \"d\" attribute validated (regex check).\n",
      "DEBUG:root:Processed SVG: <svg viewBox=\"0 0 256 256\" width=\"256\" height=\"256\"><path d=\"M56 200 L100 200 Q 100,140, 150,200 L200 200 Q 200,280,150,280 Q 100,280, 56,200 Z\" fill=\"gray\" opacity=\".5\"/><rect x=\"64\" y=\"80\" width=\"128\" height=\"80\" fill=\"white\"/><polygon points=\"80,140 100,60 120,140\" fill=\"black\"/><circle cx=\"100\" cy=\"50\" r=\"10\" fill=\"black\"/></svg>\n"
     ]
    },
    {
     "name": "stdout",
     "output_type": "stream",
     "text": [
      "Prediction time for description 'a lighthouse overloo...': 63.7298 seconds\n"
     ]
    },
    {
     "data": {
      "image/svg+xml": [
       "<svg viewBox=\"0 0 256 256\" width=\"256\" height=\"256\"><path d=\"M56 200 L100 200 Q 100,140, 150,200 L200 200 Q 200,280,150,280 Q 100,280, 56,200 Z\" fill=\"gray\" opacity=\".5\"/><rect x=\"64\" y=\"80\" width=\"128\" height=\"80\" fill=\"white\"/><polygon points=\"80,140 100,60 120,140\" fill=\"black\"/><circle cx=\"100\" cy=\"50\" r=\"10\" fill=\"black\"/></svg>"
      ],
      "text/plain": [
       "<IPython.core.display.SVG object>"
      ]
     },
     "metadata": {},
     "output_type": "display_data"
    },
    {
     "name": "stderr",
     "output_type": "stream",
     "text": [
      "DEBUG:root:Output decoded from model: Generate SVG code to visually represent the following text description, while respecting the given constraints.\n",
      "<constraints>\n",
      "* **Allowed Elements:** `svg`, `path`, `circle`, `rect`, `ellipse`, `line`, `polyline`, `polygon`, `g`, `linearGradient`, `radialGradient`, `stop`, `defs`\n",
      "* **Allowed Attributes:** `viewBox`, `width`, `height`, `fill`, `stroke`, `stroke-width`, `d`, `cx`, `cy`, `r`, `x`, `y`, `rx`, `ry`, `x1`, `y1`, `x2`, `y2`, `points`, `transform`, `opacity`\n",
      "</constraints>\n",
      "\n",
      "<example>\n",
      "<description>\"A red circle with a blue square inside\"</description>\n",
      "```svg\n",
      "<svg viewBox=\"0 0 256 256\" width=\"256\" height=\"256\">\n",
      "  <circle cx=\"50\" cy=\"50\" r=\"40\" fill=\"red\"/>\n",
      "  <rect x=\"30\" y=\"30\" width=\"40\" height=\"40\" fill=\"blue\"/>\n",
      "</svg>\n",
      "```\n",
      "</example>\n",
      "\n",
      "\n",
      "Please ensure that the generated SVG code is well-formed, valid, and strictly adheres to these constraints. Focus on a clear and concise representation of the input description within the given limitations. Always give the complete SVG code with nothing omitted. Never use an ellipsis.\n",
      "\n",
      "<description>\"burgundy corduroy pants with patch pockets and silver buttons\"</description>\n",
      "```svg\n",
      "<svg viewBox=\"0 0 256 256\" width=\"256\" height=\"256\">\n",
      "  <rect x=\"0\" y=\"0\" width=\"256\" height=\"256\" fill=\"url(#burgundyCorduroy)\"/>\n",
      "  <defs>\n",
      "    <linearGradient id=\"burgundyCorduroy\" x1=\"0\" y1=\"0\" x2=\"1\" y2=\"0\">\n",
      "      <stop offset=\"0%\" stop-color=\"darkred\" />\n",
      "      <stop offset=\"100%\" stop-color=\"burlywood\" />\n",
      "    </linearGradient>\n",
      "  </defs>\n",
      "</svg>\n",
      "```\n",
      "\n",
      "\n",
      "\n",
      "```svg\n",
      "<svg viewBox=\"0 0 256 256\" width=\"256\" height=\"256\">\n",
      "  <rect x=\"0\" y=\"0\" width=\"256\" height=\"256\" fill=\"darkred\"/>\n",
      "  <rect x=\"48\" y=\"48\" width=\"24\" height=\"80\" fill=\"white\"/>\n",
      "  <rect x=\"104\" y=\"48\" width=\"24\" height=\"80\" fill=\"white\"/>\n",
      "  <circle cx=\"64\" cy=\"72\" r=\"6\" fill=\"silver\"/>\n",
      "  <circle cx=\"120\" cy=\"72\" r=\"6\" fill=\"silver\"/>\n",
      "\n",
      "</svg>\n",
      "\n",
      "\n",
      "```\n",
      "\n",
      "DEBUG:root:Unprocessed SVG: <svg viewBox=\"0 0 256 256\" width=\"256\" height=\"256\">\n",
      "  <rect x=\"0\" y=\"0\" width=\"256\" height=\"256\" fill=\"darkred\"/>\n",
      "  <rect x=\"48\" y=\"48\" width=\"24\" height=\"80\" fill=\"white\"/>\n",
      "  <rect x=\"104\" y=\"48\" width=\"24\" height=\"80\" fill=\"white\"/>\n",
      "  <circle cx=\"64\" cy=\"72\" r=\"6\" fill=\"silver\"/>\n",
      "  <circle cx=\"120\" cy=\"72\" r=\"6\" fill=\"silver\"/>\n",
      "\n",
      "</svg>\n",
      "INFO:root:Sanitizing SVG...\n",
      "DEBUG:root:Processed SVG: <svg viewBox=\"0 0 256 256\" width=\"256\" height=\"256\"><rect x=\"0\" y=\"0\" width=\"256\" height=\"256\" fill=\"darkred\"/><rect x=\"48\" y=\"48\" width=\"24\" height=\"80\" fill=\"white\"/><rect x=\"104\" y=\"48\" width=\"24\" height=\"80\" fill=\"white\"/><circle cx=\"64\" cy=\"72\" r=\"6\" fill=\"silver\"/><circle cx=\"120\" cy=\"72\" r=\"6\" fill=\"silver\"/></svg>\n"
     ]
    },
    {
     "name": "stdout",
     "output_type": "stream",
     "text": [
      "Prediction time for description 'burgundy corduroy pa...': 38.5315 seconds\n"
     ]
    },
    {
     "data": {
      "image/svg+xml": [
       "<svg viewBox=\"0 0 256 256\" width=\"256\" height=\"256\"><rect x=\"0\" y=\"0\" width=\"256\" height=\"256\" fill=\"darkred\"/><rect x=\"48\" y=\"48\" width=\"24\" height=\"80\" fill=\"white\"/><rect x=\"104\" y=\"48\" width=\"24\" height=\"80\" fill=\"white\"/><circle cx=\"64\" cy=\"72\" r=\"6\" fill=\"silver\"/><circle cx=\"120\" cy=\"72\" r=\"6\" fill=\"silver\"/></svg>"
      ],
      "text/plain": [
       "<IPython.core.display.SVG object>"
      ]
     },
     "metadata": {},
     "output_type": "display_data"
    },
    {
     "name": "stderr",
     "output_type": "stream",
     "text": [
      "DEBUG:root:Output decoded from model: Generate SVG code to visually represent the following text description, while respecting the given constraints.\n",
      "<constraints>\n",
      "* **Allowed Elements:** `svg`, `path`, `circle`, `rect`, `ellipse`, `line`, `polyline`, `polygon`, `g`, `linearGradient`, `radialGradient`, `stop`, `defs`\n",
      "* **Allowed Attributes:** `viewBox`, `width`, `height`, `fill`, `stroke`, `stroke-width`, `d`, `cx`, `cy`, `r`, `x`, `y`, `rx`, `ry`, `x1`, `y1`, `x2`, `y2`, `points`, `transform`, `opacity`\n",
      "</constraints>\n",
      "\n",
      "<example>\n",
      "<description>\"A red circle with a blue square inside\"</description>\n",
      "```svg\n",
      "<svg viewBox=\"0 0 256 256\" width=\"256\" height=\"256\">\n",
      "  <circle cx=\"50\" cy=\"50\" r=\"40\" fill=\"red\"/>\n",
      "  <rect x=\"30\" y=\"30\" width=\"40\" height=\"40\" fill=\"blue\"/>\n",
      "</svg>\n",
      "```\n",
      "</example>\n",
      "\n",
      "\n",
      "Please ensure that the generated SVG code is well-formed, valid, and strictly adheres to these constraints. Focus on a clear and concise representation of the input description within the given limitations. Always give the complete SVG code with nothing omitted. Never use an ellipsis.\n",
      "\n",
      "<description>\"orange corduroy overalls\"</description>\n",
      "```svg\n",
      "<svg viewBox=\"0 0 256 256\" width=\"256\" height=\"256\">\n",
      "  \n",
      "  <rect x=\"50\" y=\"50\" width=\"156\" height=\"106\" rx=\"10\" fill=\"orange\" stroke=\"black\" stroke-width=\"2\"/>\n",
      "  <linearGradient id=\"grad\" x1=\"0%\" y1=\"0%\" x2=\"0%\" y2=\"100%\">\n",
      "    <stop offset=\"0\" stop-color=\"#DAA520\" />\n",
      "    <stop offset=\"100\" stop-color=\"#FD8C00\" />\n",
      "  </linearGradient>\n",
      "  <rect x=\"50\" y=\"160\" width=\"106\" height=\"40\" rx=\"10\" fill=\"url(#grad)\" stroke=\"black\" stroke-width=\"2\"/>\n",
      "  <rect x=\"150\" y=\"160\" width=\"106\" height=\"40\" rx=\"10\" fill=\"url(#grad)\" stroke=\"black\" stroke-width=\"2\"/>\n",
      "\n",
      "</svg>\n",
      "```\n",
      "\n",
      "\n",
      "\n",
      "DEBUG:root:Unprocessed SVG: <svg viewBox=\"0 0 256 256\" width=\"256\" height=\"256\">\n",
      "  \n",
      "  <rect x=\"50\" y=\"50\" width=\"156\" height=\"106\" rx=\"10\" fill=\"orange\" stroke=\"black\" stroke-width=\"2\"/>\n",
      "  <linearGradient id=\"grad\" x1=\"0%\" y1=\"0%\" x2=\"0%\" y2=\"100%\">\n",
      "    <stop offset=\"0\" stop-color=\"#DAA520\" />\n",
      "    <stop offset=\"100\" stop-color=\"#FD8C00\" />\n",
      "  </linearGradient>\n",
      "  <rect x=\"50\" y=\"160\" width=\"106\" height=\"40\" rx=\"10\" fill=\"url(#grad)\" stroke=\"black\" stroke-width=\"2\"/>\n",
      "  <rect x=\"150\" y=\"160\" width=\"106\" height=\"40\" rx=\"10\" fill=\"url(#grad)\" stroke=\"black\" stroke-width=\"2\"/>\n",
      "\n",
      "</svg>\n",
      "INFO:root:Sanitizing SVG...\n",
      "DEBUG:root:Processed SVG: <svg viewBox=\"0 0 256 256\" width=\"256\" height=\"256\"><rect x=\"50\" y=\"50\" width=\"156\" height=\"106\" rx=\"10\" fill=\"orange\" stroke=\"black\" stroke-width=\"2\"/><linearGradient id=\"grad\" x1=\"0%\" y1=\"0%\" x2=\"0%\" y2=\"100%\"><stop offset=\"0\" stop-color=\"#DAA520\"/><stop offset=\"100\" stop-color=\"#FD8C00\"/></linearGradient><rect x=\"50\" y=\"160\" width=\"106\" height=\"40\" rx=\"10\" fill=\"url(#grad)\" stroke=\"black\" stroke-width=\"2\"/><rect x=\"150\" y=\"160\" width=\"106\" height=\"40\" rx=\"10\" fill=\"url(#grad)\" stroke=\"black\" stroke-width=\"2\"/></svg>\n"
     ]
    },
    {
     "name": "stdout",
     "output_type": "stream",
     "text": [
      "Prediction time for description 'orange corduroy over...': 29.7101 seconds\n"
     ]
    },
    {
     "data": {
      "image/svg+xml": [
       "<svg viewBox=\"0 0 256 256\" width=\"256\" height=\"256\"><rect x=\"50\" y=\"50\" width=\"156\" height=\"106\" rx=\"10\" fill=\"orange\" stroke=\"black\" stroke-width=\"2\"/><linearGradient id=\"grad\" x1=\"0%\" y1=\"0%\" x2=\"0%\" y2=\"100%\"><stop offset=\"0\" stop-color=\"#DAA520\"/><stop offset=\"100\" stop-color=\"#FD8C00\"/></linearGradient><rect x=\"50\" y=\"160\" width=\"106\" height=\"40\" rx=\"10\" fill=\"url(#grad)\" stroke=\"black\" stroke-width=\"2\"/><rect x=\"150\" y=\"160\" width=\"106\" height=\"40\" rx=\"10\" fill=\"url(#grad)\" stroke=\"black\" stroke-width=\"2\"/></svg>"
      ],
      "text/plain": [
       "<IPython.core.display.SVG object>"
      ]
     },
     "metadata": {},
     "output_type": "display_data"
    },
    {
     "name": "stderr",
     "output_type": "stream",
     "text": [
      "DEBUG:root:Output decoded from model: Generate SVG code to visually represent the following text description, while respecting the given constraints.\n",
      "<constraints>\n",
      "* **Allowed Elements:** `svg`, `path`, `circle`, `rect`, `ellipse`, `line`, `polyline`, `polygon`, `g`, `linearGradient`, `radialGradient`, `stop`, `defs`\n",
      "* **Allowed Attributes:** `viewBox`, `width`, `height`, `fill`, `stroke`, `stroke-width`, `d`, `cx`, `cy`, `r`, `x`, `y`, `rx`, `ry`, `x1`, `y1`, `x2`, `y2`, `points`, `transform`, `opacity`\n",
      "</constraints>\n",
      "\n",
      "<example>\n",
      "<description>\"A red circle with a blue square inside\"</description>\n",
      "```svg\n",
      "<svg viewBox=\"0 0 256 256\" width=\"256\" height=\"256\">\n",
      "  <circle cx=\"50\" cy=\"50\" r=\"40\" fill=\"red\"/>\n",
      "  <rect x=\"30\" y=\"30\" width=\"40\" height=\"40\" fill=\"blue\"/>\n",
      "</svg>\n",
      "```\n",
      "</example>\n",
      "\n",
      "\n",
      "Please ensure that the generated SVG code is well-formed, valid, and strictly adheres to these constraints. Focus on a clear and concise representation of the input description within the given limitations. Always give the complete SVG code with nothing omitted. Never use an ellipsis.\n",
      "\n",
      "<description>\"a purple silk scarf with tassel trim\"</description>\n",
      "```svg\n",
      "<svg viewBox=\"0 0 256 256\" width=\"256\" height=\"256\">\n",
      "  <rect x=\"20\" y=\"20\" width=\"216\" height=\"160\" fill=\"purple\" />\n",
      "  <line x1=\"140\" y1=\"100\" x2=\"140\" y2=\"110\" stroke=\"black\" stroke-width=\"2\"/>\n",
      "  <line x1=\"160\" y1=\"100\" x2=\"160\" y2=\"110\" stroke=\"black\" stroke-width=\"2\"/>\n",
      "  <ellipse cx=\"40\" cy=\"180\" rx=\"10\" ry=\"15\" fill=\"black\" />\n",
      "  <ellipse cx=\"190\" cy=\"180\" rx=\"10\" ry=\"15\" fill=\"black\" />\n",
      "\n",
      "</svg>\n",
      "```\n",
      "\n",
      "\n",
      "\n",
      "DEBUG:root:Unprocessed SVG: <svg viewBox=\"0 0 256 256\" width=\"256\" height=\"256\">\n",
      "  <rect x=\"20\" y=\"20\" width=\"216\" height=\"160\" fill=\"purple\" />\n",
      "  <line x1=\"140\" y1=\"100\" x2=\"140\" y2=\"110\" stroke=\"black\" stroke-width=\"2\"/>\n",
      "  <line x1=\"160\" y1=\"100\" x2=\"160\" y2=\"110\" stroke=\"black\" stroke-width=\"2\"/>\n",
      "  <ellipse cx=\"40\" cy=\"180\" rx=\"10\" ry=\"15\" fill=\"black\" />\n",
      "  <ellipse cx=\"190\" cy=\"180\" rx=\"10\" ry=\"15\" fill=\"black\" />\n",
      "\n",
      "</svg>\n",
      "INFO:root:Sanitizing SVG...\n",
      "DEBUG:root:Processed SVG: <svg viewBox=\"0 0 256 256\" width=\"256\" height=\"256\"><rect x=\"20\" y=\"20\" width=\"216\" height=\"160\" fill=\"purple\"/><line x1=\"140\" y1=\"100\" x2=\"140\" y2=\"110\" stroke=\"black\" stroke-width=\"2\"/><line x1=\"160\" y1=\"100\" x2=\"160\" y2=\"110\" stroke=\"black\" stroke-width=\"2\"/><ellipse cx=\"40\" cy=\"180\" rx=\"10\" ry=\"15\" fill=\"black\"/><ellipse cx=\"190\" cy=\"180\" rx=\"10\" ry=\"15\" fill=\"black\"/></svg>\n"
     ]
    },
    {
     "name": "stdout",
     "output_type": "stream",
     "text": [
      "Prediction time for description 'a purple silk scarf ...': 24.6336 seconds\n"
     ]
    },
    {
     "data": {
      "image/svg+xml": [
       "<svg viewBox=\"0 0 256 256\" width=\"256\" height=\"256\"><rect x=\"20\" y=\"20\" width=\"216\" height=\"160\" fill=\"purple\"/><line x1=\"140\" y1=\"100\" x2=\"140\" y2=\"110\" stroke=\"black\" stroke-width=\"2\"/><line x1=\"160\" y1=\"100\" x2=\"160\" y2=\"110\" stroke=\"black\" stroke-width=\"2\"/><ellipse cx=\"40\" cy=\"180\" rx=\"10\" ry=\"15\" fill=\"black\"/><ellipse cx=\"190\" cy=\"180\" rx=\"10\" ry=\"15\" fill=\"black\"/></svg>"
      ],
      "text/plain": [
       "<IPython.core.display.SVG object>"
      ]
     },
     "metadata": {},
     "output_type": "display_data"
    },
    {
     "name": "stderr",
     "output_type": "stream",
     "text": [
      "DEBUG:root:Output decoded from model: Generate SVG code to visually represent the following text description, while respecting the given constraints.\n",
      "<constraints>\n",
      "* **Allowed Elements:** `svg`, `path`, `circle`, `rect`, `ellipse`, `line`, `polyline`, `polygon`, `g`, `linearGradient`, `radialGradient`, `stop`, `defs`\n",
      "* **Allowed Attributes:** `viewBox`, `width`, `height`, `fill`, `stroke`, `stroke-width`, `d`, `cx`, `cy`, `r`, `x`, `y`, `rx`, `ry`, `x1`, `y1`, `x2`, `y2`, `points`, `transform`, `opacity`\n",
      "</constraints>\n",
      "\n",
      "<example>\n",
      "<description>\"A red circle with a blue square inside\"</description>\n",
      "```svg\n",
      "<svg viewBox=\"0 0 256 256\" width=\"256\" height=\"256\">\n",
      "  <circle cx=\"50\" cy=\"50\" r=\"40\" fill=\"red\"/>\n",
      "  <rect x=\"30\" y=\"30\" width=\"40\" height=\"40\" fill=\"blue\"/>\n",
      "</svg>\n",
      "```\n",
      "</example>\n",
      "\n",
      "\n",
      "Please ensure that the generated SVG code is well-formed, valid, and strictly adheres to these constraints. Focus on a clear and concise representation of the input description within the given limitations. Always give the complete SVG code with nothing omitted. Never use an ellipsis.\n",
      "\n",
      "<description>\"a green lagoon under a cloudy sky\"</description>\n",
      "```svg\n",
      "<svg viewBox=\"0 0 256 256\" width=\"256\" height=\"256\">\n",
      "  <rect x=\"0\" y=\"128\" width=\"256\" height=\"128\" fill=\"lightblue\"/> \n",
      "  <path  d=\"M 32 0 L 96 0 C 128 32 128 96 96 128 L 32 128 Z\" fill=\"gray\"/>\n",
      "  <path  d=\"M 160 0 L 224 0 C 256 32 256 96 224 128 L 160 128 Z\" fill=\"gray\"/>\n",
      "  <path  d=\"M 64 0 L 128 0 C 160 32 160 96 128 128 L 64 128 Z\" fill=\"gray\" />\n",
      "  <rect x=\"0\" y=\"192\"  width=\"256\" height=\"64\" fill=\"turquoise\"/>\n",
      " </svg>\n",
      "```\n",
      "\n",
      "\n",
      "\n",
      "DEBUG:root:Unprocessed SVG: <svg viewBox=\"0 0 256 256\" width=\"256\" height=\"256\">\n",
      "  <rect x=\"0\" y=\"128\" width=\"256\" height=\"128\" fill=\"lightblue\"/> \n",
      "  <path  d=\"M 32 0 L 96 0 C 128 32 128 96 96 128 L 32 128 Z\" fill=\"gray\"/>\n",
      "  <path  d=\"M 160 0 L 224 0 C 256 32 256 96 224 128 L 160 128 Z\" fill=\"gray\"/>\n",
      "  <path  d=\"M 64 0 L 128 0 C 160 32 160 96 128 128 L 64 128 Z\" fill=\"gray\" />\n",
      "  <rect x=\"0\" y=\"192\"  width=\"256\" height=\"64\" fill=\"turquoise\"/>\n",
      " </svg>\n",
      "INFO:root:Sanitizing SVG...\n",
      "DEBUG:root:Path element \"d\" attribute validated (regex check).\n",
      "DEBUG:root:Path element \"d\" attribute validated (regex check).\n",
      "DEBUG:root:Path element \"d\" attribute validated (regex check).\n",
      "DEBUG:root:Processed SVG: <svg viewBox=\"0 0 256 256\" width=\"256\" height=\"256\"><rect x=\"0\" y=\"128\" width=\"256\" height=\"128\" fill=\"lightblue\"/><path d=\"M 32 0 L 96 0 C 128 32 128 96 96 128 L 32 128 Z\" fill=\"gray\"/><path d=\"M 160 0 L 224 0 C 256 32 256 96 224 128 L 160 128 Z\" fill=\"gray\"/><path d=\"M 64 0 L 128 0 C 160 32 160 96 128 128 L 64 128 Z\" fill=\"gray\"/><rect x=\"0\" y=\"192\" width=\"256\" height=\"64\" fill=\"turquoise\"/></svg>\n"
     ]
    },
    {
     "name": "stdout",
     "output_type": "stream",
     "text": [
      "Prediction time for description 'a green lagoon under...': 32.0006 seconds\n"
     ]
    },
    {
     "data": {
      "image/svg+xml": [
       "<svg viewBox=\"0 0 256 256\" width=\"256\" height=\"256\"><rect x=\"0\" y=\"128\" width=\"256\" height=\"128\" fill=\"lightblue\"/><path d=\"M 32 0 L 96 0 C 128 32 128 96 96 128 L 32 128 Z\" fill=\"gray\"/><path d=\"M 160 0 L 224 0 C 256 32 256 96 224 128 L 160 128 Z\" fill=\"gray\"/><path d=\"M 64 0 L 128 0 C 160 32 160 96 128 128 L 64 128 Z\" fill=\"gray\"/><rect x=\"0\" y=\"192\" width=\"256\" height=\"64\" fill=\"turquoise\"/></svg>"
      ],
      "text/plain": [
       "<IPython.core.display.SVG object>"
      ]
     },
     "metadata": {},
     "output_type": "display_data"
    },
    {
     "name": "stderr",
     "output_type": "stream",
     "text": [
      "DEBUG:root:Output decoded from model: Generate SVG code to visually represent the following text description, while respecting the given constraints.\n",
      "<constraints>\n",
      "* **Allowed Elements:** `svg`, `path`, `circle`, `rect`, `ellipse`, `line`, `polyline`, `polygon`, `g`, `linearGradient`, `radialGradient`, `stop`, `defs`\n",
      "* **Allowed Attributes:** `viewBox`, `width`, `height`, `fill`, `stroke`, `stroke-width`, `d`, `cx`, `cy`, `r`, `x`, `y`, `rx`, `ry`, `x1`, `y1`, `x2`, `y2`, `points`, `transform`, `opacity`\n",
      "</constraints>\n",
      "\n",
      "<example>\n",
      "<description>\"A red circle with a blue square inside\"</description>\n",
      "```svg\n",
      "<svg viewBox=\"0 0 256 256\" width=\"256\" height=\"256\">\n",
      "  <circle cx=\"50\" cy=\"50\" r=\"40\" fill=\"red\"/>\n",
      "  <rect x=\"30\" y=\"30\" width=\"40\" height=\"40\" fill=\"blue\"/>\n",
      "</svg>\n",
      "```\n",
      "</example>\n",
      "\n",
      "\n",
      "Please ensure that the generated SVG code is well-formed, valid, and strictly adheres to these constraints. Focus on a clear and concise representation of the input description within the given limitations. Always give the complete SVG code with nothing omitted. Never use an ellipsis.\n",
      "\n",
      "<description>\"crimson rectangles forming a chaotic grid\"</description>\n",
      "```svg\n",
      "<svg viewBox=\"0 0 256 256\" width=\"256\" height=\"256\">\n",
      "<defs>\n",
      "  <linearGradient id=\"gradient\">\n",
      "    <stop offset=\"0%\" stop-color=\"#DC143C\"/>\n",
      "    <stop offset=\"100%\" stop-color=\"#AD002E\"/>\n",
      "  </linearGradient>\n",
      "</defs>\n",
      "<rect x=\"10\" y=\"10\" width=\"100\" height=\"100\" fill=\"url(#gradient)\" stroke=\"black\" stroke-width=\"1\"/>\n",
      "<rect x=\"120\" y=\"30\" width=\"80\" height=\"60\" fill=\"url(#gradient)\" stroke=\"black\" stroke-width=\"1\"/>\n",
      "<rect x=\"40\" y=\"160\" width=\"120\" height=\"80\" fill=\"url(#gradient)\" stroke=\"black\" stroke-width=\"1\"/>\n",
      "<rect x=\"190\" y=\"20\" width=\"60\" height=\"40\" fill=\"url(#gradient)\" stroke=\"black\" stroke-width=\"1\"/>\n",
      "</svg>\n",
      "```\n",
      "\n",
      "\n",
      "\n",
      "DEBUG:root:Unprocessed SVG: <svg viewBox=\"0 0 256 256\" width=\"256\" height=\"256\">\n",
      "<defs>\n",
      "  <linearGradient id=\"gradient\">\n",
      "    <stop offset=\"0%\" stop-color=\"#DC143C\"/>\n",
      "    <stop offset=\"100%\" stop-color=\"#AD002E\"/>\n",
      "  </linearGradient>\n",
      "</defs>\n",
      "<rect x=\"10\" y=\"10\" width=\"100\" height=\"100\" fill=\"url(#gradient)\" stroke=\"black\" stroke-width=\"1\"/>\n",
      "<rect x=\"120\" y=\"30\" width=\"80\" height=\"60\" fill=\"url(#gradient)\" stroke=\"black\" stroke-width=\"1\"/>\n",
      "<rect x=\"40\" y=\"160\" width=\"120\" height=\"80\" fill=\"url(#gradient)\" stroke=\"black\" stroke-width=\"1\"/>\n",
      "<rect x=\"190\" y=\"20\" width=\"60\" height=\"40\" fill=\"url(#gradient)\" stroke=\"black\" stroke-width=\"1\"/>\n",
      "</svg>\n",
      "INFO:root:Sanitizing SVG...\n",
      "DEBUG:root:Processed SVG: <svg viewBox=\"0 0 256 256\" width=\"256\" height=\"256\"><defs><linearGradient id=\"gradient\"><stop offset=\"0%\" stop-color=\"#DC143C\"/><stop offset=\"100%\" stop-color=\"#AD002E\"/></linearGradient></defs><rect x=\"10\" y=\"10\" width=\"100\" height=\"100\" fill=\"url(#gradient)\" stroke=\"black\" stroke-width=\"1\"/><rect x=\"120\" y=\"30\" width=\"80\" height=\"60\" fill=\"url(#gradient)\" stroke=\"black\" stroke-width=\"1\"/><rect x=\"40\" y=\"160\" width=\"120\" height=\"80\" fill=\"url(#gradient)\" stroke=\"black\" stroke-width=\"1\"/><rect x=\"190\" y=\"20\" width=\"60\" height=\"40\" fill=\"url(#gradient)\" stroke=\"black\" stroke-width=\"1\"/></svg>\n"
     ]
    },
    {
     "name": "stdout",
     "output_type": "stream",
     "text": [
      "Prediction time for description 'crimson rectangles f...': 30.2411 seconds\n"
     ]
    },
    {
     "data": {
      "image/svg+xml": [
       "<svg viewBox=\"0 0 256 256\" width=\"256\" height=\"256\"><defs><linearGradient id=\"gradient\"><stop offset=\"0%\" stop-color=\"#DC143C\"/><stop offset=\"100%\" stop-color=\"#AD002E\"/></linearGradient></defs><rect x=\"10\" y=\"10\" width=\"100\" height=\"100\" fill=\"url(#gradient)\" stroke=\"black\" stroke-width=\"1\"/><rect x=\"120\" y=\"30\" width=\"80\" height=\"60\" fill=\"url(#gradient)\" stroke=\"black\" stroke-width=\"1\"/><rect x=\"40\" y=\"160\" width=\"120\" height=\"80\" fill=\"url(#gradient)\" stroke=\"black\" stroke-width=\"1\"/><rect x=\"190\" y=\"20\" width=\"60\" height=\"40\" fill=\"url(#gradient)\" stroke=\"black\" stroke-width=\"1\"/></svg>"
      ],
      "text/plain": [
       "<IPython.core.display.SVG object>"
      ]
     },
     "metadata": {},
     "output_type": "display_data"
    },
    {
     "name": "stderr",
     "output_type": "stream",
     "text": [
      "DEBUG:root:Output decoded from model: Generate SVG code to visually represent the following text description, while respecting the given constraints.\n",
      "<constraints>\n",
      "* **Allowed Elements:** `svg`, `path`, `circle`, `rect`, `ellipse`, `line`, `polyline`, `polygon`, `g`, `linearGradient`, `radialGradient`, `stop`, `defs`\n",
      "* **Allowed Attributes:** `viewBox`, `width`, `height`, `fill`, `stroke`, `stroke-width`, `d`, `cx`, `cy`, `r`, `x`, `y`, `rx`, `ry`, `x1`, `y1`, `x2`, `y2`, `points`, `transform`, `opacity`\n",
      "</constraints>\n",
      "\n",
      "<example>\n",
      "<description>\"A red circle with a blue square inside\"</description>\n",
      "```svg\n",
      "<svg viewBox=\"0 0 256 256\" width=\"256\" height=\"256\">\n",
      "  <circle cx=\"50\" cy=\"50\" r=\"40\" fill=\"red\"/>\n",
      "  <rect x=\"30\" y=\"30\" width=\"40\" height=\"40\" fill=\"blue\"/>\n",
      "</svg>\n",
      "```\n",
      "</example>\n",
      "\n",
      "\n",
      "Please ensure that the generated SVG code is well-formed, valid, and strictly adheres to these constraints. Focus on a clear and concise representation of the input description within the given limitations. Always give the complete SVG code with nothing omitted. Never use an ellipsis.\n",
      "\n",
      "<description>\"purple pyramids spiraling around a bronze cone\"</description>\n",
      "```svg\n",
      "<svg viewBox=\"0 0 256 256\" width=\"256\" height=\"256\">\n",
      "  <polygon points=\"50,50 30,120 70,120\" fill=\"purple\" /> \n",
      "  <!-- ... --> \n",
      "</svg>\n",
      "``` \n",
      "\n",
      "\n",
      "DEBUG:root:Unprocessed SVG: <svg viewBox=\"0 0 256 256\" width=\"256\" height=\"256\">\n",
      "  <polygon points=\"50,50 30,120 70,120\" fill=\"purple\" /> \n",
      "  <!-- ... --> \n",
      "</svg>\n",
      "INFO:root:Sanitizing SVG...\n",
      "DEBUG:root:Processed SVG: <svg viewBox=\"0 0 256 256\" width=\"256\" height=\"256\"><polygon points=\"50,50 30,120 70,120\" fill=\"purple\"/></svg>\n"
     ]
    },
    {
     "name": "stdout",
     "output_type": "stream",
     "text": [
      "Prediction time for description 'purple pyramids spir...': 6.6991 seconds\n"
     ]
    },
    {
     "data": {
      "image/svg+xml": [
       "<svg viewBox=\"0 0 256 256\" width=\"256\" height=\"256\"><polygon points=\"50,50 30,120 70,120\" fill=\"purple\"/></svg>"
      ],
      "text/plain": [
       "<IPython.core.display.SVG object>"
      ]
     },
     "metadata": {},
     "output_type": "display_data"
    },
    {
     "name": "stderr",
     "output_type": "stream",
     "text": [
      "DEBUG:root:Output decoded from model: Generate SVG code to visually represent the following text description, while respecting the given constraints.\n",
      "<constraints>\n",
      "* **Allowed Elements:** `svg`, `path`, `circle`, `rect`, `ellipse`, `line`, `polyline`, `polygon`, `g`, `linearGradient`, `radialGradient`, `stop`, `defs`\n",
      "* **Allowed Attributes:** `viewBox`, `width`, `height`, `fill`, `stroke`, `stroke-width`, `d`, `cx`, `cy`, `r`, `x`, `y`, `rx`, `ry`, `x1`, `y1`, `x2`, `y2`, `points`, `transform`, `opacity`\n",
      "</constraints>\n",
      "\n",
      "<example>\n",
      "<description>\"A red circle with a blue square inside\"</description>\n",
      "```svg\n",
      "<svg viewBox=\"0 0 256 256\" width=\"256\" height=\"256\">\n",
      "  <circle cx=\"50\" cy=\"50\" r=\"40\" fill=\"red\"/>\n",
      "  <rect x=\"30\" y=\"30\" width=\"40\" height=\"40\" fill=\"blue\"/>\n",
      "</svg>\n",
      "```\n",
      "</example>\n",
      "\n",
      "\n",
      "Please ensure that the generated SVG code is well-formed, valid, and strictly adheres to these constraints. Focus on a clear and concise representation of the input description within the given limitations. Always give the complete SVG code with nothing omitted. Never use an ellipsis.\n",
      "\n",
      "<description>\"magenta trapezoids layered on a transluscent silver sheet\"</description>\n",
      "```svg\n",
      "<svg viewBox=\"0 0 256 256\" width=\"256\" height=\"256\">\n",
      "  <defs>\n",
      "    <linearGradient id=\"grad1\" x1=\"0\" y1=\"0\" x2=\"256\" y2=\"0\">\n",
      "      <stop offset=\"0%\" stop-color=\"#C0C0C0\"/>\n",
      "      <stop offset=\"100%\" stop-color=\"#F0F0F0\"/>\n",
      "    </linearGradient>\n",
      "  </defs>\n",
      "  <rect x=\"0\" y=\"0\" width=\"256\" height=\"256\" fill=\"url(#grad1)\"/>\n",
      "  <polygon points=\"50,20 150,20 100,100\" fill=\"magenta\"/>\n",
      "  <polygon points=\"100,100 200,100 150,200\" fill=\"magenta\"/>\n",
      " </svg>\n",
      "```\n",
      "DEBUG:root:Unprocessed SVG: <svg viewBox=\"0 0 256 256\" width=\"256\" height=\"256\">\n",
      "  <defs>\n",
      "    <linearGradient id=\"grad1\" x1=\"0\" y1=\"0\" x2=\"256\" y2=\"0\">\n",
      "      <stop offset=\"0%\" stop-color=\"#C0C0C0\"/>\n",
      "      <stop offset=\"100%\" stop-color=\"#F0F0F0\"/>\n",
      "    </linearGradient>\n",
      "  </defs>\n",
      "  <rect x=\"0\" y=\"0\" width=\"256\" height=\"256\" fill=\"url(#grad1)\"/>\n",
      "  <polygon points=\"50,20 150,20 100,100\" fill=\"magenta\"/>\n",
      "  <polygon points=\"100,100 200,100 150,200\" fill=\"magenta\"/>\n",
      " </svg>\n",
      "INFO:root:Sanitizing SVG...\n",
      "DEBUG:root:Processed SVG: <svg viewBox=\"0 0 256 256\" width=\"256\" height=\"256\"><defs><linearGradient id=\"grad1\" x1=\"0\" y1=\"0\" x2=\"256\" y2=\"0\"><stop offset=\"0%\" stop-color=\"#C0C0C0\"/><stop offset=\"100%\" stop-color=\"#F0F0F0\"/></linearGradient></defs><rect x=\"0\" y=\"0\" width=\"256\" height=\"256\" fill=\"url(#grad1)\"/><polygon points=\"50,20 150,20 100,100\" fill=\"magenta\"/><polygon points=\"100,100 200,100 150,200\" fill=\"magenta\"/></svg>\n"
     ]
    },
    {
     "name": "stdout",
     "output_type": "stream",
     "text": [
      "Prediction time for description 'magenta trapezoids l...': 25.3727 seconds\n"
     ]
    },
    {
     "data": {
      "image/svg+xml": [
       "<svg viewBox=\"0 0 256 256\" width=\"256\" height=\"256\"><defs><linearGradient id=\"grad1\" x1=\"0\" y1=\"0\" x2=\"256\" y2=\"0\"><stop offset=\"0%\" stop-color=\"#C0C0C0\"/><stop offset=\"100%\" stop-color=\"#F0F0F0\"/></linearGradient></defs><rect x=\"0\" y=\"0\" width=\"256\" height=\"256\" fill=\"url(#grad1)\"/><polygon points=\"50,20 150,20 100,100\" fill=\"magenta\"/><polygon points=\"100,100 200,100 150,200\" fill=\"magenta\"/></svg>"
      ],
      "text/plain": [
       "<IPython.core.display.SVG object>"
      ]
     },
     "metadata": {},
     "output_type": "display_data"
    },
    {
     "name": "stderr",
     "output_type": "stream",
     "text": [
      "DEBUG:root:Output decoded from model: Generate SVG code to visually represent the following text description, while respecting the given constraints.\n",
      "<constraints>\n",
      "* **Allowed Elements:** `svg`, `path`, `circle`, `rect`, `ellipse`, `line`, `polyline`, `polygon`, `g`, `linearGradient`, `radialGradient`, `stop`, `defs`\n",
      "* **Allowed Attributes:** `viewBox`, `width`, `height`, `fill`, `stroke`, `stroke-width`, `d`, `cx`, `cy`, `r`, `x`, `y`, `rx`, `ry`, `x1`, `y1`, `x2`, `y2`, `points`, `transform`, `opacity`\n",
      "</constraints>\n",
      "\n",
      "<example>\n",
      "<description>\"A red circle with a blue square inside\"</description>\n",
      "```svg\n",
      "<svg viewBox=\"0 0 256 256\" width=\"256\" height=\"256\">\n",
      "  <circle cx=\"50\" cy=\"50\" r=\"40\" fill=\"red\"/>\n",
      "  <rect x=\"30\" y=\"30\" width=\"40\" height=\"40\" fill=\"blue\"/>\n",
      "</svg>\n",
      "```\n",
      "</example>\n",
      "\n",
      "\n",
      "Please ensure that the generated SVG code is well-formed, valid, and strictly adheres to these constraints. Focus on a clear and concise representation of the input description within the given limitations. Always give the complete SVG code with nothing omitted. Never use an ellipsis.\n",
      "\n",
      "<description>\"a snowy plain\"</description>\n",
      "```svg\n",
      "<svg viewBox=\"0 0 256 256\" width=\"256\" height=\"256\">\n",
      "  <rect x=\"0\" y=\"0\" width=\"256\" height=\"256\" fill=\"white\"/> <path d=\"M 81 120 Q 120 150 159 120\" stroke=\"gray\" stroke-width=\"3\" fill=\"none\"/> \n",
      "  <path d=\"M 120 150 Q 150 180 180 150\" stroke=\"gray\" stroke-width=\"3\" fill=\"none\"/>  \n",
      "  <path d=\"M 80 180 Q 110 210 140 180\" stroke=\"gray\" stroke-width=\"3\" fill=\"none\"/>\n",
      "</svg>  \n",
      "```\n",
      "\n",
      "\n",
      "\n",
      "\n",
      "DEBUG:root:Unprocessed SVG: <svg viewBox=\"0 0 256 256\" width=\"256\" height=\"256\">\n",
      "  <rect x=\"0\" y=\"0\" width=\"256\" height=\"256\" fill=\"white\"/> <path d=\"M 81 120 Q 120 150 159 120\" stroke=\"gray\" stroke-width=\"3\" fill=\"none\"/> \n",
      "  <path d=\"M 120 150 Q 150 180 180 150\" stroke=\"gray\" stroke-width=\"3\" fill=\"none\"/>  \n",
      "  <path d=\"M 80 180 Q 110 210 140 180\" stroke=\"gray\" stroke-width=\"3\" fill=\"none\"/>\n",
      "</svg>\n",
      "INFO:root:Sanitizing SVG...\n",
      "DEBUG:root:Path element \"d\" attribute validated (regex check).\n",
      "DEBUG:root:Path element \"d\" attribute validated (regex check).\n",
      "DEBUG:root:Path element \"d\" attribute validated (regex check).\n",
      "DEBUG:root:Processed SVG: <svg viewBox=\"0 0 256 256\" width=\"256\" height=\"256\"><rect x=\"0\" y=\"0\" width=\"256\" height=\"256\" fill=\"white\"/><path d=\"M 81 120 Q 120 150 159 120\" stroke=\"gray\" stroke-width=\"3\" fill=\"none\"/><path d=\"M 120 150 Q 150 180 180 150\" stroke=\"gray\" stroke-width=\"3\" fill=\"none\"/><path d=\"M 80 180 Q 110 210 140 180\" stroke=\"gray\" stroke-width=\"3\" fill=\"none\"/></svg>\n"
     ]
    },
    {
     "name": "stdout",
     "output_type": "stream",
     "text": [
      "Prediction time for description 'a snowy plain...': 23.3733 seconds\n"
     ]
    },
    {
     "data": {
      "image/svg+xml": [
       "<svg viewBox=\"0 0 256 256\" width=\"256\" height=\"256\"><rect x=\"0\" y=\"0\" width=\"256\" height=\"256\" fill=\"white\"/><path d=\"M 81 120 Q 120 150 159 120\" stroke=\"gray\" stroke-width=\"3\" fill=\"none\"/><path d=\"M 120 150 Q 150 180 180 150\" stroke=\"gray\" stroke-width=\"3\" fill=\"none\"/><path d=\"M 80 180 Q 110 210 140 180\" stroke=\"gray\" stroke-width=\"3\" fill=\"none\"/></svg>"
      ],
      "text/plain": [
       "<IPython.core.display.SVG object>"
      ]
     },
     "metadata": {},
     "output_type": "display_data"
    },
    {
     "name": "stderr",
     "output_type": "stream",
     "text": [
      "DEBUG:root:Output decoded from model: Generate SVG code to visually represent the following text description, while respecting the given constraints.\n",
      "<constraints>\n",
      "* **Allowed Elements:** `svg`, `path`, `circle`, `rect`, `ellipse`, `line`, `polyline`, `polygon`, `g`, `linearGradient`, `radialGradient`, `stop`, `defs`\n",
      "* **Allowed Attributes:** `viewBox`, `width`, `height`, `fill`, `stroke`, `stroke-width`, `d`, `cx`, `cy`, `r`, `x`, `y`, `rx`, `ry`, `x1`, `y1`, `x2`, `y2`, `points`, `transform`, `opacity`\n",
      "</constraints>\n",
      "\n",
      "<example>\n",
      "<description>\"A red circle with a blue square inside\"</description>\n",
      "```svg\n",
      "<svg viewBox=\"0 0 256 256\" width=\"256\" height=\"256\">\n",
      "  <circle cx=\"50\" cy=\"50\" r=\"40\" fill=\"red\"/>\n",
      "  <rect x=\"30\" y=\"30\" width=\"40\" height=\"40\" fill=\"blue\"/>\n",
      "</svg>\n",
      "```\n",
      "</example>\n",
      "\n",
      "\n",
      "Please ensure that the generated SVG code is well-formed, valid, and strictly adheres to these constraints. Focus on a clear and concise representation of the input description within the given limitations. Always give the complete SVG code with nothing omitted. Never use an ellipsis.\n",
      "\n",
      "<description>\"black and white checkered pants\"</description>\n",
      "```svg\n",
      "<svg viewBox=\"0 0 256 256\" width=\"256\" height=\"256\">\n",
      "  <rect x=\"0\" y=\"0\" width=\"256\" height=\"256\" fill=\"#FFFFFF\" stroke=\"black\" stroke-width=\"2\"/> \n",
      "  <path d=\"M 0 8 8 8 8 16 0 16 z\" fill=\"black\" transform=\"translate(12, 3)\" />\n",
      "  <path d=\"M 0 8 8 8 8 16 0 16 z\" fill=\"black\" transform=\"translate(12, 19)\" />\n",
      "  <path d=\"M 0 8 8 8 8 16 0 16 z\" fill=\"black\" transform=\"translate(12, 35)\" />\n",
      "  <path d=\"M 0 8 8 8 8 16 0 16 z\" fill=\"black\" transform=\"translate(12, 51)\" />\n",
      "  <path d=\"M 0 8 8 8 8 16 0 16 z\" fill=\"black\" transform=\"translate(12, 67)\" />\n",
      "  <path d=\"M 0 8 8 8 8 16 0 16 z\" fill=\"black\" transform=\"translate(12, 83)\" />\n",
      "  <path d=\"M 0 8 8 8 8 16 0 16 z\" fill=\"black\" transform=\"translate(12, 99)\" />\n",
      "</svg>\n",
      "```\n",
      "\n",
      "\n",
      "\n",
      "\n",
      "DEBUG:root:Unprocessed SVG: <svg viewBox=\"0 0 256 256\" width=\"256\" height=\"256\">\n",
      "  <rect x=\"0\" y=\"0\" width=\"256\" height=\"256\" fill=\"#FFFFFF\" stroke=\"black\" stroke-width=\"2\"/> \n",
      "  <path d=\"M 0 8 8 8 8 16 0 16 z\" fill=\"black\" transform=\"translate(12, 3)\" />\n",
      "  <path d=\"M 0 8 8 8 8 16 0 16 z\" fill=\"black\" transform=\"translate(12, 19)\" />\n",
      "  <path d=\"M 0 8 8 8 8 16 0 16 z\" fill=\"black\" transform=\"translate(12, 35)\" />\n",
      "  <path d=\"M 0 8 8 8 8 16 0 16 z\" fill=\"black\" transform=\"translate(12, 51)\" />\n",
      "  <path d=\"M 0 8 8 8 8 16 0 16 z\" fill=\"black\" transform=\"translate(12, 67)\" />\n",
      "  <path d=\"M 0 8 8 8 8 16 0 16 z\" fill=\"black\" transform=\"translate(12, 83)\" />\n",
      "  <path d=\"M 0 8 8 8 8 16 0 16 z\" fill=\"black\" transform=\"translate(12, 99)\" />\n",
      "</svg>\n",
      "INFO:root:Sanitizing SVG...\n",
      "DEBUG:root:Path element \"d\" attribute validated (regex check).\n",
      "DEBUG:root:Path element \"d\" attribute validated (regex check).\n",
      "DEBUG:root:Path element \"d\" attribute validated (regex check).\n",
      "DEBUG:root:Path element \"d\" attribute validated (regex check).\n",
      "DEBUG:root:Path element \"d\" attribute validated (regex check).\n",
      "DEBUG:root:Path element \"d\" attribute validated (regex check).\n",
      "DEBUG:root:Path element \"d\" attribute validated (regex check).\n",
      "DEBUG:root:Processed SVG: <svg viewBox=\"0 0 256 256\" width=\"256\" height=\"256\"><rect x=\"0\" y=\"0\" width=\"256\" height=\"256\" fill=\"#FFFFFF\" stroke=\"black\" stroke-width=\"2\"/><path d=\"M 0 8 8 8 8 16 0 16 z\" fill=\"black\" transform=\"translate(12, 3)\"/><path d=\"M 0 8 8 8 8 16 0 16 z\" fill=\"black\" transform=\"translate(12, 19)\"/><path d=\"M 0 8 8 8 8 16 0 16 z\" fill=\"black\" transform=\"translate(12, 35)\"/><path d=\"M 0 8 8 8 8 16 0 16 z\" fill=\"black\" transform=\"translate(12, 51)\"/><path d=\"M 0 8 8 8 8 16 0 16 z\" fill=\"black\" transform=\"translate(12, 67)\"/><path d=\"M 0 8 8 8 8 16 0 16 z\" fill=\"black\" transform=\"translate(12, 83)\"/><path d=\"M 0 8 8 8 8 16 0 16 z\" fill=\"black\" transform=\"translate(12, 99)\"/></svg>\n"
     ]
    },
    {
     "name": "stdout",
     "output_type": "stream",
     "text": [
      "Prediction time for description 'black and white chec...': 45.5961 seconds\n"
     ]
    },
    {
     "data": {
      "image/svg+xml": [
       "<svg viewBox=\"0 0 256 256\" width=\"256\" height=\"256\"><rect x=\"0\" y=\"0\" width=\"256\" height=\"256\" fill=\"#FFFFFF\" stroke=\"black\" stroke-width=\"2\"/><path d=\"M 0 8 8 8 8 16 0 16 z\" fill=\"black\" transform=\"translate(12, 3)\"/><path d=\"M 0 8 8 8 8 16 0 16 z\" fill=\"black\" transform=\"translate(12, 19)\"/><path d=\"M 0 8 8 8 8 16 0 16 z\" fill=\"black\" transform=\"translate(12, 35)\"/><path d=\"M 0 8 8 8 8 16 0 16 z\" fill=\"black\" transform=\"translate(12, 51)\"/><path d=\"M 0 8 8 8 8 16 0 16 z\" fill=\"black\" transform=\"translate(12, 67)\"/><path d=\"M 0 8 8 8 8 16 0 16 z\" fill=\"black\" transform=\"translate(12, 83)\"/><path d=\"M 0 8 8 8 8 16 0 16 z\" fill=\"black\" transform=\"translate(12, 99)\"/></svg>"
      ],
      "text/plain": [
       "<IPython.core.display.SVG object>"
      ]
     },
     "metadata": {},
     "output_type": "display_data"
    },
    {
     "name": "stderr",
     "output_type": "stream",
     "text": [
      "DEBUG:root:Output decoded from model: Generate SVG code to visually represent the following text description, while respecting the given constraints.\n",
      "<constraints>\n",
      "* **Allowed Elements:** `svg`, `path`, `circle`, `rect`, `ellipse`, `line`, `polyline`, `polygon`, `g`, `linearGradient`, `radialGradient`, `stop`, `defs`\n",
      "* **Allowed Attributes:** `viewBox`, `width`, `height`, `fill`, `stroke`, `stroke-width`, `d`, `cx`, `cy`, `r`, `x`, `y`, `rx`, `ry`, `x1`, `y1`, `x2`, `y2`, `points`, `transform`, `opacity`\n",
      "</constraints>\n",
      "\n",
      "<example>\n",
      "<description>\"A red circle with a blue square inside\"</description>\n",
      "```svg\n",
      "<svg viewBox=\"0 0 256 256\" width=\"256\" height=\"256\">\n",
      "  <circle cx=\"50\" cy=\"50\" r=\"40\" fill=\"red\"/>\n",
      "  <rect x=\"30\" y=\"30\" width=\"40\" height=\"40\" fill=\"blue\"/>\n",
      "</svg>\n",
      "```\n",
      "</example>\n",
      "\n",
      "\n",
      "Please ensure that the generated SVG code is well-formed, valid, and strictly adheres to these constraints. Focus on a clear and concise representation of the input description within the given limitations. Always give the complete SVG code with nothing omitted. Never use an ellipsis.\n",
      "\n",
      "<description>\"a starlit night over snow-covered peaks\"</description>\n",
      "```svg\n",
      "<svg viewBox=\"0 0 256 256\" width=\"256\" height=\"256\">\n",
      "  <defs>\n",
      "    <linearGradient id=\"stars\" x1=\"0\" y1=\"0\" x2=\"256\" y2=\"256\">\n",
      "      <stop offset=\"0\" stop-color=\"#fff\"/>\n",
      "      <stop offset=\"100%\" stop-color=\"#ccc\"/>\n",
      "    </linearGradient>\n",
      "  </defs>\n",
      "  <rect x=\"0\" y=\"0\" width=\"256\" height=\"256\" fill=\"white\"/>\n",
      "  <polygon points=\"128,100 100,150 156,150\" fill=\"white\" stroke=\"black\" stroke-width=\"2\" /> \n",
      "  <polygon points=\"128,100 156,150\" fill=\"white\" stroke=\"black\" stroke-width=\"2\" /> \n",
      "  <polygon points=\"128,100 100,150\" fill=\"white\" stroke=\"black\" stroke-width=\"2\" />      \n",
      "  <circle cx=\"128\" cy=\"80\" r=\"10\" fill=\"url(#stars)\"/>\n",
      "  <circle cx=\"100\" cy=\"120\" r=\"8\" fill=\"url(#stars)\"/>\n",
      "  <circle cx=\"156\" cy=\"120\" r=\"8\" fill=\"url(#stars)\"/>\n",
      "</svg>\n",
      "\n",
      "\n",
      "\n",
      "```\n",
      "\n",
      "\n",
      "\n",
      "\n",
      "DEBUG:root:Unprocessed SVG: <svg viewBox=\"0 0 256 256\" width=\"256\" height=\"256\">\n",
      "  <defs>\n",
      "    <linearGradient id=\"stars\" x1=\"0\" y1=\"0\" x2=\"256\" y2=\"256\">\n",
      "      <stop offset=\"0\" stop-color=\"#fff\"/>\n",
      "      <stop offset=\"100%\" stop-color=\"#ccc\"/>\n",
      "    </linearGradient>\n",
      "  </defs>\n",
      "  <rect x=\"0\" y=\"0\" width=\"256\" height=\"256\" fill=\"white\"/>\n",
      "  <polygon points=\"128,100 100,150 156,150\" fill=\"white\" stroke=\"black\" stroke-width=\"2\" /> \n",
      "  <polygon points=\"128,100 156,150\" fill=\"white\" stroke=\"black\" stroke-width=\"2\" /> \n",
      "  <polygon points=\"128,100 100,150\" fill=\"white\" stroke=\"black\" stroke-width=\"2\" />      \n",
      "  <circle cx=\"128\" cy=\"80\" r=\"10\" fill=\"url(#stars)\"/>\n",
      "  <circle cx=\"100\" cy=\"120\" r=\"8\" fill=\"url(#stars)\"/>\n",
      "  <circle cx=\"156\" cy=\"120\" r=\"8\" fill=\"url(#stars)\"/>\n",
      "</svg>\n",
      "INFO:root:Sanitizing SVG...\n",
      "DEBUG:root:Processed SVG: <svg viewBox=\"0 0 256 256\" width=\"256\" height=\"256\"><defs><linearGradient id=\"stars\" x1=\"0\" y1=\"0\" x2=\"256\" y2=\"256\"><stop offset=\"0\" stop-color=\"#fff\"/><stop offset=\"100%\" stop-color=\"#ccc\"/></linearGradient></defs><rect x=\"0\" y=\"0\" width=\"256\" height=\"256\" fill=\"white\"/><polygon points=\"128,100 100,150 156,150\" fill=\"white\" stroke=\"black\" stroke-width=\"2\"/><polygon points=\"128,100 156,150\" fill=\"white\" stroke=\"black\" stroke-width=\"2\"/><polygon points=\"128,100 100,150\" fill=\"white\" stroke=\"black\" stroke-width=\"2\"/><circle cx=\"128\" cy=\"80\" r=\"10\" fill=\"url(#stars)\"/><circle cx=\"100\" cy=\"120\" r=\"8\" fill=\"url(#stars)\"/><circle cx=\"156\" cy=\"120\" r=\"8\" fill=\"url(#stars)\"/></svg>\n"
     ]
    },
    {
     "name": "stdout",
     "output_type": "stream",
     "text": [
      "Prediction time for description 'a starlit night over...': 41.5147 seconds\n"
     ]
    },
    {
     "data": {
      "image/svg+xml": [
       "<svg viewBox=\"0 0 256 256\" width=\"256\" height=\"256\"><defs><linearGradient id=\"stars\" x1=\"0\" y1=\"0\" x2=\"256\" y2=\"256\"><stop offset=\"0\" stop-color=\"#fff\"/><stop offset=\"100%\" stop-color=\"#ccc\"/></linearGradient></defs><rect x=\"0\" y=\"0\" width=\"256\" height=\"256\" fill=\"white\"/><polygon points=\"128,100 100,150 156,150\" fill=\"white\" stroke=\"black\" stroke-width=\"2\"/><polygon points=\"128,100 156,150\" fill=\"white\" stroke=\"black\" stroke-width=\"2\"/><polygon points=\"128,100 100,150\" fill=\"white\" stroke=\"black\" stroke-width=\"2\"/><circle cx=\"128\" cy=\"80\" r=\"10\" fill=\"url(#stars)\"/><circle cx=\"100\" cy=\"120\" r=\"8\" fill=\"url(#stars)\"/><circle cx=\"156\" cy=\"120\" r=\"8\" fill=\"url(#stars)\"/></svg>"
      ],
      "text/plain": [
       "<IPython.core.display.SVG object>"
      ]
     },
     "metadata": {},
     "output_type": "display_data"
    },
    {
     "name": "stderr",
     "output_type": "stream",
     "text": [
      "DEBUG:root:Output decoded from model: Generate SVG code to visually represent the following text description, while respecting the given constraints.\n",
      "<constraints>\n",
      "* **Allowed Elements:** `svg`, `path`, `circle`, `rect`, `ellipse`, `line`, `polyline`, `polygon`, `g`, `linearGradient`, `radialGradient`, `stop`, `defs`\n",
      "* **Allowed Attributes:** `viewBox`, `width`, `height`, `fill`, `stroke`, `stroke-width`, `d`, `cx`, `cy`, `r`, `x`, `y`, `rx`, `ry`, `x1`, `y1`, `x2`, `y2`, `points`, `transform`, `opacity`\n",
      "</constraints>\n",
      "\n",
      "<example>\n",
      "<description>\"A red circle with a blue square inside\"</description>\n",
      "```svg\n",
      "<svg viewBox=\"0 0 256 256\" width=\"256\" height=\"256\">\n",
      "  <circle cx=\"50\" cy=\"50\" r=\"40\" fill=\"red\"/>\n",
      "  <rect x=\"30\" y=\"30\" width=\"40\" height=\"40\" fill=\"blue\"/>\n",
      "</svg>\n",
      "```\n",
      "</example>\n",
      "\n",
      "\n",
      "Please ensure that the generated SVG code is well-formed, valid, and strictly adheres to these constraints. Focus on a clear and concise representation of the input description within the given limitations. Always give the complete SVG code with nothing omitted. Never use an ellipsis.\n",
      "\n",
      "<description>\"khaki triangles and azure crescents\"</description>\n",
      "```svg\n",
      "<svg viewBox=\"0 0 256 256\" width=\"256\" height=\"256\">\n",
      "  <polygon points=\"50,100 100,200 150,100\" fill=\"khaki\"/>\n",
      "  <ellipse cx=\"125\" cy=\"125\" rx=\"40\" ry=\"30\" fill=\"azure\"/>\n",
      "</svg>\n",
      "```\n",
      "\n",
      "\n",
      "\n",
      "\n",
      "DEBUG:root:Unprocessed SVG: <svg viewBox=\"0 0 256 256\" width=\"256\" height=\"256\">\n",
      "  <polygon points=\"50,100 100,200 150,100\" fill=\"khaki\"/>\n",
      "  <ellipse cx=\"125\" cy=\"125\" rx=\"40\" ry=\"30\" fill=\"azure\"/>\n",
      "</svg>\n",
      "INFO:root:Sanitizing SVG...\n",
      "DEBUG:root:Processed SVG: <svg viewBox=\"0 0 256 256\" width=\"256\" height=\"256\"><polygon points=\"50,100 100,200 150,100\" fill=\"khaki\"/><ellipse cx=\"125\" cy=\"125\" rx=\"40\" ry=\"30\" fill=\"azure\"/></svg>\n"
     ]
    },
    {
     "name": "stdout",
     "output_type": "stream",
     "text": [
      "Prediction time for description 'khaki triangles and ...': 9.9629 seconds\n"
     ]
    },
    {
     "data": {
      "image/svg+xml": [
       "<svg viewBox=\"0 0 256 256\" width=\"256\" height=\"256\"><polygon points=\"50,100 100,200 150,100\" fill=\"khaki\"/><ellipse cx=\"125\" cy=\"125\" rx=\"40\" ry=\"30\" fill=\"azure\"/></svg>"
      ],
      "text/plain": [
       "<IPython.core.display.SVG object>"
      ]
     },
     "metadata": {},
     "output_type": "display_data"
    },
    {
     "name": "stderr",
     "output_type": "stream",
     "text": [
      "DEBUG:root:Output decoded from model: Generate SVG code to visually represent the following text description, while respecting the given constraints.\n",
      "<constraints>\n",
      "* **Allowed Elements:** `svg`, `path`, `circle`, `rect`, `ellipse`, `line`, `polyline`, `polygon`, `g`, `linearGradient`, `radialGradient`, `stop`, `defs`\n",
      "* **Allowed Attributes:** `viewBox`, `width`, `height`, `fill`, `stroke`, `stroke-width`, `d`, `cx`, `cy`, `r`, `x`, `y`, `rx`, `ry`, `x1`, `y1`, `x2`, `y2`, `points`, `transform`, `opacity`\n",
      "</constraints>\n",
      "\n",
      "<example>\n",
      "<description>\"A red circle with a blue square inside\"</description>\n",
      "```svg\n",
      "<svg viewBox=\"0 0 256 256\" width=\"256\" height=\"256\">\n",
      "  <circle cx=\"50\" cy=\"50\" r=\"40\" fill=\"red\"/>\n",
      "  <rect x=\"30\" y=\"30\" width=\"40\" height=\"40\" fill=\"blue\"/>\n",
      "</svg>\n",
      "```\n",
      "</example>\n",
      "\n",
      "\n",
      "Please ensure that the generated SVG code is well-formed, valid, and strictly adheres to these constraints. Focus on a clear and concise representation of the input description within the given limitations. Always give the complete SVG code with nothing omitted. Never use an ellipsis.\n",
      "\n",
      "<description>\"a maroon dodecahedron interwoven with teal threads\"</description>\n",
      "```svg\n",
      "<svg viewBox=\"0 0 256 256\" width=\"256\" height=\"256\">\n",
      "  <circle cx=\"50\" cy=\"50\" r=\"40\" fill=\"maroon\"/>  <!-- Base -->\n",
      "  \n",
      "  </svg>\n",
      "```\n",
      "\n",
      "\n",
      "\n",
      "\n",
      "DEBUG:root:Unprocessed SVG: <svg viewBox=\"0 0 256 256\" width=\"256\" height=\"256\">\n",
      "  <circle cx=\"50\" cy=\"50\" r=\"40\" fill=\"maroon\"/>  <!-- Base -->\n",
      "  \n",
      "  </svg>\n",
      "INFO:root:Sanitizing SVG...\n",
      "DEBUG:root:Processed SVG: <svg viewBox=\"0 0 256 256\" width=\"256\" height=\"256\"><circle cx=\"50\" cy=\"50\" r=\"40\" fill=\"maroon\"/></svg>\n"
     ]
    },
    {
     "name": "stdout",
     "output_type": "stream",
     "text": [
      "Prediction time for description 'a maroon dodecahedro...': 5.6159 seconds\n"
     ]
    },
    {
     "data": {
      "image/svg+xml": [
       "<svg viewBox=\"0 0 256 256\" width=\"256\" height=\"256\"><circle cx=\"50\" cy=\"50\" r=\"40\" fill=\"maroon\"/></svg>"
      ],
      "text/plain": [
       "<IPython.core.display.SVG object>"
      ]
     },
     "metadata": {},
     "output_type": "display_data"
    }
   ],
   "source": [
    "def generate():\n",
    "    import polars as pl\n",
    "    from IPython.display import SVG\n",
    "    import time  # Import the time module\n",
    "    \n",
    "    logging.basicConfig(level=logging.DEBUG, force=True)\n",
    "    \n",
    "    train = pl.read_csv('/kaggle/input/drawing-with-llms/published/train.csv')\n",
    "    display(train.head())\n",
    "    \n",
    "    model = Model()\n",
    "    svgs = []\n",
    "    for desc in train.get_column('description'):\n",
    "        start_time = time.time()  # Record start time\n",
    "        svg = model.predict(desc)\n",
    "        end_time = time.time()    # Record end time\n",
    "        elapsed_time = end_time - start_time # Calculate elapsed time\n",
    "        print(f\"Prediction time for description '{desc[:20]}...': {elapsed_time:.4f} seconds\") # Print time\n",
    "    \n",
    "        try:\n",
    "            display(SVG(svg))\n",
    "        except Exception as e:\n",
    "            print(e)\n",
    "            continue\n",
    "\n",
    "# Uncomment and run the line below to see some generated images\n",
    "generate()"
   ]
  }
 ],
 "metadata": {
  "kaggle": {
   "accelerator": "nvidiaTeslaT4",
   "dataSources": [
    {
     "databundleVersionId": 11500533,
     "isSourceIdPinned": false,
     "sourceId": 89659,
     "sourceType": "competition"
    },
    {
     "datasetId": 6936975,
     "sourceId": 11123842,
     "sourceType": "datasetVersion"
    },
    {
     "sourceId": 224423433,
     "sourceType": "kernelVersion"
    },
    {
     "isSourceIdPinned": false,
     "modelId": 76277,
     "modelInstanceId": 72256,
     "sourceId": 104453,
     "sourceType": "modelInstanceVersion"
    }
   ],
   "dockerImageVersionId": 30919,
   "isGpuEnabled": true,
   "isInternetEnabled": false,
   "language": "python",
   "sourceType": "notebook"
  },
  "kernelspec": {
   "display_name": "Python 3",
   "language": "python",
   "name": "python3"
  },
  "language_info": {
   "codemirror_mode": {
    "name": "ipython",
    "version": 3
   },
   "file_extension": ".py",
   "mimetype": "text/x-python",
   "name": "python",
   "nbconvert_exporter": "python",
   "pygments_lexer": "ipython3",
   "version": "3.10.12"
  },
  "papermill": {
   "default_parameters": {},
   "duration": 1104.17113,
   "end_time": "2025-03-22T12:16:00.681372",
   "environment_variables": {},
   "exception": null,
   "input_path": "__notebook__.ipynb",
   "output_path": "__notebook__.ipynb",
   "parameters": {},
   "start_time": "2025-03-22T11:57:36.510242",
   "version": "2.6.0"
  },
  "widgets": {
   "application/vnd.jupyter.widget-state+json": {
    "state": {
     "08644317d1ba4b35bb5a3c5f9f044d8b": {
      "model_module": "@jupyter-widgets/base",
      "model_module_version": "2.0.0",
      "model_name": "LayoutModel",
      "state": {
       "_model_module": "@jupyter-widgets/base",
       "_model_module_version": "2.0.0",
       "_model_name": "LayoutModel",
       "_view_count": null,
       "_view_module": "@jupyter-widgets/base",
       "_view_module_version": "2.0.0",
       "_view_name": "LayoutView",
       "align_content": null,
       "align_items": null,
       "align_self": null,
       "border_bottom": null,
       "border_left": null,
       "border_right": null,
       "border_top": null,
       "bottom": null,
       "display": null,
       "flex": null,
       "flex_flow": null,
       "grid_area": null,
       "grid_auto_columns": null,
       "grid_auto_flow": null,
       "grid_auto_rows": null,
       "grid_column": null,
       "grid_gap": null,
       "grid_row": null,
       "grid_template_areas": null,
       "grid_template_columns": null,
       "grid_template_rows": null,
       "height": null,
       "justify_content": null,
       "justify_items": null,
       "left": null,
       "margin": null,
       "max_height": null,
       "max_width": null,
       "min_height": null,
       "min_width": null,
       "object_fit": null,
       "object_position": null,
       "order": null,
       "overflow": null,
       "padding": null,
       "right": null,
       "top": null,
       "visibility": null,
       "width": null
      }
     },
     "0c1ab0a3253a46ffb09ab0eb409b4e14": {
      "model_module": "@jupyter-widgets/controls",
      "model_module_version": "2.0.0",
      "model_name": "ProgressStyleModel",
      "state": {
       "_model_module": "@jupyter-widgets/controls",
       "_model_module_version": "2.0.0",
       "_model_name": "ProgressStyleModel",
       "_view_count": null,
       "_view_module": "@jupyter-widgets/base",
       "_view_module_version": "2.0.0",
       "_view_name": "StyleView",
       "bar_color": null,
       "description_width": ""
      }
     },
     "14550ebfcaa848cbbc05dba0eae0c2fb": {
      "model_module": "@jupyter-widgets/base",
      "model_module_version": "2.0.0",
      "model_name": "LayoutModel",
      "state": {
       "_model_module": "@jupyter-widgets/base",
       "_model_module_version": "2.0.0",
       "_model_name": "LayoutModel",
       "_view_count": null,
       "_view_module": "@jupyter-widgets/base",
       "_view_module_version": "2.0.0",
       "_view_name": "LayoutView",
       "align_content": null,
       "align_items": null,
       "align_self": null,
       "border_bottom": null,
       "border_left": null,
       "border_right": null,
       "border_top": null,
       "bottom": null,
       "display": null,
       "flex": null,
       "flex_flow": null,
       "grid_area": null,
       "grid_auto_columns": null,
       "grid_auto_flow": null,
       "grid_auto_rows": null,
       "grid_column": null,
       "grid_gap": null,
       "grid_row": null,
       "grid_template_areas": null,
       "grid_template_columns": null,
       "grid_template_rows": null,
       "height": null,
       "justify_content": null,
       "justify_items": null,
       "left": null,
       "margin": null,
       "max_height": null,
       "max_width": null,
       "min_height": null,
       "min_width": null,
       "object_fit": null,
       "object_position": null,
       "order": null,
       "overflow": null,
       "padding": null,
       "right": null,
       "top": null,
       "visibility": null,
       "width": null
      }
     },
     "226e3775953e4159a985c0eca4f2cde0": {
      "model_module": "@jupyter-widgets/controls",
      "model_module_version": "2.0.0",
      "model_name": "HTMLModel",
      "state": {
       "_dom_classes": [],
       "_model_module": "@jupyter-widgets/controls",
       "_model_module_version": "2.0.0",
       "_model_name": "HTMLModel",
       "_view_count": null,
       "_view_module": "@jupyter-widgets/controls",
       "_view_module_version": "2.0.0",
       "_view_name": "HTMLView",
       "description": "",
       "description_allow_html": false,
       "layout": "IPY_MODEL_f7c4dac334d74c5f8d7136da31006c1a",
       "placeholder": "​",
       "style": "IPY_MODEL_c7ce270db4e943d9b563b8388e29186f",
       "tabbable": null,
       "tooltip": null,
       "value": "Loading checkpoint shards: 100%"
      }
     },
     "2cbb7b1f9e904e5e837dfdd245563901": {
      "model_module": "@jupyter-widgets/controls",
      "model_module_version": "2.0.0",
      "model_name": "HBoxModel",
      "state": {
       "_dom_classes": [],
       "_model_module": "@jupyter-widgets/controls",
       "_model_module_version": "2.0.0",
       "_model_name": "HBoxModel",
       "_view_count": null,
       "_view_module": "@jupyter-widgets/controls",
       "_view_module_version": "2.0.0",
       "_view_name": "HBoxView",
       "box_style": "",
       "children": [
        "IPY_MODEL_66071f1b306e4e398abebf00f2f3ffe5",
        "IPY_MODEL_930e4be905f64478a648322a63c276ca",
        "IPY_MODEL_5c2d3317f02a4a1daa73d301432d389b"
       ],
       "layout": "IPY_MODEL_892e3a84fdaf4efcbfb87386c3018fb3",
       "tabbable": null,
       "tooltip": null
      }
     },
     "30cbbbafae2547f79be1f16169c30397": {
      "model_module": "@jupyter-widgets/controls",
      "model_module_version": "2.0.0",
      "model_name": "FloatProgressModel",
      "state": {
       "_dom_classes": [],
       "_model_module": "@jupyter-widgets/controls",
       "_model_module_version": "2.0.0",
       "_model_name": "FloatProgressModel",
       "_view_count": null,
       "_view_module": "@jupyter-widgets/controls",
       "_view_module_version": "2.0.0",
       "_view_name": "ProgressView",
       "bar_style": "success",
       "description": "",
       "description_allow_html": false,
       "layout": "IPY_MODEL_bae58a34d293495fbfc0348a75bec377",
       "max": 4.0,
       "min": 0.0,
       "orientation": "horizontal",
       "style": "IPY_MODEL_342d1318000749c8af0baf3e7b18eb93",
       "tabbable": null,
       "tooltip": null,
       "value": 4.0
      }
     },
     "342d1318000749c8af0baf3e7b18eb93": {
      "model_module": "@jupyter-widgets/controls",
      "model_module_version": "2.0.0",
      "model_name": "ProgressStyleModel",
      "state": {
       "_model_module": "@jupyter-widgets/controls",
       "_model_module_version": "2.0.0",
       "_model_name": "ProgressStyleModel",
       "_view_count": null,
       "_view_module": "@jupyter-widgets/base",
       "_view_module_version": "2.0.0",
       "_view_name": "StyleView",
       "bar_color": null,
       "description_width": ""
      }
     },
     "34ed5a4bc9d9473599b7d2c1faabd4b6": {
      "model_module": "@jupyter-widgets/base",
      "model_module_version": "2.0.0",
      "model_name": "LayoutModel",
      "state": {
       "_model_module": "@jupyter-widgets/base",
       "_model_module_version": "2.0.0",
       "_model_name": "LayoutModel",
       "_view_count": null,
       "_view_module": "@jupyter-widgets/base",
       "_view_module_version": "2.0.0",
       "_view_name": "LayoutView",
       "align_content": null,
       "align_items": null,
       "align_self": null,
       "border_bottom": null,
       "border_left": null,
       "border_right": null,
       "border_top": null,
       "bottom": null,
       "display": null,
       "flex": null,
       "flex_flow": null,
       "grid_area": null,
       "grid_auto_columns": null,
       "grid_auto_flow": null,
       "grid_auto_rows": null,
       "grid_column": null,
       "grid_gap": null,
       "grid_row": null,
       "grid_template_areas": null,
       "grid_template_columns": null,
       "grid_template_rows": null,
       "height": null,
       "justify_content": null,
       "justify_items": null,
       "left": null,
       "margin": null,
       "max_height": null,
       "max_width": null,
       "min_height": null,
       "min_width": null,
       "object_fit": null,
       "object_position": null,
       "order": null,
       "overflow": null,
       "padding": null,
       "right": null,
       "top": null,
       "visibility": null,
       "width": null
      }
     },
     "385564fa99884511a57996b6b003017a": {
      "model_module": "@jupyter-widgets/controls",
      "model_module_version": "2.0.0",
      "model_name": "HTMLModel",
      "state": {
       "_dom_classes": [],
       "_model_module": "@jupyter-widgets/controls",
       "_model_module_version": "2.0.0",
       "_model_name": "HTMLModel",
       "_view_count": null,
       "_view_module": "@jupyter-widgets/controls",
       "_view_module_version": "2.0.0",
       "_view_name": "HTMLView",
       "description": "",
       "description_allow_html": false,
       "layout": "IPY_MODEL_14550ebfcaa848cbbc05dba0eae0c2fb",
       "placeholder": "​",
       "style": "IPY_MODEL_e96c000fc3fb41c4acf2b649ad8158d1",
       "tabbable": null,
       "tooltip": null,
       "value": " 4/4 [00:19&lt;00:00,  4.68s/it]"
      }
     },
     "486015530dcc47e3bd92f7d41cca153c": {
      "model_module": "@jupyter-widgets/controls",
      "model_module_version": "2.0.0",
      "model_name": "HBoxModel",
      "state": {
       "_dom_classes": [],
       "_model_module": "@jupyter-widgets/controls",
       "_model_module_version": "2.0.0",
       "_model_name": "HBoxModel",
       "_view_count": null,
       "_view_module": "@jupyter-widgets/controls",
       "_view_module_version": "2.0.0",
       "_view_name": "HBoxView",
       "box_style": "",
       "children": [
        "IPY_MODEL_226e3775953e4159a985c0eca4f2cde0",
        "IPY_MODEL_30cbbbafae2547f79be1f16169c30397",
        "IPY_MODEL_385564fa99884511a57996b6b003017a"
       ],
       "layout": "IPY_MODEL_5d19a5b7709a4520a86d14578a0e27fd",
       "tabbable": null,
       "tooltip": null
      }
     },
     "5c2d3317f02a4a1daa73d301432d389b": {
      "model_module": "@jupyter-widgets/controls",
      "model_module_version": "2.0.0",
      "model_name": "HTMLModel",
      "state": {
       "_dom_classes": [],
       "_model_module": "@jupyter-widgets/controls",
       "_model_module_version": "2.0.0",
       "_model_name": "HTMLModel",
       "_view_count": null,
       "_view_module": "@jupyter-widgets/controls",
       "_view_module_version": "2.0.0",
       "_view_name": "HTMLView",
       "description": "",
       "description_allow_html": false,
       "layout": "IPY_MODEL_f20b6a158bfa498eb46767593b04d550",
       "placeholder": "​",
       "style": "IPY_MODEL_85d8d653c7cf46cea568d2976f7559b1",
       "tabbable": null,
       "tooltip": null,
       "value": " 4/4 [01:31&lt;00:00, 21.90s/it]"
      }
     },
     "5d19a5b7709a4520a86d14578a0e27fd": {
      "model_module": "@jupyter-widgets/base",
      "model_module_version": "2.0.0",
      "model_name": "LayoutModel",
      "state": {
       "_model_module": "@jupyter-widgets/base",
       "_model_module_version": "2.0.0",
       "_model_name": "LayoutModel",
       "_view_count": null,
       "_view_module": "@jupyter-widgets/base",
       "_view_module_version": "2.0.0",
       "_view_name": "LayoutView",
       "align_content": null,
       "align_items": null,
       "align_self": null,
       "border_bottom": null,
       "border_left": null,
       "border_right": null,
       "border_top": null,
       "bottom": null,
       "display": null,
       "flex": null,
       "flex_flow": null,
       "grid_area": null,
       "grid_auto_columns": null,
       "grid_auto_flow": null,
       "grid_auto_rows": null,
       "grid_column": null,
       "grid_gap": null,
       "grid_row": null,
       "grid_template_areas": null,
       "grid_template_columns": null,
       "grid_template_rows": null,
       "height": null,
       "justify_content": null,
       "justify_items": null,
       "left": null,
       "margin": null,
       "max_height": null,
       "max_width": null,
       "min_height": null,
       "min_width": null,
       "object_fit": null,
       "object_position": null,
       "order": null,
       "overflow": null,
       "padding": null,
       "right": null,
       "top": null,
       "visibility": null,
       "width": null
      }
     },
     "66071f1b306e4e398abebf00f2f3ffe5": {
      "model_module": "@jupyter-widgets/controls",
      "model_module_version": "2.0.0",
      "model_name": "HTMLModel",
      "state": {
       "_dom_classes": [],
       "_model_module": "@jupyter-widgets/controls",
       "_model_module_version": "2.0.0",
       "_model_name": "HTMLModel",
       "_view_count": null,
       "_view_module": "@jupyter-widgets/controls",
       "_view_module_version": "2.0.0",
       "_view_name": "HTMLView",
       "description": "",
       "description_allow_html": false,
       "layout": "IPY_MODEL_34ed5a4bc9d9473599b7d2c1faabd4b6",
       "placeholder": "​",
       "style": "IPY_MODEL_bf49493995ee4834b5d274c37feb4ec2",
       "tabbable": null,
       "tooltip": null,
       "value": "Loading checkpoint shards: 100%"
      }
     },
     "85d8d653c7cf46cea568d2976f7559b1": {
      "model_module": "@jupyter-widgets/controls",
      "model_module_version": "2.0.0",
      "model_name": "HTMLStyleModel",
      "state": {
       "_model_module": "@jupyter-widgets/controls",
       "_model_module_version": "2.0.0",
       "_model_name": "HTMLStyleModel",
       "_view_count": null,
       "_view_module": "@jupyter-widgets/base",
       "_view_module_version": "2.0.0",
       "_view_name": "StyleView",
       "background": null,
       "description_width": "",
       "font_size": null,
       "text_color": null
      }
     },
     "892e3a84fdaf4efcbfb87386c3018fb3": {
      "model_module": "@jupyter-widgets/base",
      "model_module_version": "2.0.0",
      "model_name": "LayoutModel",
      "state": {
       "_model_module": "@jupyter-widgets/base",
       "_model_module_version": "2.0.0",
       "_model_name": "LayoutModel",
       "_view_count": null,
       "_view_module": "@jupyter-widgets/base",
       "_view_module_version": "2.0.0",
       "_view_name": "LayoutView",
       "align_content": null,
       "align_items": null,
       "align_self": null,
       "border_bottom": null,
       "border_left": null,
       "border_right": null,
       "border_top": null,
       "bottom": null,
       "display": null,
       "flex": null,
       "flex_flow": null,
       "grid_area": null,
       "grid_auto_columns": null,
       "grid_auto_flow": null,
       "grid_auto_rows": null,
       "grid_column": null,
       "grid_gap": null,
       "grid_row": null,
       "grid_template_areas": null,
       "grid_template_columns": null,
       "grid_template_rows": null,
       "height": null,
       "justify_content": null,
       "justify_items": null,
       "left": null,
       "margin": null,
       "max_height": null,
       "max_width": null,
       "min_height": null,
       "min_width": null,
       "object_fit": null,
       "object_position": null,
       "order": null,
       "overflow": null,
       "padding": null,
       "right": null,
       "top": null,
       "visibility": null,
       "width": null
      }
     },
     "930e4be905f64478a648322a63c276ca": {
      "model_module": "@jupyter-widgets/controls",
      "model_module_version": "2.0.0",
      "model_name": "FloatProgressModel",
      "state": {
       "_dom_classes": [],
       "_model_module": "@jupyter-widgets/controls",
       "_model_module_version": "2.0.0",
       "_model_name": "FloatProgressModel",
       "_view_count": null,
       "_view_module": "@jupyter-widgets/controls",
       "_view_module_version": "2.0.0",
       "_view_name": "ProgressView",
       "bar_style": "success",
       "description": "",
       "description_allow_html": false,
       "layout": "IPY_MODEL_08644317d1ba4b35bb5a3c5f9f044d8b",
       "max": 4.0,
       "min": 0.0,
       "orientation": "horizontal",
       "style": "IPY_MODEL_0c1ab0a3253a46ffb09ab0eb409b4e14",
       "tabbable": null,
       "tooltip": null,
       "value": 4.0
      }
     },
     "bae58a34d293495fbfc0348a75bec377": {
      "model_module": "@jupyter-widgets/base",
      "model_module_version": "2.0.0",
      "model_name": "LayoutModel",
      "state": {
       "_model_module": "@jupyter-widgets/base",
       "_model_module_version": "2.0.0",
       "_model_name": "LayoutModel",
       "_view_count": null,
       "_view_module": "@jupyter-widgets/base",
       "_view_module_version": "2.0.0",
       "_view_name": "LayoutView",
       "align_content": null,
       "align_items": null,
       "align_self": null,
       "border_bottom": null,
       "border_left": null,
       "border_right": null,
       "border_top": null,
       "bottom": null,
       "display": null,
       "flex": null,
       "flex_flow": null,
       "grid_area": null,
       "grid_auto_columns": null,
       "grid_auto_flow": null,
       "grid_auto_rows": null,
       "grid_column": null,
       "grid_gap": null,
       "grid_row": null,
       "grid_template_areas": null,
       "grid_template_columns": null,
       "grid_template_rows": null,
       "height": null,
       "justify_content": null,
       "justify_items": null,
       "left": null,
       "margin": null,
       "max_height": null,
       "max_width": null,
       "min_height": null,
       "min_width": null,
       "object_fit": null,
       "object_position": null,
       "order": null,
       "overflow": null,
       "padding": null,
       "right": null,
       "top": null,
       "visibility": null,
       "width": null
      }
     },
     "bf49493995ee4834b5d274c37feb4ec2": {
      "model_module": "@jupyter-widgets/controls",
      "model_module_version": "2.0.0",
      "model_name": "HTMLStyleModel",
      "state": {
       "_model_module": "@jupyter-widgets/controls",
       "_model_module_version": "2.0.0",
       "_model_name": "HTMLStyleModel",
       "_view_count": null,
       "_view_module": "@jupyter-widgets/base",
       "_view_module_version": "2.0.0",
       "_view_name": "StyleView",
       "background": null,
       "description_width": "",
       "font_size": null,
       "text_color": null
      }
     },
     "c7ce270db4e943d9b563b8388e29186f": {
      "model_module": "@jupyter-widgets/controls",
      "model_module_version": "2.0.0",
      "model_name": "HTMLStyleModel",
      "state": {
       "_model_module": "@jupyter-widgets/controls",
       "_model_module_version": "2.0.0",
       "_model_name": "HTMLStyleModel",
       "_view_count": null,
       "_view_module": "@jupyter-widgets/base",
       "_view_module_version": "2.0.0",
       "_view_name": "StyleView",
       "background": null,
       "description_width": "",
       "font_size": null,
       "text_color": null
      }
     },
     "e96c000fc3fb41c4acf2b649ad8158d1": {
      "model_module": "@jupyter-widgets/controls",
      "model_module_version": "2.0.0",
      "model_name": "HTMLStyleModel",
      "state": {
       "_model_module": "@jupyter-widgets/controls",
       "_model_module_version": "2.0.0",
       "_model_name": "HTMLStyleModel",
       "_view_count": null,
       "_view_module": "@jupyter-widgets/base",
       "_view_module_version": "2.0.0",
       "_view_name": "StyleView",
       "background": null,
       "description_width": "",
       "font_size": null,
       "text_color": null
      }
     },
     "f20b6a158bfa498eb46767593b04d550": {
      "model_module": "@jupyter-widgets/base",
      "model_module_version": "2.0.0",
      "model_name": "LayoutModel",
      "state": {
       "_model_module": "@jupyter-widgets/base",
       "_model_module_version": "2.0.0",
       "_model_name": "LayoutModel",
       "_view_count": null,
       "_view_module": "@jupyter-widgets/base",
       "_view_module_version": "2.0.0",
       "_view_name": "LayoutView",
       "align_content": null,
       "align_items": null,
       "align_self": null,
       "border_bottom": null,
       "border_left": null,
       "border_right": null,
       "border_top": null,
       "bottom": null,
       "display": null,
       "flex": null,
       "flex_flow": null,
       "grid_area": null,
       "grid_auto_columns": null,
       "grid_auto_flow": null,
       "grid_auto_rows": null,
       "grid_column": null,
       "grid_gap": null,
       "grid_row": null,
       "grid_template_areas": null,
       "grid_template_columns": null,
       "grid_template_rows": null,
       "height": null,
       "justify_content": null,
       "justify_items": null,
       "left": null,
       "margin": null,
       "max_height": null,
       "max_width": null,
       "min_height": null,
       "min_width": null,
       "object_fit": null,
       "object_position": null,
       "order": null,
       "overflow": null,
       "padding": null,
       "right": null,
       "top": null,
       "visibility": null,
       "width": null
      }
     },
     "f7c4dac334d74c5f8d7136da31006c1a": {
      "model_module": "@jupyter-widgets/base",
      "model_module_version": "2.0.0",
      "model_name": "LayoutModel",
      "state": {
       "_model_module": "@jupyter-widgets/base",
       "_model_module_version": "2.0.0",
       "_model_name": "LayoutModel",
       "_view_count": null,
       "_view_module": "@jupyter-widgets/base",
       "_view_module_version": "2.0.0",
       "_view_name": "LayoutView",
       "align_content": null,
       "align_items": null,
       "align_self": null,
       "border_bottom": null,
       "border_left": null,
       "border_right": null,
       "border_top": null,
       "bottom": null,
       "display": null,
       "flex": null,
       "flex_flow": null,
       "grid_area": null,
       "grid_auto_columns": null,
       "grid_auto_flow": null,
       "grid_auto_rows": null,
       "grid_column": null,
       "grid_gap": null,
       "grid_row": null,
       "grid_template_areas": null,
       "grid_template_columns": null,
       "grid_template_rows": null,
       "height": null,
       "justify_content": null,
       "justify_items": null,
       "left": null,
       "margin": null,
       "max_height": null,
       "max_width": null,
       "min_height": null,
       "min_width": null,
       "object_fit": null,
       "object_position": null,
       "order": null,
       "overflow": null,
       "padding": null,
       "right": null,
       "top": null,
       "visibility": null,
       "width": null
      }
     }
    },
    "version_major": 2,
    "version_minor": 0
   }
  }
 },
 "nbformat": 4,
 "nbformat_minor": 5
}
