{
 "cells": [
  {
   "cell_type": "markdown",
   "id": "58a47325",
   "metadata": {
    "_cell_guid": "b1076dfc-b9ad-4769-8c92-a6c4dae69d19",
    "_uuid": "8f2839f25d086af736a60e9eeb907d3b93b6e0e5",
    "papermill": {
     "duration": 0.005721,
     "end_time": "2025-03-22T10:50:43.391645",
     "exception": false,
     "start_time": "2025-03-22T10:50:43.385924",
     "status": "completed"
    },
    "tags": []
   },
   "source": [
    "# Drawing with LLMs Starter Notebook\n",
    "\n",
    "In this competition, we are asked to build a model which takes a string prompt and returns valid [SVG](https://en.wikipedia.org/wiki/SVG) code producing an image matching the prompt.\n",
    "\n",
    "This Notebook goes into more detail about Kaggle Packages, but only provides a simple model which is ready for submission. Also check out Ryan's [more advanced starter notebook](https://www.kaggle.com/code/ryanholbrook/drawing-with-llms-getting-started-with-gemma-2) which uses the Gemma 2 model to get better outputs, but assumes some knowledge of Kaggle Packages.\n",
    "\n",
    "You can `Copy & Edit` this Notebook, `Save Version`, then `Submit` from the saved version's `Output` tab."
   ]
  },
  {
   "cell_type": "markdown",
   "id": "d6b96ba6",
   "metadata": {
    "papermill": {
     "duration": 0.004167,
     "end_time": "2025-03-22T10:50:43.400735",
     "exception": false,
     "start_time": "2025-03-22T10:50:43.396568",
     "status": "completed"
    },
    "tags": []
   },
   "source": [
    "# Introducing Kaggle Packages\n",
    "\n",
    "We're launching new functionality that lets you write Python Packages which can be imported and re-used elsewhere. This Notebook will discuss some details, but check out our full [Kaggle Packages documentation](https://www.kaggle.com/docs/packages) for more information.\n",
    "\n",
    "We use the open-source [`nbdev` library](https://nbdev.fast.ai) which lets you define a Python Package within a Jupyter Notebook. When you `Save Version`, we'll run your whole Notebook as usual, then *also* export all cells with `nbdev`'s special `#| export` tag to a Python Package.  You can navigate to this Notebook's `Output` tab to see the Package it exported!\n",
    "\n",
    "In this competition, you'll write a Package which defines a `class Model` with a `def predict(inputs)` function which returns your predictions. Unlike most Kaggle Code Competitions, you no longer have to manually read the test set, run your inference loop, and write a submission file.  Kaggle Packages expand on some \"API-based\" Code Competitions we've run recently which experimented with similar improvements, and are also an extension of our older Utility Script functionality.\n",
    "1. When you submit to the competition, our internal scoring system will install your Package and run inference over the hidden test set using your `Model`.\n",
    "2. You can use `kagglehub` to install Packages (your own, or any public Packages) elsewhere (on Kaggle, Colab, your machine, etc) and run inference on arbitrary inputs or hook them into an ML pipeline, etc.\n",
    "3. In the future, we may utilize more `nbdev` features like automated documentation."
   ]
  },
  {
   "cell_type": "markdown",
   "id": "289baf87",
   "metadata": {
    "papermill": {
     "duration": 0.004104,
     "end_time": "2025-03-22T10:50:43.409335",
     "exception": false,
     "start_time": "2025-03-22T10:50:43.405231",
     "status": "completed"
    },
    "tags": []
   },
   "source": [
    "## Writing a Package Notebook with `nbdev`\n",
    "\n",
    "With `nbdev`, you write your **Notebook** (you are here) which will run when you `Save Version` as usual, but then *also* exports a subset of its code into the Notebook's Output as a **Python Package**, which can later be imported elsewhere.\n",
    "\n",
    "For example, your Notebook could train a model (code not exported) and export its weights, then **export** your `Model` code which loads those model weights and implements inference in a `predict` function, then run some tests on your `Model` (code not exported) to make sure it works before saving.\n",
    "\n",
    "`nbdev` usage:\n",
    "1. You must have a code cell with `#| default_exp core` which tells `nbdev` to export a Package from this Notebook and write to `core.py`.\n",
    "2. You must **explicitly tag cells** with `#| export` syntax to export them. Cells without that tag are *not* exported.\n",
    "\n",
    "You must make sure that your Package can run on its own and is not reliant on non-exported code, and also follows the competition's expected format (discussed below).  When you `Save Version`, we perform a **Validation Run** on your exported Package which looks for common errors and flags them for you."
   ]
  },
  {
   "cell_type": "code",
   "execution_count": 1,
   "id": "aaa5919d",
   "metadata": {
    "execution": {
     "iopub.execute_input": "2025-03-22T10:50:43.419777Z",
     "iopub.status.busy": "2025-03-22T10:50:43.419347Z",
     "iopub.status.idle": "2025-03-22T10:50:43.424435Z",
     "shell.execute_reply": "2025-03-22T10:50:43.423527Z"
    },
    "papermill": {
     "duration": 0.012227,
     "end_time": "2025-03-22T10:50:43.426044",
     "exception": false,
     "start_time": "2025-03-22T10:50:43.413817",
     "status": "completed"
    },
    "tags": []
   },
   "outputs": [],
   "source": [
    "#| default_exp core"
   ]
  },
  {
   "cell_type": "markdown",
   "id": "d3a6ab57",
   "metadata": {
    "papermill": {
     "duration": 0.004173,
     "end_time": "2025-03-22T10:50:43.434917",
     "exception": false,
     "start_time": "2025-03-22T10:50:43.430744",
     "status": "completed"
    },
    "tags": []
   },
   "source": [
    "The above cell is **required** to produce a Package, it tells `nbdev` to export a Package from this Notebook and write to `core.py`.  Your Package will automatically `import core` when it gets `import`ed.  You don't have to use the name `core`, that is just the standard."
   ]
  },
  {
   "cell_type": "code",
   "execution_count": 2,
   "id": "9e8bf706",
   "metadata": {
    "execution": {
     "iopub.execute_input": "2025-03-22T10:50:43.445310Z",
     "iopub.status.busy": "2025-03-22T10:50:43.444941Z",
     "iopub.status.idle": "2025-03-22T10:50:43.571877Z",
     "shell.execute_reply": "2025-03-22T10:50:43.570482Z"
    },
    "papermill": {
     "duration": 0.134912,
     "end_time": "2025-03-22T10:50:43.574396",
     "exception": false,
     "start_time": "2025-03-22T10:50:43.439484",
     "status": "completed"
    },
    "tags": []
   },
   "outputs": [
    {
     "name": "stdout",
     "output_type": "stream",
     "text": [
      "\u001b[0m\u001b[01;34mkaggle_evaluation\u001b[0m/  questions.parquet  train.csv\r\n"
     ]
    }
   ],
   "source": [
    "ls /kaggle/input/drawing-with-llms/published"
   ]
  },
  {
   "cell_type": "code",
   "execution_count": 3,
   "id": "50dee57c",
   "metadata": {
    "execution": {
     "iopub.execute_input": "2025-03-22T10:50:43.585610Z",
     "iopub.status.busy": "2025-03-22T10:50:43.585217Z",
     "iopub.status.idle": "2025-03-22T10:50:43.708700Z",
     "shell.execute_reply": "2025-03-22T10:50:43.707437Z"
    },
    "papermill": {
     "duration": 0.131658,
     "end_time": "2025-03-22T10:50:43.710927",
     "exception": false,
     "start_time": "2025-03-22T10:50:43.579269",
     "status": "completed"
    },
    "tags": []
   },
   "outputs": [
    {
     "name": "stdout",
     "output_type": "stream",
     "text": [
      "train.csv\r\n"
     ]
    }
   ],
   "source": [
    "ls /kaggle/input/d/nicecaliforniaw/drawing-with-llms"
   ]
  },
  {
   "cell_type": "code",
   "execution_count": 4,
   "id": "573cb6fd",
   "metadata": {
    "execution": {
     "iopub.execute_input": "2025-03-22T10:50:43.722021Z",
     "iopub.status.busy": "2025-03-22T10:50:43.721649Z",
     "iopub.status.idle": "2025-03-22T10:50:44.938444Z",
     "shell.execute_reply": "2025-03-22T10:50:44.937104Z"
    },
    "papermill": {
     "duration": 1.224415,
     "end_time": "2025-03-22T10:50:44.940212",
     "exception": false,
     "start_time": "2025-03-22T10:50:43.715797",
     "status": "completed"
    },
    "tags": []
   },
   "outputs": [
    {
     "data": {
      "text/html": [
       "<div><style>\n",
       ".dataframe > thead > tr,\n",
       ".dataframe > tbody > tr {\n",
       "  text-align: right;\n",
       "  white-space: pre-wrap;\n",
       "}\n",
       "</style>\n",
       "<small>shape: (5, 2)</small><table border=\"1\" class=\"dataframe\"><thead><tr><th>id</th><th>description</th></tr><tr><td>str</td><td>str</td></tr></thead><tbody><tr><td>&quot;02d892&quot;</td><td>&quot;a purple forest at dusk&quot;</td></tr><tr><td>&quot;0dcd2e&quot;</td><td>&quot;gray wool coat with a faux fur…</td></tr><tr><td>&quot;1e9ac1&quot;</td><td>&quot;a lighthouse overlooking the o…</td></tr><tr><td>&quot;2b25db&quot;</td><td>&quot;burgundy corduroy pants with p…</td></tr><tr><td>&quot;4e6a54&quot;</td><td>&quot;orange corduroy overalls&quot;</td></tr></tbody></table></div>"
      ],
      "text/plain": [
       "shape: (5, 2)\n",
       "┌────────┬─────────────────────────────────┐\n",
       "│ id     ┆ description                     │\n",
       "│ ---    ┆ ---                             │\n",
       "│ str    ┆ str                             │\n",
       "╞════════╪═════════════════════════════════╡\n",
       "│ 02d892 ┆ a purple forest at dusk         │\n",
       "│ 0dcd2e ┆ gray wool coat with a faux fur… │\n",
       "│ 1e9ac1 ┆ a lighthouse overlooking the o… │\n",
       "│ 2b25db ┆ burgundy corduroy pants with p… │\n",
       "│ 4e6a54 ┆ orange corduroy overalls        │\n",
       "└────────┴─────────────────────────────────┘"
      ]
     },
     "execution_count": 4,
     "metadata": {},
     "output_type": "execute_result"
    }
   ],
   "source": [
    "# We can load and explore the competition's train set to get a feel for the data.\n",
    "# We're not going to export this cell as it's not needed for our exported inferenceable model.\n",
    "\n",
    "import kagglehub\n",
    "import polars as pl\n",
    "\n",
    "# train_path = kagglehub.competition_download('drawing-with-llms', 'train.csv')\n",
    "train_path = '/kaggle/input/d/nicecaliforniaw/drawing-with-llms/train.csv'\n",
    "train = pl.read_csv(train_path)\n",
    "\n",
    "train.head()"
   ]
  },
  {
   "cell_type": "markdown",
   "id": "f2c2289d",
   "metadata": {
    "papermill": {
     "duration": 0.004583,
     "end_time": "2025-03-22T10:50:44.949902",
     "exception": false,
     "start_time": "2025-03-22T10:50:44.945319",
     "status": "completed"
    },
    "tags": []
   },
   "source": [
    "# Competition Requirement:  Exported Package with Model class\n",
    "\n",
    "Each competition utilizing Packages will require your Package to conform to a competition-specific format.  Generally you must have a `class Model` with a `predict(...)` function, and each competition will have different expectations for the inputs and outputs of `predict`, which will be made clear in competition documentation and Starter Notebooks like this one.\n",
    "\n",
    "In this competition, `predict` takes argument `prompt` of type string and returns a string of valid SVG code.  The competition restricts the space of valid SVG code, see the SVG constraints [here](https://www.kaggle.com/code/metric/svg-constraints)."
   ]
  },
  {
   "cell_type": "code",
   "execution_count": 5,
   "id": "4514eb9f",
   "metadata": {
    "execution": {
     "iopub.execute_input": "2025-03-22T10:50:44.960948Z",
     "iopub.status.busy": "2025-03-22T10:50:44.960601Z",
     "iopub.status.idle": "2025-03-22T10:50:44.965878Z",
     "shell.execute_reply": "2025-03-22T10:50:44.964898Z"
    },
    "papermill": {
     "duration": 0.012575,
     "end_time": "2025-03-22T10:50:44.967299",
     "exception": false,
     "start_time": "2025-03-22T10:50:44.954724",
     "status": "completed"
    },
    "tags": []
   },
   "outputs": [],
   "source": [
    "#| export\n",
    "\n",
    "# NOTE the special `#| export` tag above which means all code in this cell will be exported to your Package.\n",
    "# Make sure to `import` any python packages required by your Model, either here or in other exported cells.\n",
    "\n",
    "class Model:\n",
    "    def __init__(self):\n",
    "        '''Optional constructor, performs any setup logic, model instantiation, etc.'''\n",
    "        pass\n",
    "      \n",
    "    def predict(self, prompt: str) -> str:\n",
    "        '''Generates SVG which produces an image described by the prompt.\n",
    "\n",
    "        Args:\n",
    "            prompt (str): A prompt describing an image\n",
    "        Returns:\n",
    "            String of valid SVG code.\n",
    "        '''\n",
    "        # Renders a simple circle regardless of input\n",
    "        return '<svg width=\"100\" height=\"100\" viewBox=\"0 0 100 100\"><circle cx=\"50\" cy=\"50\" r=\"40\" fill=\"red\" /></svg>'"
   ]
  },
  {
   "cell_type": "markdown",
   "id": "3b7eecd4",
   "metadata": {
    "papermill": {
     "duration": 0.004631,
     "end_time": "2025-03-22T10:50:44.976917",
     "exception": false,
     "start_time": "2025-03-22T10:50:44.972286",
     "status": "completed"
    },
    "tags": []
   },
   "source": [
    "Notice how we put `#| export` so this cell will be included in our exported Package."
   ]
  },
  {
   "cell_type": "markdown",
   "id": "25f0c8cf",
   "metadata": {
    "papermill": {
     "duration": 0.004591,
     "end_time": "2025-03-22T10:50:44.986353",
     "exception": false,
     "start_time": "2025-03-22T10:50:44.981762",
     "status": "completed"
    },
    "tags": []
   },
   "source": [
    "## Optional model validation\n",
    "\n",
    "Now let's **test** our model to make sure it works and conforms to the competition's expected format."
   ]
  },
  {
   "cell_type": "code",
   "execution_count": 6,
   "id": "a1e24363",
   "metadata": {
    "execution": {
     "iopub.execute_input": "2025-03-22T10:50:44.997515Z",
     "iopub.status.busy": "2025-03-22T10:50:44.997086Z",
     "iopub.status.idle": "2025-03-22T10:50:45.004706Z",
     "shell.execute_reply": "2025-03-22T10:50:45.003611Z"
    },
    "papermill": {
     "duration": 0.015218,
     "end_time": "2025-03-22T10:50:45.006418",
     "exception": false,
     "start_time": "2025-03-22T10:50:44.991200",
     "status": "completed"
    },
    "tags": []
   },
   "outputs": [
    {
     "name": "stdout",
     "output_type": "stream",
     "text": [
      "<svg width=\"100\" height=\"100\" viewBox=\"0 0 100 100\"><circle cx=\"50\" cy=\"50\" r=\"40\" fill=\"red\" /></svg>\n"
     ]
    },
    {
     "data": {
      "image/svg+xml": [
       "<svg width=\"100\" height=\"100\" viewBox=\"0 0 100 100\"><circle cx=\"50\" cy=\"50\" r=\"40\" fill=\"red\"/></svg>"
      ],
      "text/plain": [
       "<IPython.core.display.SVG object>"
      ]
     },
     "metadata": {},
     "output_type": "display_data"
    }
   ],
   "source": [
    "# We can play with our Model and render its SVG output (don't export!)\n",
    "\n",
    "from IPython.display import SVG\n",
    "\n",
    "model = Model()\n",
    "svg = model.predict('a goose winning a gold medal')\n",
    "\n",
    "print(svg)\n",
    "display(SVG(svg))"
   ]
  },
  {
   "cell_type": "code",
   "execution_count": 7,
   "id": "2fd6eed8",
   "metadata": {
    "execution": {
     "iopub.execute_input": "2025-03-22T10:50:45.018108Z",
     "iopub.status.busy": "2025-03-22T10:50:45.017755Z",
     "iopub.status.idle": "2025-03-22T10:50:45.024830Z",
     "shell.execute_reply": "2025-03-22T10:50:45.023569Z"
    },
    "papermill": {
     "duration": 0.014973,
     "end_time": "2025-03-22T10:50:45.026661",
     "exception": false,
     "start_time": "2025-03-22T10:50:45.011688",
     "status": "completed"
    },
    "tags": []
   },
   "outputs": [
    {
     "name": "stdout",
     "output_type": "stream",
     "text": [
      "/kaggle/input/drawing-with-llms/published\n"
     ]
    }
   ],
   "source": [
    "cd /kaggle/input/drawing-with-llms/published/"
   ]
  },
  {
   "cell_type": "code",
   "execution_count": 8,
   "id": "4753aa09",
   "metadata": {
    "execution": {
     "iopub.execute_input": "2025-03-22T10:50:45.038582Z",
     "iopub.status.busy": "2025-03-22T10:50:45.038206Z",
     "iopub.status.idle": "2025-03-22T10:50:45.160243Z",
     "shell.execute_reply": "2025-03-22T10:50:45.158426Z"
    },
    "papermill": {
     "duration": 0.130335,
     "end_time": "2025-03-22T10:50:45.162300",
     "exception": false,
     "start_time": "2025-03-22T10:50:45.031965",
     "status": "completed"
    },
    "tags": []
   },
   "outputs": [
    {
     "name": "stdout",
     "output_type": "stream",
     "text": [
      "/kaggle/input/drawing-with-llms/published\r\n"
     ]
    }
   ],
   "source": [
    "!pwd"
   ]
  },
  {
   "cell_type": "code",
   "execution_count": 9,
   "id": "97707d0d",
   "metadata": {
    "execution": {
     "iopub.execute_input": "2025-03-22T10:50:45.174515Z",
     "iopub.status.busy": "2025-03-22T10:50:45.174122Z",
     "iopub.status.idle": "2025-03-22T10:50:45.304848Z",
     "shell.execute_reply": "2025-03-22T10:50:45.303526Z"
    },
    "papermill": {
     "duration": 0.139181,
     "end_time": "2025-03-22T10:50:45.307026",
     "exception": false,
     "start_time": "2025-03-22T10:50:45.167845",
     "status": "completed"
    },
    "tags": []
   },
   "outputs": [
    {
     "name": "stdout",
     "output_type": "stream",
     "text": [
      "\u001b[0m\u001b[01;34mkaggle_evaluation\u001b[0m/  questions.parquet  train.csv\r\n"
     ]
    }
   ],
   "source": [
    "ls"
   ]
  },
  {
   "cell_type": "code",
   "execution_count": 10,
   "id": "cefa2a2d",
   "metadata": {
    "execution": {
     "iopub.execute_input": "2025-03-22T10:50:45.319362Z",
     "iopub.status.busy": "2025-03-22T10:50:45.318946Z",
     "iopub.status.idle": "2025-03-22T10:50:46.879287Z",
     "shell.execute_reply": "2025-03-22T10:50:46.878014Z"
    },
    "papermill": {
     "duration": 1.568836,
     "end_time": "2025-03-22T10:50:46.881282",
     "exception": false,
     "start_time": "2025-03-22T10:50:45.312446",
     "status": "completed"
    },
    "tags": []
   },
   "outputs": [
    {
     "name": "stdout",
     "output_type": "stream",
     "text": [
      "Creating Model instance...\n",
      "Running inference tests...\n",
      "GETPREDICT: 9458c7 - ivory and ebony harlequin trousers\n",
      "GOTPREDICT: 9458c7\n",
      "GETPREDICT: 80caae - a beacon tower facing the sea\n",
      "GOTPREDICT: 80caae\n",
      "GETPREDICT: dbaddf - an expanse of white desert\n",
      "GOTPREDICT: dbaddf\n",
      "GETPREDICT: 91f5df - a wine-colored 12-sided shape connected by turquoise strands\n",
      "GOTPREDICT: 91f5df\n",
      "GETPREDICT: de29af - mountain vistas\n",
      "GOTPREDICT: de29af\n",
      "GETPREDICT: 98051e - ginger ribbed dungarees\n",
      "GOTPREDICT: 98051e\n",
      "GETPREDICT: aa0206 - a violet wood as evening falls\n",
      "GOTPREDICT: aa0206\n",
      "GETPREDICT: c828f0 - indigo prisms circling a copper spire\n",
      "GOTPREDICT: c828f0\n",
      "GETPREDICT: 0168f2 - fuchsia parallelograms over a shimmering tin surface\n",
      "GOTPREDICT: 0168f2\n",
      "GETPREDICT: 4d552b - charcoal cashmere overcoat with a synthetic fur lining\n",
      "GOTPREDICT: 4d552b\n",
      "GETPREDICT: 4e4c8b - an emerald lake beneath an overcast sky\n",
      "GOTPREDICT: 4e4c8b\n",
      "GETPREDICT: 8a64e9 - chestnut ribbed pants with cargo pockets and pewter clasps\n",
      "GOTPREDICT: 8a64e9\n",
      "GETPREDICT: 8021f8 - an aubergine satin neckerchief with fringed edges\n",
      "GOTPREDICT: 8021f8\n",
      "GETPREDICT: 279f7b - scarlet squares in a disordered array\n",
      "GOTPREDICT: 279f7b\n",
      "GETPREDICT: c73bb3 - tan polygons and sky-blue arcs\n",
      "GOTPREDICT: c73bb3\n",
      "Wrote test submission file to \"/tmp/kaggle-evaluation-submission-kjlxjeng.csv\".\n",
      "Success!\n"
     ]
    }
   ],
   "source": [
    "# The competition also provides a function to validate that your Model\n",
    "# loads successfully and meets the competition's expected format.\n",
    "\n",
    "# This is the competition's helper module\n",
    "import kaggle_evaluation\n",
    "\n",
    "kaggle_evaluation.test(Model)"
   ]
  },
  {
   "cell_type": "markdown",
   "id": "4fb502d0",
   "metadata": {
    "papermill": {
     "duration": 0.005287,
     "end_time": "2025-03-22T10:50:46.892553",
     "exception": false,
     "start_time": "2025-03-22T10:50:46.887266",
     "status": "completed"
    },
    "tags": []
   },
   "source": [
    "Notice how we **did not export** these cells since they're only useful for validating your Model, and not something we want to run when importing your Package for inference."
   ]
  },
  {
   "cell_type": "markdown",
   "id": "1e4d091b",
   "metadata": {
    "papermill": {
     "duration": 0.005116,
     "end_time": "2025-03-22T10:50:46.903175",
     "exception": false,
     "start_time": "2025-03-22T10:50:46.898059",
     "status": "completed"
    },
    "tags": []
   },
   "source": [
    "# Advanced Features\n",
    "The above is all you need for a successful submission!  Below we discuss more advanced functionality you can use with Kaggle Packages."
   ]
  },
  {
   "cell_type": "markdown",
   "id": "532ca12d",
   "metadata": {
    "papermill": {
     "duration": 0.005088,
     "end_time": "2025-03-22T10:50:46.913851",
     "exception": false,
     "start_time": "2025-03-22T10:50:46.908763",
     "status": "completed"
    },
    "tags": []
   },
   "source": [
    "## Importing datasources with `kagglehub`\n",
    "\n",
    "If you want your model to use Kaggle Datasources -- Datasets, Models, Notebooks, even other Packages -- you must use `kagglehub` to load it, so that your Package is re-usable and not dependent on implementation details of our Notebooks platform such as our special `/kaggle/input` directory.\n",
    "\n",
    "Example code cell:\n",
    "\n",
    "```python\n",
    "#| export\n",
    "\n",
    "import kagglehub\n",
    "import keras\n",
    "\n",
    "class Model:\n",
    "    def __init__(self):\n",
    "        model_weights_path = kagglehub.model_download('your/model/here', 'model.weights')\n",
    "        self.model = keras.saving.load_model(model_weights_path)\n",
    "\n",
    "    def predict(self, prompt):\n",
    "        return self.model.predict(prompt)\n",
    "```\n",
    "\n",
    "You can still attach Datasources using the Editor sidebar, and use its `Copy kagglehub command` option to get the right code to run in your Notebook.\n",
    "\n",
    "In fact, your Notebook *must* have all Datasources attached before `Save Version`.  You can do this either in the Editor sidebar, or just by executing your `kagglehub` command in your Interactive session.  In this example, the latter would occur simply by instantiating `model = Model()` or running `kaggle_evaluation.test(Model)` which would do the same."
   ]
  },
  {
   "cell_type": "markdown",
   "id": "ef8bff23",
   "metadata": {
    "papermill": {
     "duration": 0.005126,
     "end_time": "2025-03-22T10:50:46.924484",
     "exception": false,
     "start_time": "2025-03-22T10:50:46.919358",
     "status": "completed"
    },
    "tags": []
   },
   "source": [
    "## Storing files in your Package\n",
    "\n",
    "Your Notebook can save **asset** files to your Package which can then be loaded by your Package when it gets installed.  One example is your Notebook can train a model and save the model weights to a file which is included in the exported Package.\n",
    "\n",
    "Example code cell:\n",
    "```python\n",
    "# Train our model. Do NOT export this cell, it should only run in our Notebook.\n",
    "\n",
    "import kagglehub\n",
    "import keras\n",
    "import polars as pl\n",
    "\n",
    "model = keras.Model(...)\n",
    "model.fit(...)\n",
    "\n",
    "model_weights_path = kagglehub.get_package_asset_path('model.keras')\n",
    "model.save(model_weights_path)\n",
    "```\n",
    "\n",
    "Then we'd write our inference Model in another code cell, making sure to export it:\n",
    "```python\n",
    "#| export\n",
    "\n",
    "import kagglehub\n",
    "import keras\n",
    "\n",
    "class Model:\n",
    "    def __init__(self):\n",
    "        model_weights_path = kagglehub.get_package_asset_path('model.keras')\n",
    "        self.model = keras.saving.load_model(model_weights_path)\n",
    "\n",
    "    def predict(self, prompt):\n",
    "        return self.model.predict(prompt)\n",
    "```\n",
    "\n",
    "The first cell will run during `Save Version` and write `model.keras` to your Notebook's Output Package.  Then when your Package is imported later, it will include `model.keras` and the code can read that file as shown.\n",
    "\n",
    "This setup pairs well with the Notebook Editor's `Submit to competition` option.  You can change some model hyperparameters, click `Submit to competition`, which triggers a `Save Version` which executes your Notebook and exports a Package, and then automatically submits your resulting Package upon completion."
   ]
  },
  {
   "cell_type": "markdown",
   "id": "1a7b65a9",
   "metadata": {
    "papermill": {
     "duration": 0.005292,
     "end_time": "2025-03-22T10:50:46.935190",
     "exception": false,
     "start_time": "2025-03-22T10:50:46.929898",
     "status": "completed"
    },
    "tags": []
   },
   "source": [
    "## Install python dependencies using Dependency Manager\n",
    "\n",
    "Kaggle Notebooks have many popular python packages pre-installed in their base Docker Image, but there's a lot of great packages not pre-installed which you may want to use.  Kaggle Notebooks have a **Dependency Manager** tool which not only installs external python packages into your Notebook, but also saves their version so that your Notebook (or exported Package) will use that same version when re-used later.  This is important for our goal of having reproducible artifacts, and also means that your Notebook (or Package) can use those dependencies in a competition scoring session where internet access is not allowed.\n",
    "\n",
    "In the Notebook Editor menu select `Add-ons` -> `Install Dependencies` and write your `pip install ...` commands. In your Interactive Notebook Editor session, you'll need to manually Run from the Dependency Manager window to install them; this requires an active Notebook session with Internet enabled, though note that you'll have to then disable Internet if you want to submit to a competition. When you Save your Notebook, your dependencies will be installed prior to the Save execution even if your Notebook has internet disabled."
   ]
  },
  {
   "cell_type": "markdown",
   "id": "6e3c61d8",
   "metadata": {
    "papermill": {
     "duration": 0.005069,
     "end_time": "2025-03-22T10:50:46.945684",
     "exception": false,
     "start_time": "2025-03-22T10:50:46.940615",
     "status": "completed"
    },
    "tags": []
   },
   "source": [
    "## Using your Model externally\n",
    "\n",
    "With `kagglehub` you can import and run your exported Package anywhere.  To import the Package defined here, run\n",
    "```python\n",
    "import kagglehub\n",
    "\n",
    "package = kagglehub.package_import('dster/drawing-with-llms-starter-notebook')\n",
    "model = package.Model()\n",
    "svg = model.predict('a goose winning a gold medal')\n",
    "```\n",
    "For best results you may want to use the same Docker Image environment or Accelerator used by this Notebook, see the full [Kaggle Packages documentation](https://www.kaggle.com/docs/packages) for more details."
   ]
  }
 ],
 "metadata": {
  "kaggle": {
   "accelerator": "none",
   "dataSources": [
    {
     "databundleVersionId": 11500533,
     "isSourceIdPinned": false,
     "sourceId": 89659,
     "sourceType": "competition"
    },
    {
     "datasetId": 6936975,
     "sourceId": 11123842,
     "sourceType": "datasetVersion"
    }
   ],
   "isGpuEnabled": false,
   "isInternetEnabled": false,
   "language": "python",
   "sourceType": "notebook"
  },
  "kernelspec": {
   "display_name": "Python 3",
   "language": "python",
   "name": "python3"
  },
  "language_info": {
   "codemirror_mode": {
    "name": "ipython",
    "version": 3
   },
   "file_extension": ".py",
   "mimetype": "text/x-python",
   "name": "python",
   "nbconvert_exporter": "python",
   "pygments_lexer": "ipython3",
   "version": "3.10.12"
  },
  "papermill": {
   "default_parameters": {},
   "duration": 7.178309,
   "end_time": "2025-03-22T10:50:47.672536",
   "environment_variables": {},
   "exception": null,
   "input_path": "__notebook__.ipynb",
   "output_path": "__notebook__.ipynb",
   "parameters": {},
   "start_time": "2025-03-22T10:50:40.494227",
   "version": "2.6.0"
  }
 },
 "nbformat": 4,
 "nbformat_minor": 5
}
