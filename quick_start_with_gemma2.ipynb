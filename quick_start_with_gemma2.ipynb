{
 "cells": [
  {
   "cell_type": "markdown",
   "id": "b40047b5",
   "metadata": {
    "papermill": {
     "duration": 0.004377,
     "end_time": "2025-03-22T11:34:32.144992",
     "exception": false,
     "start_time": "2025-03-22T11:34:32.140615",
     "status": "completed"
    },
    "tags": []
   },
   "source": [
    "This notebook implements a submission with Gemma 2 9B IT model with some helper code to ensure the generated SVGs conform to the submission requirements. (See the [Evaluation](https://www.kaggle.com/competitions/drawing-with-llms/overview/evaluation) page for details on the submission requirements.)\n",
    "\n",
    "To use this notebook interactively, you'll need to install some dependencies. First, *turn on* the Internet under **Session options** to the right. Then select the **Add-ons->Install Dependencies** menu above and click *Run*. A console should pop up with a running `pip` command. Wait for the dependencies to finish installing and then *turn off* the Internet before submitting."
   ]
  },
  {
   "cell_type": "code",
   "execution_count": 1,
   "id": "70c8043a",
   "metadata": {
    "execution": {
     "iopub.execute_input": "2025-03-22T11:34:32.153497Z",
     "iopub.status.busy": "2025-03-22T11:34:32.153210Z",
     "iopub.status.idle": "2025-03-22T11:34:32.157509Z",
     "shell.execute_reply": "2025-03-22T11:34:32.156842Z"
    },
    "papermill": {
     "duration": 0.010144,
     "end_time": "2025-03-22T11:34:32.158927",
     "exception": false,
     "start_time": "2025-03-22T11:34:32.148783",
     "status": "completed"
    },
    "tags": []
   },
   "outputs": [],
   "source": [
    "#| default_exp core"
   ]
  },
  {
   "cell_type": "code",
   "execution_count": 2,
   "id": "073a8a2e",
   "metadata": {
    "execution": {
     "iopub.execute_input": "2025-03-22T11:34:32.167083Z",
     "iopub.status.busy": "2025-03-22T11:34:32.166834Z",
     "iopub.status.idle": "2025-03-22T11:34:32.288180Z",
     "shell.execute_reply": "2025-03-22T11:34:32.287240Z"
    },
    "papermill": {
     "duration": 0.12705,
     "end_time": "2025-03-22T11:34:32.289786",
     "exception": false,
     "start_time": "2025-03-22T11:34:32.162736",
     "status": "completed"
    },
    "tags": []
   },
   "outputs": [
    {
     "name": "stdout",
     "output_type": "stream",
     "text": [
      "Python 3.10.12\r\n"
     ]
    }
   ],
   "source": [
    "!python --version"
   ]
  },
  {
   "cell_type": "code",
   "execution_count": 3,
   "id": "53ee49e4",
   "metadata": {
    "execution": {
     "iopub.execute_input": "2025-03-22T11:34:32.298286Z",
     "iopub.status.busy": "2025-03-22T11:34:32.298015Z",
     "iopub.status.idle": "2025-03-22T11:34:32.419940Z",
     "shell.execute_reply": "2025-03-22T11:34:32.419080Z"
    },
    "papermill": {
     "duration": 0.127825,
     "end_time": "2025-03-22T11:34:32.421523",
     "exception": false,
     "start_time": "2025-03-22T11:34:32.293698",
     "status": "completed"
    },
    "tags": []
   },
   "outputs": [
    {
     "name": "stdout",
     "output_type": "stream",
     "text": [
      "\u001b[0m\u001b[01;34mkaggle_evaluation\u001b[0m/  questions.parquet  train.csv\r\n"
     ]
    }
   ],
   "source": [
    "ls /kaggle/input/drawing-with-llms/published"
   ]
  },
  {
   "cell_type": "code",
   "execution_count": 4,
   "id": "1ce22f4f",
   "metadata": {
    "execution": {
     "iopub.execute_input": "2025-03-22T11:34:32.429803Z",
     "iopub.status.busy": "2025-03-22T11:34:32.429522Z",
     "iopub.status.idle": "2025-03-22T11:34:32.564559Z",
     "shell.execute_reply": "2025-03-22T11:34:32.563551Z"
    },
    "papermill": {
     "duration": 0.140635,
     "end_time": "2025-03-22T11:34:32.566006",
     "exception": false,
     "start_time": "2025-03-22T11:34:32.425371",
     "status": "completed"
    },
    "tags": []
   },
   "outputs": [
    {
     "name": "stdout",
     "output_type": "stream",
     "text": [
      "train.csv\r\n"
     ]
    }
   ],
   "source": [
    "ls /kaggle/input/d/nicecaliforniaw/drawing-with-llms"
   ]
  },
  {
   "cell_type": "code",
   "execution_count": 5,
   "id": "4d7d6b10",
   "metadata": {
    "execution": {
     "iopub.execute_input": "2025-03-22T11:34:32.574446Z",
     "iopub.status.busy": "2025-03-22T11:34:32.574225Z",
     "iopub.status.idle": "2025-03-22T11:34:35.812957Z",
     "shell.execute_reply": "2025-03-22T11:34:35.811979Z"
    },
    "papermill": {
     "duration": 3.245027,
     "end_time": "2025-03-22T11:34:35.814952",
     "exception": false,
     "start_time": "2025-03-22T11:34:32.569925",
     "status": "completed"
    },
    "tags": []
   },
   "outputs": [
    {
     "name": "stdout",
     "output_type": "stream",
     "text": [
      "Requirement already satisfied: google-re2 in /usr/local/lib/python3.10/dist-packages (1.1.20240702)\r\n"
     ]
    }
   ],
   "source": [
    "# !pip install re2\n",
    "!pip install google-re2"
   ]
  },
  {
   "cell_type": "code",
   "execution_count": 6,
   "id": "2341c865",
   "metadata": {
    "execution": {
     "iopub.execute_input": "2025-03-22T11:34:35.823658Z",
     "iopub.status.busy": "2025-03-22T11:34:35.823430Z",
     "iopub.status.idle": "2025-03-22T11:34:35.830722Z",
     "shell.execute_reply": "2025-03-22T11:34:35.830125Z"
    },
    "papermill": {
     "duration": 0.012813,
     "end_time": "2025-03-22T11:34:35.831756",
     "exception": false,
     "start_time": "2025-03-22T11:34:35.818943",
     "status": "completed"
    },
    "tags": []
   },
   "outputs": [
    {
     "name": "stdout",
     "output_type": "stream",
     "text": [
      "re2 module is installed.\n"
     ]
    }
   ],
   "source": [
    "try:\n",
    "    import re2\n",
    "    print(\"re2 module is installed.\")\n",
    "except ImportError:\n",
    "    print(\"re2 module is not installed.\")"
   ]
  },
  {
   "cell_type": "code",
   "execution_count": 7,
   "id": "ebf8e808",
   "metadata": {
    "execution": {
     "iopub.execute_input": "2025-03-22T11:34:35.839628Z",
     "iopub.status.busy": "2025-03-22T11:34:35.839430Z",
     "iopub.status.idle": "2025-03-22T11:34:39.057559Z",
     "shell.execute_reply": "2025-03-22T11:34:39.056527Z"
    },
    "papermill": {
     "duration": 3.22368,
     "end_time": "2025-03-22T11:34:39.059172",
     "exception": false,
     "start_time": "2025-03-22T11:34:35.835492",
     "status": "completed"
    },
    "tags": []
   },
   "outputs": [
    {
     "name": "stdout",
     "output_type": "stream",
     "text": [
      "Requirement already satisfied: cairosvg in /usr/local/lib/python3.10/dist-packages (2.7.1)\r\n",
      "Requirement already satisfied: cairocffi in /usr/local/lib/python3.10/dist-packages (from cairosvg) (1.7.1)\r\n",
      "Requirement already satisfied: cssselect2 in /usr/local/lib/python3.10/dist-packages (from cairosvg) (0.8.0)\r\n",
      "Requirement already satisfied: defusedxml in /usr/local/lib/python3.10/dist-packages (from cairosvg) (0.7.1)\r\n",
      "Requirement already satisfied: pillow in /usr/local/lib/python3.10/dist-packages (from cairosvg) (11.0.0)\r\n",
      "Requirement already satisfied: tinycss2 in /usr/local/lib/python3.10/dist-packages (from cairosvg) (1.4.0)\r\n",
      "Requirement already satisfied: cffi>=1.1.0 in /usr/local/lib/python3.10/dist-packages (from cairocffi->cairosvg) (1.17.1)\r\n",
      "Requirement already satisfied: webencodings in /usr/local/lib/python3.10/dist-packages (from cssselect2->cairosvg) (0.5.1)\r\n",
      "Requirement already satisfied: pycparser in /usr/local/lib/python3.10/dist-packages (from cffi>=1.1.0->cairocffi->cairosvg) (2.22)\r\n"
     ]
    }
   ],
   "source": [
    "!pip install cairosvg"
   ]
  },
  {
   "cell_type": "code",
   "execution_count": 8,
   "id": "3573172e",
   "metadata": {
    "execution": {
     "iopub.execute_input": "2025-03-22T11:34:39.068575Z",
     "iopub.status.busy": "2025-03-22T11:34:39.068342Z",
     "iopub.status.idle": "2025-03-22T11:34:42.531534Z",
     "shell.execute_reply": "2025-03-22T11:34:42.530356Z"
    },
    "papermill": {
     "duration": 3.47003,
     "end_time": "2025-03-22T11:34:42.533335",
     "exception": false,
     "start_time": "2025-03-22T11:34:39.063305",
     "status": "completed"
    },
    "tags": []
   },
   "outputs": [
    {
     "name": "stdout",
     "output_type": "stream",
     "text": [
      "Requirement already satisfied: bitsandbytes in /usr/local/lib/python3.10/dist-packages (0.45.3)\r\n",
      "Requirement already satisfied: torch<3,>=2.0 in /usr/local/lib/python3.10/dist-packages (from bitsandbytes) (2.5.1+cu121)\r\n",
      "Requirement already satisfied: numpy>=1.17 in /usr/local/lib/python3.10/dist-packages (from bitsandbytes) (1.26.4)\r\n",
      "Requirement already satisfied: mkl_fft in /usr/local/lib/python3.10/dist-packages (from numpy>=1.17->bitsandbytes) (1.3.8)\r\n",
      "Requirement already satisfied: mkl_random in /usr/local/lib/python3.10/dist-packages (from numpy>=1.17->bitsandbytes) (1.2.4)\r\n",
      "Requirement already satisfied: mkl_umath in /usr/local/lib/python3.10/dist-packages (from numpy>=1.17->bitsandbytes) (0.1.1)\r\n",
      "Requirement already satisfied: mkl in /usr/local/lib/python3.10/dist-packages (from numpy>=1.17->bitsandbytes) (2025.0.1)\r\n",
      "Requirement already satisfied: tbb4py in /usr/local/lib/python3.10/dist-packages (from numpy>=1.17->bitsandbytes) (2022.0.0)\r\n",
      "Requirement already satisfied: mkl-service in /usr/local/lib/python3.10/dist-packages (from numpy>=1.17->bitsandbytes) (2.4.1)\r\n",
      "Requirement already satisfied: filelock in /usr/local/lib/python3.10/dist-packages (from torch<3,>=2.0->bitsandbytes) (3.17.0)\r\n",
      "Requirement already satisfied: typing-extensions>=4.8.0 in /usr/local/lib/python3.10/dist-packages (from torch<3,>=2.0->bitsandbytes) (4.12.2)\r\n",
      "Requirement already satisfied: networkx in /usr/local/lib/python3.10/dist-packages (from torch<3,>=2.0->bitsandbytes) (3.4.2)\r\n",
      "Requirement already satisfied: jinja2 in /usr/local/lib/python3.10/dist-packages (from torch<3,>=2.0->bitsandbytes) (3.1.4)\r\n",
      "Requirement already satisfied: fsspec in /usr/local/lib/python3.10/dist-packages (from torch<3,>=2.0->bitsandbytes) (2024.12.0)\r\n",
      "Requirement already satisfied: sympy==1.13.1 in /usr/local/lib/python3.10/dist-packages (from torch<3,>=2.0->bitsandbytes) (1.13.1)\r\n",
      "Requirement already satisfied: mpmath<1.4,>=1.1.0 in /usr/local/lib/python3.10/dist-packages (from sympy==1.13.1->torch<3,>=2.0->bitsandbytes) (1.3.0)\r\n",
      "Requirement already satisfied: MarkupSafe>=2.0 in /usr/local/lib/python3.10/dist-packages (from jinja2->torch<3,>=2.0->bitsandbytes) (3.0.2)\r\n",
      "Requirement already satisfied: intel-openmp>=2024 in /usr/local/lib/python3.10/dist-packages (from mkl->numpy>=1.17->bitsandbytes) (2024.2.0)\r\n",
      "Requirement already satisfied: tbb==2022.* in /usr/local/lib/python3.10/dist-packages (from mkl->numpy>=1.17->bitsandbytes) (2022.0.0)\r\n",
      "Requirement already satisfied: tcmlib==1.* in /usr/local/lib/python3.10/dist-packages (from tbb==2022.*->mkl->numpy>=1.17->bitsandbytes) (1.2.0)\r\n",
      "Requirement already satisfied: intel-cmplr-lib-rt in /usr/local/lib/python3.10/dist-packages (from mkl_umath->numpy>=1.17->bitsandbytes) (2024.2.0)\r\n",
      "Requirement already satisfied: intel-cmplr-lib-ur==2024.2.0 in /usr/local/lib/python3.10/dist-packages (from intel-openmp>=2024->mkl->numpy>=1.17->bitsandbytes) (2024.2.0)\r\n"
     ]
    }
   ],
   "source": [
    "!pip install -U bitsandbytes"
   ]
  },
  {
   "cell_type": "code",
   "execution_count": 9,
   "id": "6741b321",
   "metadata": {
    "execution": {
     "iopub.execute_input": "2025-03-22T11:34:42.542568Z",
     "iopub.status.busy": "2025-03-22T11:34:42.542297Z",
     "iopub.status.idle": "2025-03-22T11:34:45.900966Z",
     "shell.execute_reply": "2025-03-22T11:34:45.900153Z"
    },
    "papermill": {
     "duration": 3.364636,
     "end_time": "2025-03-22T11:34:45.902275",
     "exception": false,
     "start_time": "2025-03-22T11:34:42.537639",
     "status": "completed"
    },
    "tags": []
   },
   "outputs": [
    {
     "name": "stdout",
     "output_type": "stream",
     "text": [
      "0.45.3\n"
     ]
    }
   ],
   "source": [
    "import bitsandbytes\n",
    "print(bitsandbytes.__version__)"
   ]
  },
  {
   "cell_type": "code",
   "execution_count": 10,
   "id": "875ab641",
   "metadata": {
    "execution": {
     "iopub.execute_input": "2025-03-22T11:34:45.911532Z",
     "iopub.status.busy": "2025-03-22T11:34:45.911181Z",
     "iopub.status.idle": "2025-03-22T11:34:53.355591Z",
     "shell.execute_reply": "2025-03-22T11:34:53.354864Z"
    },
    "papermill": {
     "duration": 7.450629,
     "end_time": "2025-03-22T11:34:53.357145",
     "exception": false,
     "start_time": "2025-03-22T11:34:45.906516",
     "status": "completed"
    },
    "tags": []
   },
   "outputs": [],
   "source": [
    "#| export\n",
    "import concurrent\n",
    "import io\n",
    "import logging\n",
    "import re\n",
    "import re2\n",
    "\n",
    "import cairosvg\n",
    "import kagglehub\n",
    "import torch\n",
    "from lxml import etree\n",
    "from transformers import AutoTokenizer, AutoModelForCausalLM, BitsAndBytesConfig\n",
    "\n",
    "svg_constraints = kagglehub.package_import('metric/svg-constraints')\n",
    "\n",
    "DEVICE = torch.device(\"cuda\" if torch.cuda.is_available() else \"cpu\")\n",
    "\n",
    "\n",
    "class Model:\n",
    "    def __init__(self):\n",
    "         # Quantization Configuration\n",
    "        quantization_config = BitsAndBytesConfig(\n",
    "            load_in_4bit=True,\n",
    "            bnb_4bit_quant_type=\"nf4\",\n",
    "            bnb_4bit_use_double_quant=True,\n",
    "            bnb_4bit_compute_dtype=torch.float16,\n",
    "        )\n",
    "        self.model_path = kagglehub.model_download('google/gemma-2/Transformers/gemma-2-9b-it/2')\n",
    "        self.tokenizer = AutoTokenizer.from_pretrained(self.model_path)\n",
    "        self.model = AutoModelForCausalLM.from_pretrained(\n",
    "            self.model_path,\n",
    "            device_map=\"auto\",\n",
    "            quantization_config=quantization_config,\n",
    "        )\n",
    "        self.prompt_template = \"\"\"Generate SVG code to visually represent the following text description, while respecting the given constraints.\n",
    "<constraints>\n",
    "* **Allowed Elements:** `svg`, `path`, `circle`, `rect`, `ellipse`, `line`, `polyline`, `polygon`, `g`, `linearGradient`, `radialGradient`, `stop`, `defs`\n",
    "* **Allowed Attributes:** `viewBox`, `width`, `height`, `fill`, `stroke`, `stroke-width`, `d`, `cx`, `cy`, `r`, `x`, `y`, `rx`, `ry`, `x1`, `y1`, `x2`, `y2`, `points`, `transform`, `opacity`\n",
    "</constraints>\n",
    "\n",
    "<example>\n",
    "<description>\"A red circle with a blue square inside\"</description>\n",
    "```svg\n",
    "<svg viewBox=\"0 0 256 256\" width=\"256\" height=\"256\">\n",
    "  <circle cx=\"50\" cy=\"50\" r=\"40\" fill=\"red\"/>\n",
    "  <rect x=\"30\" y=\"30\" width=\"40\" height=\"40\" fill=\"blue\"/>\n",
    "</svg>\n",
    "```\n",
    "</example>\n",
    "\n",
    "\n",
    "Please ensure that the generated SVG code is well-formed, valid, and strictly adheres to these constraints. Focus on a clear and concise representation of the input description within the given limitations. Always give the complete SVG code with nothing omitted. Never use an ellipsis.\n",
    "\n",
    "<description>\"{}\"</description>\n",
    "```svg\n",
    "<svg viewBox=\"0 0 256 256\" width=\"256\" height=\"256\">\n",
    "\"\"\"\n",
    "        self.default_svg = \"\"\"<svg width=\"256\" height=\"256\" viewBox=\"0 0 256 256\"><circle cx=\"50\" cy=\"50\" r=\"40\" fill=\"red\" /></svg>\"\"\"\n",
    "        self.constraints = svg_constraints.SVGConstraints()\n",
    "        self.timeout_seconds = 90\n",
    "\n",
    "    \n",
    "    \n",
    "    # You could try increasing `max_new_tokens`\n",
    "    def predict(self, description: str, max_new_tokens=512) -> str:\n",
    "        def generate_svg():\n",
    "            try:\n",
    "                prompt = self.prompt_template.format(description)\n",
    "                inputs = self.tokenizer(text=prompt, return_tensors=\"pt\").to(DEVICE)\n",
    "\n",
    "                with torch.no_grad():\n",
    "                    output = self.model.generate(\n",
    "                        **inputs,\n",
    "                        max_new_tokens=max_new_tokens,\n",
    "                        do_sample=True,\n",
    "                    )\n",
    "\n",
    "                output_decoded = self.tokenizer.decode(output[0], skip_special_tokens=True)\n",
    "                logging.debug('Output decoded from model: %s', output_decoded)\n",
    "\n",
    "                matches = re.findall(r\"<svg.*?</svg>\", output_decoded, re.DOTALL | re.IGNORECASE)\n",
    "                if matches:\n",
    "                    svg = matches[-1]\n",
    "                else:\n",
    "                    return self.default_svg\n",
    "\n",
    "                logging.debug('Unprocessed SVG: %s', svg)\n",
    "                svg = self.enforce_constraints(svg)\n",
    "                logging.debug('Processed SVG: %s', svg)\n",
    "                # Ensure the generated code can be converted by cairosvg\n",
    "                cairosvg.svg2png(bytestring=svg.encode('utf-8'))\n",
    "                return svg\n",
    "            except Exception as e:\n",
    "                logging.error('Exception during SVG generation: %s', e)\n",
    "                return self.default_svg\n",
    "\n",
    "        # Execute SVG generation in a new thread to enforce time constraints\n",
    "        with concurrent.futures.ThreadPoolExecutor(max_workers=1) as executor:\n",
    "            future = executor.submit(generate_svg)\n",
    "            try:\n",
    "                return future.result(timeout=self.timeout_seconds)\n",
    "            except concurrent.futures.TimeoutError:\n",
    "                logging.warning(\"Prediction timed out after %s seconds.\", self.timeout_seconds)\n",
    "                return self.default_svg\n",
    "            except Exception as e:\n",
    "                logging.error(f\"An unexpected error occurred: {e}\")\n",
    "                return self.default_svg\n",
    "\n",
    "    def enforce_constraints(self, svg_string: str) -> str:\n",
    "        \"\"\"Enforces constraints on an SVG string, removing disallowed elements\n",
    "        and attributes.\n",
    "\n",
    "        Parameters\n",
    "        ----------\n",
    "        svg_string : str\n",
    "            The SVG string to process.\n",
    "\n",
    "        Returns\n",
    "        -------\n",
    "        str\n",
    "            The processed SVG string, or the default SVG if constraints\n",
    "            cannot be satisfied.\n",
    "        \"\"\"\n",
    "        logging.info('Sanitizing SVG...')\n",
    "\n",
    "        try:\n",
    "            parser = etree.XMLParser(remove_blank_text=True, remove_comments=True)\n",
    "            root = etree.fromstring(svg_string, parser=parser)\n",
    "        except etree.ParseError as e:\n",
    "            logging.error('SVG Parse Error: %s. Returning default SVG.', e)\n",
    "            return self.default_svg\n",
    "    \n",
    "        elements_to_remove = []\n",
    "        for element in root.iter():\n",
    "            tag_name = etree.QName(element.tag).localname\n",
    "    \n",
    "            # Remove disallowed elements\n",
    "            if tag_name not in self.constraints.allowed_elements:\n",
    "                elements_to_remove.append(element)\n",
    "                continue  # Skip attribute checks for removed elements\n",
    "    \n",
    "            # Remove disallowed attributes\n",
    "            attrs_to_remove = []\n",
    "            for attr in element.attrib:\n",
    "                attr_name = etree.QName(attr).localname\n",
    "                if (\n",
    "                    attr_name\n",
    "                    not in self.constraints.allowed_elements[tag_name]\n",
    "                    and attr_name\n",
    "                    not in self.constraints.allowed_elements['common']\n",
    "                ):\n",
    "                    attrs_to_remove.append(attr)\n",
    "    \n",
    "            for attr in attrs_to_remove:\n",
    "                logging.debug(\n",
    "                    'Attribute \"%s\" for element \"%s\" not allowed. Removing.',\n",
    "                    attr,\n",
    "                    tag_name,\n",
    "                )\n",
    "                del element.attrib[attr]\n",
    "    \n",
    "            # Check and remove invalid href attributes\n",
    "            for attr, value in element.attrib.items():\n",
    "                 if etree.QName(attr).localname == 'href' and not value.startswith('#'):\n",
    "                    logging.debug(\n",
    "                        'Removing invalid href attribute in element \"%s\".', tag_name\n",
    "                    )\n",
    "                    del element.attrib[attr]\n",
    "\n",
    "            # Validate path elements to help ensure SVG conversion\n",
    "            if tag_name == 'path':\n",
    "                d_attribute = element.get('d')\n",
    "                if not d_attribute:\n",
    "                    logging.warning('Path element is missing \"d\" attribute. Removing path.')\n",
    "                    elements_to_remove.append(element)\n",
    "                    continue # Skip further checks for this removed element\n",
    "                # Use regex to validate 'd' attribute format\n",
    "                path_regex = re2.compile(\n",
    "                    r'^'  # Start of string\n",
    "                    r'(?:'  # Non-capturing group for each command + numbers block\n",
    "                    r'[MmZzLlHhVvCcSsQqTtAa]'  # Valid SVG path commands (adjusted to exclude extra letters)\n",
    "                    r'\\s*'  # Optional whitespace after command\n",
    "                    r'(?:'  # Non-capturing group for optional numbers\n",
    "                    r'-?\\d+(?:\\.\\d+)?(?:[Ee][+-]?\\d+)?'  # First number\n",
    "                    r'(?:[\\s,]+-?\\d+(?:\\.\\d+)?(?:[Ee][+-]?\\d+)?)*'  # Subsequent numbers with mandatory separator(s)\n",
    "                    r')?'  # Numbers are optional (e.g. for Z command)\n",
    "                    r'\\s*'  # Optional whitespace after numbers/command block\n",
    "                    r')+'  # One or more command blocks\n",
    "                    r'\\s*'  # Optional trailing whitespace\n",
    "                    r'$'  # End of string\n",
    "                )\n",
    "                if not path_regex.match(d_attribute):\n",
    "                    logging.warning(\n",
    "                        'Path element has malformed \"d\" attribute format. Removing path.'\n",
    "                    )\n",
    "                    elements_to_remove.append(element)\n",
    "                    continue\n",
    "                logging.debug('Path element \"d\" attribute validated (regex check).')\n",
    "        \n",
    "        # Remove elements marked for removal\n",
    "        for element in elements_to_remove:\n",
    "            if element.getparent() is not None:\n",
    "                element.getparent().remove(element)\n",
    "                logging.debug('Removed element: %s', element.tag)\n",
    "\n",
    "        try:\n",
    "            cleaned_svg_string = etree.tostring(root, encoding='unicode')\n",
    "            return cleaned_svg_string\n",
    "        except ValueError as e:\n",
    "            logging.error(\n",
    "                'SVG could not be sanitized to meet constraints: %s', e\n",
    "            )\n",
    "            return self.default_svg"
   ]
  },
  {
   "cell_type": "code",
   "execution_count": 11,
   "id": "fe3963c6",
   "metadata": {
    "execution": {
     "iopub.execute_input": "2025-03-22T11:34:53.366315Z",
     "iopub.status.busy": "2025-03-22T11:34:53.365946Z",
     "iopub.status.idle": "2025-03-22T11:34:53.494813Z",
     "shell.execute_reply": "2025-03-22T11:34:53.493640Z"
    },
    "papermill": {
     "duration": 0.135109,
     "end_time": "2025-03-22T11:34:53.496530",
     "exception": false,
     "start_time": "2025-03-22T11:34:53.361421",
     "status": "completed"
    },
    "tags": []
   },
   "outputs": [
    {
     "name": "stdout",
     "output_type": "stream",
     "text": [
      "/kaggle/working\r\n"
     ]
    }
   ],
   "source": [
    "!pwd"
   ]
  },
  {
   "cell_type": "code",
   "execution_count": 12,
   "id": "cf5e3f8b",
   "metadata": {
    "execution": {
     "iopub.execute_input": "2025-03-22T11:34:53.505986Z",
     "iopub.status.busy": "2025-03-22T11:34:53.505723Z",
     "iopub.status.idle": "2025-03-22T11:34:53.639279Z",
     "shell.execute_reply": "2025-03-22T11:34:53.638166Z"
    },
    "papermill": {
     "duration": 0.139994,
     "end_time": "2025-03-22T11:34:53.640929",
     "exception": false,
     "start_time": "2025-03-22T11:34:53.500935",
     "status": "completed"
    },
    "tags": []
   },
   "outputs": [
    {
     "name": "stdout",
     "output_type": "stream",
     "text": [
      "\u001b[0m\u001b[01;34mkaggle_evaluation\u001b[0m/  questions.parquet  train.csv\r\n"
     ]
    }
   ],
   "source": [
    "ls /kaggle/input/drawing-with-llms/published"
   ]
  },
  {
   "cell_type": "code",
   "execution_count": 13,
   "id": "f5cd0db8",
   "metadata": {
    "execution": {
     "iopub.execute_input": "2025-03-22T11:34:53.650681Z",
     "iopub.status.busy": "2025-03-22T11:34:53.650394Z",
     "iopub.status.idle": "2025-03-22T11:34:53.656925Z",
     "shell.execute_reply": "2025-03-22T11:34:53.656161Z"
    },
    "papermill": {
     "duration": 0.012823,
     "end_time": "2025-03-22T11:34:53.658188",
     "exception": false,
     "start_time": "2025-03-22T11:34:53.645365",
     "status": "completed"
    },
    "tags": []
   },
   "outputs": [
    {
     "name": "stdout",
     "output_type": "stream",
     "text": [
      "/kaggle/input/drawing-with-llms/published\n"
     ]
    }
   ],
   "source": [
    "cd /kaggle/input/drawing-with-llms/published"
   ]
  },
  {
   "cell_type": "code",
   "execution_count": 14,
   "id": "25f40c43",
   "metadata": {
    "execution": {
     "iopub.execute_input": "2025-03-22T11:34:53.667996Z",
     "iopub.status.busy": "2025-03-22T11:34:53.667722Z",
     "iopub.status.idle": "2025-03-22T11:34:53.806654Z",
     "shell.execute_reply": "2025-03-22T11:34:53.805752Z"
    },
    "papermill": {
     "duration": 0.145435,
     "end_time": "2025-03-22T11:34:53.808238",
     "exception": false,
     "start_time": "2025-03-22T11:34:53.662803",
     "status": "completed"
    },
    "tags": []
   },
   "outputs": [
    {
     "name": "stdout",
     "output_type": "stream",
     "text": [
      "\u001b[0m\u001b[01;34mkaggle_evaluation\u001b[0m/  questions.parquet  train.csv\r\n"
     ]
    }
   ],
   "source": [
    "ls"
   ]
  },
  {
   "cell_type": "markdown",
   "id": "d196b6d4",
   "metadata": {
    "papermill": {
     "duration": 0.003977,
     "end_time": "2025-03-22T11:34:53.816911",
     "exception": false,
     "start_time": "2025-03-22T11:34:53.812934",
     "status": "completed"
    },
    "tags": []
   },
   "source": [
    "The following code tests the above model in a local mock-up of this competition's evaluation pipeline. It runs the model on a sample of 15 instances defined in the `test.csv` file in the `kaggle_evaluation` package folder."
   ]
  },
  {
   "cell_type": "code",
   "execution_count": 15,
   "id": "5a939eda",
   "metadata": {
    "execution": {
     "iopub.execute_input": "2025-03-22T11:34:53.826276Z",
     "iopub.status.busy": "2025-03-22T11:34:53.825930Z",
     "iopub.status.idle": "2025-03-22T11:44:12.903008Z",
     "shell.execute_reply": "2025-03-22T11:44:12.901856Z"
    },
    "papermill": {
     "duration": 559.083624,
     "end_time": "2025-03-22T11:44:12.904641",
     "exception": false,
     "start_time": "2025-03-22T11:34:53.821017",
     "status": "completed"
    },
    "tags": []
   },
   "outputs": [
    {
     "name": "stdout",
     "output_type": "stream",
     "text": [
      "Creating Model instance...\n"
     ]
    },
    {
     "data": {
      "application/vnd.jupyter.widget-view+json": {
       "model_id": "2b6010d7038244ecb2a3d2c85f2fc0dd",
       "version_major": 2,
       "version_minor": 0
      },
      "text/plain": [
       "Loading checkpoint shards:   0%|          | 0/4 [00:00<?, ?it/s]"
      ]
     },
     "metadata": {},
     "output_type": "display_data"
    },
    {
     "name": "stdout",
     "output_type": "stream",
     "text": [
      "Running inference tests...\n",
      "GETPREDICT: c73bb3 - tan polygons and sky-blue arcs\n"
     ]
    },
    {
     "name": "stderr",
     "output_type": "stream",
     "text": [
      "The 'batch_size' attribute of HybridCache is deprecated and will be removed in v4.49. Use the more precisely named 'self.max_batch_size' attribute instead.\n",
      "INFO:root:Sanitizing SVG...\n"
     ]
    },
    {
     "name": "stdout",
     "output_type": "stream",
     "text": [
      "GOTPREDICT: c73bb3\n",
      "GETPREDICT: 4e4c8b - an emerald lake beneath an overcast sky\n"
     ]
    },
    {
     "name": "stderr",
     "output_type": "stream",
     "text": [
      "INFO:root:Sanitizing SVG...\n"
     ]
    },
    {
     "name": "stdout",
     "output_type": "stream",
     "text": [
      "GOTPREDICT: 4e4c8b\n",
      "GETPREDICT: 98051e - ginger ribbed dungarees\n"
     ]
    },
    {
     "name": "stderr",
     "output_type": "stream",
     "text": [
      "INFO:root:Sanitizing SVG...\n"
     ]
    },
    {
     "name": "stdout",
     "output_type": "stream",
     "text": [
      "GOTPREDICT: 98051e\n",
      "GETPREDICT: c828f0 - indigo prisms circling a copper spire\n"
     ]
    },
    {
     "name": "stderr",
     "output_type": "stream",
     "text": [
      "INFO:root:Sanitizing SVG...\n"
     ]
    },
    {
     "name": "stdout",
     "output_type": "stream",
     "text": [
      "GOTPREDICT: c828f0\n",
      "GETPREDICT: 91f5df - a wine-colored 12-sided shape connected by turquoise strands\n"
     ]
    },
    {
     "name": "stderr",
     "output_type": "stream",
     "text": [
      "INFO:root:Sanitizing SVG...\n"
     ]
    },
    {
     "name": "stdout",
     "output_type": "stream",
     "text": [
      "GOTPREDICT: 91f5df\n",
      "GETPREDICT: 0168f2 - fuchsia parallelograms over a shimmering tin surface\n"
     ]
    },
    {
     "name": "stderr",
     "output_type": "stream",
     "text": [
      "INFO:root:Sanitizing SVG...\n"
     ]
    },
    {
     "name": "stdout",
     "output_type": "stream",
     "text": [
      "GOTPREDICT: 0168f2\n",
      "GETPREDICT: 8021f8 - an aubergine satin neckerchief with fringed edges\n"
     ]
    },
    {
     "name": "stderr",
     "output_type": "stream",
     "text": [
      "INFO:root:Sanitizing SVG...\n"
     ]
    },
    {
     "name": "stdout",
     "output_type": "stream",
     "text": [
      "GOTPREDICT: 8021f8\n",
      "GETPREDICT: dbaddf - an expanse of white desert\n"
     ]
    },
    {
     "name": "stderr",
     "output_type": "stream",
     "text": [
      "INFO:root:Sanitizing SVG...\n"
     ]
    },
    {
     "name": "stdout",
     "output_type": "stream",
     "text": [
      "GOTPREDICT: dbaddf\n",
      "GETPREDICT: aa0206 - a violet wood as evening falls\n"
     ]
    },
    {
     "name": "stderr",
     "output_type": "stream",
     "text": [
      "INFO:root:Sanitizing SVG...\n"
     ]
    },
    {
     "name": "stdout",
     "output_type": "stream",
     "text": [
      "GOTPREDICT: aa0206\n",
      "GETPREDICT: 279f7b - scarlet squares in a disordered array\n"
     ]
    },
    {
     "name": "stderr",
     "output_type": "stream",
     "text": [
      "INFO:root:Sanitizing SVG...\n"
     ]
    },
    {
     "name": "stdout",
     "output_type": "stream",
     "text": [
      "GOTPREDICT: 279f7b\n",
      "GETPREDICT: 8a64e9 - chestnut ribbed pants with cargo pockets and pewter clasps\n"
     ]
    },
    {
     "name": "stderr",
     "output_type": "stream",
     "text": [
      "INFO:root:Sanitizing SVG...\n"
     ]
    },
    {
     "name": "stdout",
     "output_type": "stream",
     "text": [
      "GOTPREDICT: 8a64e9\n",
      "GETPREDICT: 4d552b - charcoal cashmere overcoat with a synthetic fur lining\n"
     ]
    },
    {
     "name": "stderr",
     "output_type": "stream",
     "text": [
      "INFO:root:Sanitizing SVG...\n"
     ]
    },
    {
     "name": "stdout",
     "output_type": "stream",
     "text": [
      "GOTPREDICT: 4d552b\n",
      "GETPREDICT: 80caae - a beacon tower facing the sea\n"
     ]
    },
    {
     "name": "stderr",
     "output_type": "stream",
     "text": [
      "INFO:root:Sanitizing SVG...\n"
     ]
    },
    {
     "name": "stdout",
     "output_type": "stream",
     "text": [
      "GOTPREDICT: 80caae\n",
      "GETPREDICT: 9458c7 - ivory and ebony harlequin trousers\n"
     ]
    },
    {
     "name": "stderr",
     "output_type": "stream",
     "text": [
      "INFO:root:Sanitizing SVG...\n"
     ]
    },
    {
     "name": "stdout",
     "output_type": "stream",
     "text": [
      "GOTPREDICT: 9458c7\n",
      "GETPREDICT: de29af - mountain vistas\n"
     ]
    },
    {
     "name": "stderr",
     "output_type": "stream",
     "text": [
      "INFO:root:Sanitizing SVG...\n"
     ]
    },
    {
     "name": "stdout",
     "output_type": "stream",
     "text": [
      "GOTPREDICT: de29af\n",
      "Wrote test submission file to \"/tmp/kaggle-evaluation-submission-ytcn4bdm.csv\".\n",
      "Success!\n"
     ]
    }
   ],
   "source": [
    "import kaggle_evaluation\n",
    "\n",
    "logging.basicConfig(level=logging.INFO, force=True)\n",
    "kaggle_evaluation.test(Model)"
   ]
  },
  {
   "cell_type": "markdown",
   "id": "6d16c794",
   "metadata": {
    "papermill": {
     "duration": 0.00545,
     "end_time": "2025-03-22T11:44:12.916239",
     "exception": false,
     "start_time": "2025-03-22T11:44:12.910789",
     "status": "completed"
    },
    "tags": []
   },
   "source": [
    "Alternatively, you could use the code below to run the model over `train.csv` and see some generated images along with some debugging info. Feel free to turn down the logging level to `INFO` if you just want to see the images."
   ]
  },
  {
   "cell_type": "code",
   "execution_count": 16,
   "id": "052fcb6d",
   "metadata": {
    "execution": {
     "iopub.execute_input": "2025-03-22T11:44:12.932480Z",
     "iopub.status.busy": "2025-03-22T11:44:12.931776Z",
     "iopub.status.idle": "2025-03-22T11:52:03.542992Z",
     "shell.execute_reply": "2025-03-22T11:52:03.542192Z"
    },
    "papermill": {
     "duration": 470.622641,
     "end_time": "2025-03-22T11:52:03.544575",
     "exception": false,
     "start_time": "2025-03-22T11:44:12.921934",
     "status": "completed"
    },
    "tags": []
   },
   "outputs": [
    {
     "data": {
      "text/html": [
       "<div><style>\n",
       ".dataframe > thead > tr,\n",
       ".dataframe > tbody > tr {\n",
       "  text-align: right;\n",
       "  white-space: pre-wrap;\n",
       "}\n",
       "</style>\n",
       "<small>shape: (5, 2)</small><table border=\"1\" class=\"dataframe\"><thead><tr><th>id</th><th>description</th></tr><tr><td>str</td><td>str</td></tr></thead><tbody><tr><td>&quot;02d892&quot;</td><td>&quot;a purple forest at dusk&quot;</td></tr><tr><td>&quot;0dcd2e&quot;</td><td>&quot;gray wool coat with a faux fur…</td></tr><tr><td>&quot;1e9ac1&quot;</td><td>&quot;a lighthouse overlooking the o…</td></tr><tr><td>&quot;2b25db&quot;</td><td>&quot;burgundy corduroy pants with p…</td></tr><tr><td>&quot;4e6a54&quot;</td><td>&quot;orange corduroy overalls&quot;</td></tr></tbody></table></div>"
      ],
      "text/plain": [
       "shape: (5, 2)\n",
       "┌────────┬─────────────────────────────────┐\n",
       "│ id     ┆ description                     │\n",
       "│ ---    ┆ ---                             │\n",
       "│ str    ┆ str                             │\n",
       "╞════════╪═════════════════════════════════╡\n",
       "│ 02d892 ┆ a purple forest at dusk         │\n",
       "│ 0dcd2e ┆ gray wool coat with a faux fur… │\n",
       "│ 1e9ac1 ┆ a lighthouse overlooking the o… │\n",
       "│ 2b25db ┆ burgundy corduroy pants with p… │\n",
       "│ 4e6a54 ┆ orange corduroy overalls        │\n",
       "└────────┴─────────────────────────────────┘"
      ]
     },
     "metadata": {},
     "output_type": "display_data"
    },
    {
     "name": "stderr",
     "output_type": "stream",
     "text": [
      "DEBUG:urllib3.connectionpool:Starting new HTTPS connection (1): dp.kaggle.net:443\n",
      "DEBUG:urllib3.connectionpool:https://dp.kaggle.net:443 \"POST /kaggle-jwt-handler/AttachDatasourceUsingJwtRequest HTTP/1.1\" 200 None\n"
     ]
    },
    {
     "data": {
      "application/vnd.jupyter.widget-view+json": {
       "model_id": "ea1912ff050f4d538b14643a7eb3b353",
       "version_major": 2,
       "version_minor": 0
      },
      "text/plain": [
       "Loading checkpoint shards:   0%|          | 0/4 [00:00<?, ?it/s]"
      ]
     },
     "metadata": {},
     "output_type": "display_data"
    },
    {
     "name": "stderr",
     "output_type": "stream",
     "text": [
      "DEBUG:root:Output decoded from model: Generate SVG code to visually represent the following text description, while respecting the given constraints.\n",
      "<constraints>\n",
      "* **Allowed Elements:** `svg`, `path`, `circle`, `rect`, `ellipse`, `line`, `polyline`, `polygon`, `g`, `linearGradient`, `radialGradient`, `stop`, `defs`\n",
      "* **Allowed Attributes:** `viewBox`, `width`, `height`, `fill`, `stroke`, `stroke-width`, `d`, `cx`, `cy`, `r`, `x`, `y`, `rx`, `ry`, `x1`, `y1`, `x2`, `y2`, `points`, `transform`, `opacity`\n",
      "</constraints>\n",
      "\n",
      "<example>\n",
      "<description>\"A red circle with a blue square inside\"</description>\n",
      "```svg\n",
      "<svg viewBox=\"0 0 256 256\" width=\"256\" height=\"256\">\n",
      "  <circle cx=\"50\" cy=\"50\" r=\"40\" fill=\"red\"/>\n",
      "  <rect x=\"30\" y=\"30\" width=\"40\" height=\"40\" fill=\"blue\"/>\n",
      "</svg>\n",
      "```\n",
      "</example>\n",
      "\n",
      "\n",
      "Please ensure that the generated SVG code is well-formed, valid, and strictly adheres to these constraints. Focus on a clear and concise representation of the input description within the given limitations. Always give the complete SVG code with nothing omitted. Never use an ellipsis.\n",
      "\n",
      "<description>\"a purple forest at dusk\"</description>\n",
      "```svg\n",
      "<svg viewBox=\"0 0 256 256\" width=\"256\" height=\"256\">\n",
      " <defs>\n",
      "    <linearGradient id=\"purpleGradiant\" x1=\"0%\" y1=\"0%\" x2=\"100%\" y2=\"100%\">\n",
      "      <stop offset=\"0%\" stop-color=\"#800080\" />\n",
      "      <stop offset=\"100%\" stop-color=\"#000080\" />\n",
      "    </linearGradient>\n",
      "  </defs>\n",
      "  <rect x=\"0\" y=\"0\" width=\"256\" height=\"256\" fill=\"url(#purpleGradiant)\"/>\n",
      "  <path d=\"M50 150 L150 50 Q200 100 250 150\" fill=\"none\" stroke=\"#404040\" stroke-width=\"10\" /> \n",
      "  <path d=\"M100 150 L150 50 Q200 100 250 150\" fill=\"none\" stroke=\"#404040\" stroke-width=\"10\" />\n",
      "  <path d=\"M150 150 L200 50 Q250 100 300 150\" fill=\"none\" stroke=\"#404040\" stroke-width=\"10\" /> \n",
      "</svg>\n",
      "```\n",
      "\n",
      "\n",
      "\n",
      "Let me know how I could improve this!\n",
      "\n",
      "DEBUG:root:Unprocessed SVG: <svg viewBox=\"0 0 256 256\" width=\"256\" height=\"256\">\n",
      " <defs>\n",
      "    <linearGradient id=\"purpleGradiant\" x1=\"0%\" y1=\"0%\" x2=\"100%\" y2=\"100%\">\n",
      "      <stop offset=\"0%\" stop-color=\"#800080\" />\n",
      "      <stop offset=\"100%\" stop-color=\"#000080\" />\n",
      "    </linearGradient>\n",
      "  </defs>\n",
      "  <rect x=\"0\" y=\"0\" width=\"256\" height=\"256\" fill=\"url(#purpleGradiant)\"/>\n",
      "  <path d=\"M50 150 L150 50 Q200 100 250 150\" fill=\"none\" stroke=\"#404040\" stroke-width=\"10\" /> \n",
      "  <path d=\"M100 150 L150 50 Q200 100 250 150\" fill=\"none\" stroke=\"#404040\" stroke-width=\"10\" />\n",
      "  <path d=\"M150 150 L200 50 Q250 100 300 150\" fill=\"none\" stroke=\"#404040\" stroke-width=\"10\" /> \n",
      "</svg>\n",
      "INFO:root:Sanitizing SVG...\n",
      "DEBUG:root:Path element \"d\" attribute validated (regex check).\n",
      "DEBUG:root:Path element \"d\" attribute validated (regex check).\n",
      "DEBUG:root:Path element \"d\" attribute validated (regex check).\n",
      "DEBUG:root:Processed SVG: <svg viewBox=\"0 0 256 256\" width=\"256\" height=\"256\"><defs><linearGradient id=\"purpleGradiant\" x1=\"0%\" y1=\"0%\" x2=\"100%\" y2=\"100%\"><stop offset=\"0%\" stop-color=\"#800080\"/><stop offset=\"100%\" stop-color=\"#000080\"/></linearGradient></defs><rect x=\"0\" y=\"0\" width=\"256\" height=\"256\" fill=\"url(#purpleGradiant)\"/><path d=\"M50 150 L150 50 Q200 100 250 150\" fill=\"none\" stroke=\"#404040\" stroke-width=\"10\"/><path d=\"M100 150 L150 50 Q200 100 250 150\" fill=\"none\" stroke=\"#404040\" stroke-width=\"10\"/><path d=\"M150 150 L200 50 Q250 100 300 150\" fill=\"none\" stroke=\"#404040\" stroke-width=\"10\"/></svg>\n"
     ]
    },
    {
     "name": "stdout",
     "output_type": "stream",
     "text": [
      "Prediction time for description 'a purple forest at d...': 43.3089 seconds\n"
     ]
    },
    {
     "data": {
      "image/svg+xml": [
       "<svg viewBox=\"0 0 256 256\" width=\"256\" height=\"256\"><defs><linearGradient id=\"purpleGradiant\" x1=\"0%\" y1=\"0%\" x2=\"100%\" y2=\"100%\"><stop offset=\"0%\" stop-color=\"#800080\"/><stop offset=\"100%\" stop-color=\"#000080\"/></linearGradient></defs><rect x=\"0\" y=\"0\" width=\"256\" height=\"256\" fill=\"url(#purpleGradiant)\"/><path d=\"M50 150 L150 50 Q200 100 250 150\" fill=\"none\" stroke=\"#404040\" stroke-width=\"10\"/><path d=\"M100 150 L150 50 Q200 100 250 150\" fill=\"none\" stroke=\"#404040\" stroke-width=\"10\"/><path d=\"M150 150 L200 50 Q250 100 300 150\" fill=\"none\" stroke=\"#404040\" stroke-width=\"10\"/></svg>"
      ],
      "text/plain": [
       "<IPython.core.display.SVG object>"
      ]
     },
     "metadata": {},
     "output_type": "display_data"
    },
    {
     "name": "stderr",
     "output_type": "stream",
     "text": [
      "DEBUG:root:Output decoded from model: Generate SVG code to visually represent the following text description, while respecting the given constraints.\n",
      "<constraints>\n",
      "* **Allowed Elements:** `svg`, `path`, `circle`, `rect`, `ellipse`, `line`, `polyline`, `polygon`, `g`, `linearGradient`, `radialGradient`, `stop`, `defs`\n",
      "* **Allowed Attributes:** `viewBox`, `width`, `height`, `fill`, `stroke`, `stroke-width`, `d`, `cx`, `cy`, `r`, `x`, `y`, `rx`, `ry`, `x1`, `y1`, `x2`, `y2`, `points`, `transform`, `opacity`\n",
      "</constraints>\n",
      "\n",
      "<example>\n",
      "<description>\"A red circle with a blue square inside\"</description>\n",
      "```svg\n",
      "<svg viewBox=\"0 0 256 256\" width=\"256\" height=\"256\">\n",
      "  <circle cx=\"50\" cy=\"50\" r=\"40\" fill=\"red\"/>\n",
      "  <rect x=\"30\" y=\"30\" width=\"40\" height=\"40\" fill=\"blue\"/>\n",
      "</svg>\n",
      "```\n",
      "</example>\n",
      "\n",
      "\n",
      "Please ensure that the generated SVG code is well-formed, valid, and strictly adheres to these constraints. Focus on a clear and concise representation of the input description within the given limitations. Always give the complete SVG code with nothing omitted. Never use an ellipsis.\n",
      "\n",
      "<description>\"gray wool coat with a faux fur collar\"</description>\n",
      "```svg\n",
      "<svg viewBox=\"0 0 256 256\" width=\"256\" height=\"256\">\n",
      "  <rect x=\"50\" y=\"50\" width=\"156\" height=\"200\" fill=\"gray\" stroke=\"black\" stroke-width=\"2\"/>\n",
      "  <path d=\"M60 50 Q 100 10 140 50\" fill=\"lightgray\"/>\n",
      "  \n",
      "</svg> \n",
      "```\n",
      "\n",
      "\n",
      "\n",
      "Let me know if you need help with any more descriptions.\n",
      "\n",
      "DEBUG:root:Unprocessed SVG: <svg viewBox=\"0 0 256 256\" width=\"256\" height=\"256\">\n",
      "  <rect x=\"50\" y=\"50\" width=\"156\" height=\"200\" fill=\"gray\" stroke=\"black\" stroke-width=\"2\"/>\n",
      "  <path d=\"M60 50 Q 100 10 140 50\" fill=\"lightgray\"/>\n",
      "  \n",
      "</svg>\n",
      "INFO:root:Sanitizing SVG...\n",
      "DEBUG:root:Path element \"d\" attribute validated (regex check).\n",
      "DEBUG:root:Processed SVG: <svg viewBox=\"0 0 256 256\" width=\"256\" height=\"256\"><rect x=\"50\" y=\"50\" width=\"156\" height=\"200\" fill=\"gray\" stroke=\"black\" stroke-width=\"2\"/><path d=\"M60 50 Q 100 10 140 50\" fill=\"lightgray\"/></svg>\n"
     ]
    },
    {
     "name": "stdout",
     "output_type": "stream",
     "text": [
      "Prediction time for description 'gray wool coat with ...': 13.8993 seconds\n"
     ]
    },
    {
     "data": {
      "image/svg+xml": [
       "<svg viewBox=\"0 0 256 256\" width=\"256\" height=\"256\"><rect x=\"50\" y=\"50\" width=\"156\" height=\"200\" fill=\"gray\" stroke=\"black\" stroke-width=\"2\"/><path d=\"M60 50 Q 100 10 140 50\" fill=\"lightgray\"/></svg>"
      ],
      "text/plain": [
       "<IPython.core.display.SVG object>"
      ]
     },
     "metadata": {},
     "output_type": "display_data"
    },
    {
     "name": "stderr",
     "output_type": "stream",
     "text": [
      "DEBUG:root:Output decoded from model: Generate SVG code to visually represent the following text description, while respecting the given constraints.\n",
      "<constraints>\n",
      "* **Allowed Elements:** `svg`, `path`, `circle`, `rect`, `ellipse`, `line`, `polyline`, `polygon`, `g`, `linearGradient`, `radialGradient`, `stop`, `defs`\n",
      "* **Allowed Attributes:** `viewBox`, `width`, `height`, `fill`, `stroke`, `stroke-width`, `d`, `cx`, `cy`, `r`, `x`, `y`, `rx`, `ry`, `x1`, `y1`, `x2`, `y2`, `points`, `transform`, `opacity`\n",
      "</constraints>\n",
      "\n",
      "<example>\n",
      "<description>\"A red circle with a blue square inside\"</description>\n",
      "```svg\n",
      "<svg viewBox=\"0 0 256 256\" width=\"256\" height=\"256\">\n",
      "  <circle cx=\"50\" cy=\"50\" r=\"40\" fill=\"red\"/>\n",
      "  <rect x=\"30\" y=\"30\" width=\"40\" height=\"40\" fill=\"blue\"/>\n",
      "</svg>\n",
      "```\n",
      "</example>\n",
      "\n",
      "\n",
      "Please ensure that the generated SVG code is well-formed, valid, and strictly adheres to these constraints. Focus on a clear and concise representation of the input description within the given limitations. Always give the complete SVG code with nothing omitted. Never use an ellipsis.\n",
      "\n",
      "<description>\"a lighthouse overlooking the ocean\"</description>\n",
      "```svg\n",
      "<svg viewBox=\"0 0 256 256\" width=\"256\" height=\"256\">\n",
      "  <defs>\n",
      "    <radialGradient id=\"oceanGradient\">\n",
      "      <stop offset=\"0%\" stop-color=\"cyan\" />\n",
      "      <stop offset=\"50%\" stop-color=\"blue\" />\n",
      "      <stop offset=\"100%\" stop-color=\"darkblue\" />\n",
      "    </radialGradient>\n",
      "  </defs>\n",
      "  <path d=\"M0 200 Q128 100 256 200\" fill=\"url(#oceanGradient)\" />\n",
      "  <rect x=\"50\" y=\"50\" width=\"100\" height=\"150\" fill=\"grey\" stroke=\"black\"/>\n",
      "   <rect x=\"60\" y=\"80\" width=\"80\" height=\"10\" fill=\"black\"/>\n",
      "   <rect x=\"50\" y=\"120\" width=\"100\" height=\"180\" fill=\"none\" stroke=\"black\"/>\n",
      "</svg>\n",
      "\n",
      "```\n",
      "\n",
      "DEBUG:root:Unprocessed SVG: <svg viewBox=\"0 0 256 256\" width=\"256\" height=\"256\">\n",
      "  <defs>\n",
      "    <radialGradient id=\"oceanGradient\">\n",
      "      <stop offset=\"0%\" stop-color=\"cyan\" />\n",
      "      <stop offset=\"50%\" stop-color=\"blue\" />\n",
      "      <stop offset=\"100%\" stop-color=\"darkblue\" />\n",
      "    </radialGradient>\n",
      "  </defs>\n",
      "  <path d=\"M0 200 Q128 100 256 200\" fill=\"url(#oceanGradient)\" />\n",
      "  <rect x=\"50\" y=\"50\" width=\"100\" height=\"150\" fill=\"grey\" stroke=\"black\"/>\n",
      "   <rect x=\"60\" y=\"80\" width=\"80\" height=\"10\" fill=\"black\"/>\n",
      "   <rect x=\"50\" y=\"120\" width=\"100\" height=\"180\" fill=\"none\" stroke=\"black\"/>\n",
      "</svg>\n",
      "INFO:root:Sanitizing SVG...\n",
      "DEBUG:root:Path element \"d\" attribute validated (regex check).\n",
      "DEBUG:root:Processed SVG: <svg viewBox=\"0 0 256 256\" width=\"256\" height=\"256\"><defs><radialGradient id=\"oceanGradient\"><stop offset=\"0%\" stop-color=\"cyan\"/><stop offset=\"50%\" stop-color=\"blue\"/><stop offset=\"100%\" stop-color=\"darkblue\"/></radialGradient></defs><path d=\"M0 200 Q128 100 256 200\" fill=\"url(#oceanGradient)\"/><rect x=\"50\" y=\"50\" width=\"100\" height=\"150\" fill=\"grey\" stroke=\"black\"/><rect x=\"60\" y=\"80\" width=\"80\" height=\"10\" fill=\"black\"/><rect x=\"50\" y=\"120\" width=\"100\" height=\"180\" fill=\"none\" stroke=\"black\"/></svg>\n"
     ]
    },
    {
     "name": "stdout",
     "output_type": "stream",
     "text": [
      "Prediction time for description 'a lighthouse overloo...': 29.5411 seconds\n"
     ]
    },
    {
     "data": {
      "image/svg+xml": [
       "<svg viewBox=\"0 0 256 256\" width=\"256\" height=\"256\"><defs><radialGradient id=\"oceanGradient\"><stop offset=\"0%\" stop-color=\"cyan\"/><stop offset=\"50%\" stop-color=\"blue\"/><stop offset=\"100%\" stop-color=\"darkblue\"/></radialGradient></defs><path d=\"M0 200 Q128 100 256 200\" fill=\"url(#oceanGradient)\"/><rect x=\"50\" y=\"50\" width=\"100\" height=\"150\" fill=\"grey\" stroke=\"black\"/><rect x=\"60\" y=\"80\" width=\"80\" height=\"10\" fill=\"black\"/><rect x=\"50\" y=\"120\" width=\"100\" height=\"180\" fill=\"none\" stroke=\"black\"/></svg>"
      ],
      "text/plain": [
       "<IPython.core.display.SVG object>"
      ]
     },
     "metadata": {},
     "output_type": "display_data"
    },
    {
     "name": "stderr",
     "output_type": "stream",
     "text": [
      "DEBUG:root:Output decoded from model: Generate SVG code to visually represent the following text description, while respecting the given constraints.\n",
      "<constraints>\n",
      "* **Allowed Elements:** `svg`, `path`, `circle`, `rect`, `ellipse`, `line`, `polyline`, `polygon`, `g`, `linearGradient`, `radialGradient`, `stop`, `defs`\n",
      "* **Allowed Attributes:** `viewBox`, `width`, `height`, `fill`, `stroke`, `stroke-width`, `d`, `cx`, `cy`, `r`, `x`, `y`, `rx`, `ry`, `x1`, `y1`, `x2`, `y2`, `points`, `transform`, `opacity`\n",
      "</constraints>\n",
      "\n",
      "<example>\n",
      "<description>\"A red circle with a blue square inside\"</description>\n",
      "```svg\n",
      "<svg viewBox=\"0 0 256 256\" width=\"256\" height=\"256\">\n",
      "  <circle cx=\"50\" cy=\"50\" r=\"40\" fill=\"red\"/>\n",
      "  <rect x=\"30\" y=\"30\" width=\"40\" height=\"40\" fill=\"blue\"/>\n",
      "</svg>\n",
      "```\n",
      "</example>\n",
      "\n",
      "\n",
      "Please ensure that the generated SVG code is well-formed, valid, and strictly adheres to these constraints. Focus on a clear and concise representation of the input description within the given limitations. Always give the complete SVG code with nothing omitted. Never use an ellipsis.\n",
      "\n",
      "<description>\"burgundy corduroy pants with patch pockets and silver buttons\"</description>\n",
      "```svg\n",
      "<svg viewBox=\"0 0 256 256\" width=\"256\" height=\"256\">\n",
      "  <rect x=\"0\" y=\"128\" width=\"256\" height=\"128\" fill=\"darkorange\" />\n",
      "  <rect x=\"64\" y=\"50\" width=\"128\" height=\"24\" fill=\"white\" />\n",
      "  <rect x=\"16\" y=\"16\" width=\"48\" height=\"32\" fill=\"white\" />\n",
      "  <rect x=\"112\" y=\"16\" width=\"48\" height=\"32\" fill=\"white\" />\n",
      "  <circle cx=\"32\" cy=\"24\" r=\"3\" fill=\"silver\" />\n",
      "  <circle cx=\"160\" cy=\"24\" r=\"3\" fill=\"silver\" />\n",
      "</svg>\n",
      "```\n",
      "\n",
      " \n",
      "\n",
      "DEBUG:root:Unprocessed SVG: <svg viewBox=\"0 0 256 256\" width=\"256\" height=\"256\">\n",
      "  <rect x=\"0\" y=\"128\" width=\"256\" height=\"128\" fill=\"darkorange\" />\n",
      "  <rect x=\"64\" y=\"50\" width=\"128\" height=\"24\" fill=\"white\" />\n",
      "  <rect x=\"16\" y=\"16\" width=\"48\" height=\"32\" fill=\"white\" />\n",
      "  <rect x=\"112\" y=\"16\" width=\"48\" height=\"32\" fill=\"white\" />\n",
      "  <circle cx=\"32\" cy=\"24\" r=\"3\" fill=\"silver\" />\n",
      "  <circle cx=\"160\" cy=\"24\" r=\"3\" fill=\"silver\" />\n",
      "</svg>\n",
      "INFO:root:Sanitizing SVG...\n",
      "DEBUG:root:Processed SVG: <svg viewBox=\"0 0 256 256\" width=\"256\" height=\"256\"><rect x=\"0\" y=\"128\" width=\"256\" height=\"128\" fill=\"darkorange\"/><rect x=\"64\" y=\"50\" width=\"128\" height=\"24\" fill=\"white\"/><rect x=\"16\" y=\"16\" width=\"48\" height=\"32\" fill=\"white\"/><rect x=\"112\" y=\"16\" width=\"48\" height=\"32\" fill=\"white\"/><circle cx=\"32\" cy=\"24\" r=\"3\" fill=\"silver\"/><circle cx=\"160\" cy=\"24\" r=\"3\" fill=\"silver\"/></svg>\n"
     ]
    },
    {
     "name": "stdout",
     "output_type": "stream",
     "text": [
      "Prediction time for description 'burgundy corduroy pa...': 24.2491 seconds\n"
     ]
    },
    {
     "data": {
      "image/svg+xml": [
       "<svg viewBox=\"0 0 256 256\" width=\"256\" height=\"256\"><rect x=\"0\" y=\"128\" width=\"256\" height=\"128\" fill=\"darkorange\"/><rect x=\"64\" y=\"50\" width=\"128\" height=\"24\" fill=\"white\"/><rect x=\"16\" y=\"16\" width=\"48\" height=\"32\" fill=\"white\"/><rect x=\"112\" y=\"16\" width=\"48\" height=\"32\" fill=\"white\"/><circle cx=\"32\" cy=\"24\" r=\"3\" fill=\"silver\"/><circle cx=\"160\" cy=\"24\" r=\"3\" fill=\"silver\"/></svg>"
      ],
      "text/plain": [
       "<IPython.core.display.SVG object>"
      ]
     },
     "metadata": {},
     "output_type": "display_data"
    },
    {
     "name": "stderr",
     "output_type": "stream",
     "text": [
      "DEBUG:root:Output decoded from model: Generate SVG code to visually represent the following text description, while respecting the given constraints.\n",
      "<constraints>\n",
      "* **Allowed Elements:** `svg`, `path`, `circle`, `rect`, `ellipse`, `line`, `polyline`, `polygon`, `g`, `linearGradient`, `radialGradient`, `stop`, `defs`\n",
      "* **Allowed Attributes:** `viewBox`, `width`, `height`, `fill`, `stroke`, `stroke-width`, `d`, `cx`, `cy`, `r`, `x`, `y`, `rx`, `ry`, `x1`, `y1`, `x2`, `y2`, `points`, `transform`, `opacity`\n",
      "</constraints>\n",
      "\n",
      "<example>\n",
      "<description>\"A red circle with a blue square inside\"</description>\n",
      "```svg\n",
      "<svg viewBox=\"0 0 256 256\" width=\"256\" height=\"256\">\n",
      "  <circle cx=\"50\" cy=\"50\" r=\"40\" fill=\"red\"/>\n",
      "  <rect x=\"30\" y=\"30\" width=\"40\" height=\"40\" fill=\"blue\"/>\n",
      "</svg>\n",
      "```\n",
      "</example>\n",
      "\n",
      "\n",
      "Please ensure that the generated SVG code is well-formed, valid, and strictly adheres to these constraints. Focus on a clear and concise representation of the input description within the given limitations. Always give the complete SVG code with nothing omitted. Never use an ellipsis.\n",
      "\n",
      "<description>\"orange corduroy overalls\"</description>\n",
      "```svg\n",
      "<svg viewBox=\"0 0 256 256\" width=\"256\" height=\"256\">\n",
      "  <rect x=\"20\" y=\"40\" width=\"216\" height=\"176\" fill=\"orange\"/>\n",
      "  <path d=\"M 40 140 L 40 180 L 160 180 L 160 140 Z\" fill=\"brown\"/>\n",
      "  <path d=\"M 50 153 l 10 0 l 10 -10 l -10 -10 l -10 10 l 0 10 z\" fill=\"brown\"/>\n",
      "  <path d=\"M 50 133 l 10 0 l 10 -10 l -10 -10 l -10 10 l 0 10 z\" fill=\"brown\"/>\n",
      "  <path d=\"M 150 153 l 10 0 l 10 -10 l -10 -10 l -10 10 l 0 10 z\" fill=\"brown\"/>\n",
      "  <path d=\"M 150 133 l 10 0 l 10 -10 l -10 -10 l -10 10 l 0 10 z\" fill=\"brown\"/>\n",
      "</svg>\n",
      "```\n",
      "\n",
      "\n",
      "\n",
      "\n",
      "DEBUG:root:Unprocessed SVG: <svg viewBox=\"0 0 256 256\" width=\"256\" height=\"256\">\n",
      "  <rect x=\"20\" y=\"40\" width=\"216\" height=\"176\" fill=\"orange\"/>\n",
      "  <path d=\"M 40 140 L 40 180 L 160 180 L 160 140 Z\" fill=\"brown\"/>\n",
      "  <path d=\"M 50 153 l 10 0 l 10 -10 l -10 -10 l -10 10 l 0 10 z\" fill=\"brown\"/>\n",
      "  <path d=\"M 50 133 l 10 0 l 10 -10 l -10 -10 l -10 10 l 0 10 z\" fill=\"brown\"/>\n",
      "  <path d=\"M 150 153 l 10 0 l 10 -10 l -10 -10 l -10 10 l 0 10 z\" fill=\"brown\"/>\n",
      "  <path d=\"M 150 133 l 10 0 l 10 -10 l -10 -10 l -10 10 l 0 10 z\" fill=\"brown\"/>\n",
      "</svg>\n",
      "INFO:root:Sanitizing SVG...\n",
      "DEBUG:root:Path element \"d\" attribute validated (regex check).\n",
      "DEBUG:root:Path element \"d\" attribute validated (regex check).\n",
      "DEBUG:root:Path element \"d\" attribute validated (regex check).\n",
      "DEBUG:root:Path element \"d\" attribute validated (regex check).\n",
      "DEBUG:root:Path element \"d\" attribute validated (regex check).\n",
      "DEBUG:root:Processed SVG: <svg viewBox=\"0 0 256 256\" width=\"256\" height=\"256\"><rect x=\"20\" y=\"40\" width=\"216\" height=\"176\" fill=\"orange\"/><path d=\"M 40 140 L 40 180 L 160 180 L 160 140 Z\" fill=\"brown\"/><path d=\"M 50 153 l 10 0 l 10 -10 l -10 -10 l -10 10 l 0 10 z\" fill=\"brown\"/><path d=\"M 50 133 l 10 0 l 10 -10 l -10 -10 l -10 10 l 0 10 z\" fill=\"brown\"/><path d=\"M 150 153 l 10 0 l 10 -10 l -10 -10 l -10 10 l 0 10 z\" fill=\"brown\"/><path d=\"M 150 133 l 10 0 l 10 -10 l -10 -10 l -10 10 l 0 10 z\" fill=\"brown\"/></svg>\n"
     ]
    },
    {
     "name": "stdout",
     "output_type": "stream",
     "text": [
      "Prediction time for description 'orange corduroy over...': 40.3402 seconds\n"
     ]
    },
    {
     "data": {
      "image/svg+xml": [
       "<svg viewBox=\"0 0 256 256\" width=\"256\" height=\"256\"><rect x=\"20\" y=\"40\" width=\"216\" height=\"176\" fill=\"orange\"/><path d=\"M 40 140 L 40 180 L 160 180 L 160 140 Z\" fill=\"brown\"/><path d=\"M 50 153 l 10 0 l 10 -10 l -10 -10 l -10 10 l 0 10 z\" fill=\"brown\"/><path d=\"M 50 133 l 10 0 l 10 -10 l -10 -10 l -10 10 l 0 10 z\" fill=\"brown\"/><path d=\"M 150 153 l 10 0 l 10 -10 l -10 -10 l -10 10 l 0 10 z\" fill=\"brown\"/><path d=\"M 150 133 l 10 0 l 10 -10 l -10 -10 l -10 10 l 0 10 z\" fill=\"brown\"/></svg>"
      ],
      "text/plain": [
       "<IPython.core.display.SVG object>"
      ]
     },
     "metadata": {},
     "output_type": "display_data"
    },
    {
     "name": "stderr",
     "output_type": "stream",
     "text": [
      "DEBUG:root:Output decoded from model: Generate SVG code to visually represent the following text description, while respecting the given constraints.\n",
      "<constraints>\n",
      "* **Allowed Elements:** `svg`, `path`, `circle`, `rect`, `ellipse`, `line`, `polyline`, `polygon`, `g`, `linearGradient`, `radialGradient`, `stop`, `defs`\n",
      "* **Allowed Attributes:** `viewBox`, `width`, `height`, `fill`, `stroke`, `stroke-width`, `d`, `cx`, `cy`, `r`, `x`, `y`, `rx`, `ry`, `x1`, `y1`, `x2`, `y2`, `points`, `transform`, `opacity`\n",
      "</constraints>\n",
      "\n",
      "<example>\n",
      "<description>\"A red circle with a blue square inside\"</description>\n",
      "```svg\n",
      "<svg viewBox=\"0 0 256 256\" width=\"256\" height=\"256\">\n",
      "  <circle cx=\"50\" cy=\"50\" r=\"40\" fill=\"red\"/>\n",
      "  <rect x=\"30\" y=\"30\" width=\"40\" height=\"40\" fill=\"blue\"/>\n",
      "</svg>\n",
      "```\n",
      "</example>\n",
      "\n",
      "\n",
      "Please ensure that the generated SVG code is well-formed, valid, and strictly adheres to these constraints. Focus on a clear and concise representation of the input description within the given limitations. Always give the complete SVG code with nothing omitted. Never use an ellipsis.\n",
      "\n",
      "<description>\"a purple silk scarf with tassel trim\"</description>\n",
      "```svg\n",
      "<svg viewBox=\"0 0 256 256\" width=\"256\" height=\"256\">\n",
      "<path d=\"M10 10 C50 10 100 10 150 10 C200 10 250 10 256 10 A6 6 0 0 0 256 16\" stroke=\"purple\" stroke-width=\"2\"/>\n",
      "</svg>\n",
      "\n",
      "\n",
      "```\n",
      "\n",
      "\n",
      "Let me know if you have any more SVG generating tasks.\n",
      "\n",
      "DEBUG:root:Unprocessed SVG: <svg viewBox=\"0 0 256 256\" width=\"256\" height=\"256\">\n",
      "<path d=\"M10 10 C50 10 100 10 150 10 C200 10 250 10 256 10 A6 6 0 0 0 256 16\" stroke=\"purple\" stroke-width=\"2\"/>\n",
      "</svg>\n",
      "INFO:root:Sanitizing SVG...\n",
      "DEBUG:root:Path element \"d\" attribute validated (regex check).\n",
      "DEBUG:root:Processed SVG: <svg viewBox=\"0 0 256 256\" width=\"256\" height=\"256\"><path d=\"M10 10 C50 10 100 10 150 10 C200 10 250 10 256 10 A6 6 0 0 0 256 16\" stroke=\"purple\" stroke-width=\"2\"/></svg>\n"
     ]
    },
    {
     "name": "stdout",
     "output_type": "stream",
     "text": [
      "Prediction time for description 'a purple silk scarf ...': 14.0527 seconds\n"
     ]
    },
    {
     "data": {
      "image/svg+xml": [
       "<svg viewBox=\"0 0 256 256\" width=\"256\" height=\"256\"><path d=\"M10 10 C50 10 100 10 150 10 C200 10 250 10 256 10 A6 6 0 0 0 256 16\" stroke=\"purple\" stroke-width=\"2\"/></svg>"
      ],
      "text/plain": [
       "<IPython.core.display.SVG object>"
      ]
     },
     "metadata": {},
     "output_type": "display_data"
    },
    {
     "name": "stderr",
     "output_type": "stream",
     "text": [
      "DEBUG:root:Output decoded from model: Generate SVG code to visually represent the following text description, while respecting the given constraints.\n",
      "<constraints>\n",
      "* **Allowed Elements:** `svg`, `path`, `circle`, `rect`, `ellipse`, `line`, `polyline`, `polygon`, `g`, `linearGradient`, `radialGradient`, `stop`, `defs`\n",
      "* **Allowed Attributes:** `viewBox`, `width`, `height`, `fill`, `stroke`, `stroke-width`, `d`, `cx`, `cy`, `r`, `x`, `y`, `rx`, `ry`, `x1`, `y1`, `x2`, `y2`, `points`, `transform`, `opacity`\n",
      "</constraints>\n",
      "\n",
      "<example>\n",
      "<description>\"A red circle with a blue square inside\"</description>\n",
      "```svg\n",
      "<svg viewBox=\"0 0 256 256\" width=\"256\" height=\"256\">\n",
      "  <circle cx=\"50\" cy=\"50\" r=\"40\" fill=\"red\"/>\n",
      "  <rect x=\"30\" y=\"30\" width=\"40\" height=\"40\" fill=\"blue\"/>\n",
      "</svg>\n",
      "```\n",
      "</example>\n",
      "\n",
      "\n",
      "Please ensure that the generated SVG code is well-formed, valid, and strictly adheres to these constraints. Focus on a clear and concise representation of the input description within the given limitations. Always give the complete SVG code with nothing omitted. Never use an ellipsis.\n",
      "\n",
      "<description>\"a green lagoon under a cloudy sky\"</description>\n",
      "```svg\n",
      "<svg viewBox=\"0 0 256 256\" width=\"256\" height=\"256\">\n",
      "  <defs>\n",
      "    <linearGradient id=\"cloudySkyGradient\" x1=\"0\" y1=\"0\" x2=\"256\" y2=\"0\">\n",
      "      <stop offset=\"0\" stop-color=\"blue\" />\n",
      "      <stop offset=\"100\" stop-color=\"white\" />\n",
      "    </linearGradient>\n",
      "  </defs>\n",
      "  <rect x=\"0\" y=\"0\" width=\"256\" height=\"128\" fill=\"url(#cloudySkyGradient)\" />\n",
      "  <ellipse cx=\"128\" cy=\"192\" rx=\"64\" ry=\"32\" fill=\"green\" />\n",
      "</svg>\n",
      "\n",
      "```\n",
      "\n",
      "\n",
      "\n",
      "\n",
      "DEBUG:root:Unprocessed SVG: <svg viewBox=\"0 0 256 256\" width=\"256\" height=\"256\">\n",
      "  <defs>\n",
      "    <linearGradient id=\"cloudySkyGradient\" x1=\"0\" y1=\"0\" x2=\"256\" y2=\"0\">\n",
      "      <stop offset=\"0\" stop-color=\"blue\" />\n",
      "      <stop offset=\"100\" stop-color=\"white\" />\n",
      "    </linearGradient>\n",
      "  </defs>\n",
      "  <rect x=\"0\" y=\"0\" width=\"256\" height=\"128\" fill=\"url(#cloudySkyGradient)\" />\n",
      "  <ellipse cx=\"128\" cy=\"192\" rx=\"64\" ry=\"32\" fill=\"green\" />\n",
      "</svg>\n",
      "INFO:root:Sanitizing SVG...\n",
      "DEBUG:root:Processed SVG: <svg viewBox=\"0 0 256 256\" width=\"256\" height=\"256\"><defs><linearGradient id=\"cloudySkyGradient\" x1=\"0\" y1=\"0\" x2=\"256\" y2=\"0\"><stop offset=\"0\" stop-color=\"blue\"/><stop offset=\"100\" stop-color=\"white\"/></linearGradient></defs><rect x=\"0\" y=\"0\" width=\"256\" height=\"128\" fill=\"url(#cloudySkyGradient)\"/><ellipse cx=\"128\" cy=\"192\" rx=\"64\" ry=\"32\" fill=\"green\"/></svg>\n"
     ]
    },
    {
     "name": "stdout",
     "output_type": "stream",
     "text": [
      "Prediction time for description 'a green lagoon under...': 20.8426 seconds\n"
     ]
    },
    {
     "data": {
      "image/svg+xml": [
       "<svg viewBox=\"0 0 256 256\" width=\"256\" height=\"256\"><defs><linearGradient id=\"cloudySkyGradient\" x1=\"0\" y1=\"0\" x2=\"256\" y2=\"0\"><stop offset=\"0\" stop-color=\"blue\"/><stop offset=\"100\" stop-color=\"white\"/></linearGradient></defs><rect x=\"0\" y=\"0\" width=\"256\" height=\"128\" fill=\"url(#cloudySkyGradient)\"/><ellipse cx=\"128\" cy=\"192\" rx=\"64\" ry=\"32\" fill=\"green\"/></svg>"
      ],
      "text/plain": [
       "<IPython.core.display.SVG object>"
      ]
     },
     "metadata": {},
     "output_type": "display_data"
    },
    {
     "name": "stderr",
     "output_type": "stream",
     "text": [
      "DEBUG:root:Output decoded from model: Generate SVG code to visually represent the following text description, while respecting the given constraints.\n",
      "<constraints>\n",
      "* **Allowed Elements:** `svg`, `path`, `circle`, `rect`, `ellipse`, `line`, `polyline`, `polygon`, `g`, `linearGradient`, `radialGradient`, `stop`, `defs`\n",
      "* **Allowed Attributes:** `viewBox`, `width`, `height`, `fill`, `stroke`, `stroke-width`, `d`, `cx`, `cy`, `r`, `x`, `y`, `rx`, `ry`, `x1`, `y1`, `x2`, `y2`, `points`, `transform`, `opacity`\n",
      "</constraints>\n",
      "\n",
      "<example>\n",
      "<description>\"A red circle with a blue square inside\"</description>\n",
      "```svg\n",
      "<svg viewBox=\"0 0 256 256\" width=\"256\" height=\"256\">\n",
      "  <circle cx=\"50\" cy=\"50\" r=\"40\" fill=\"red\"/>\n",
      "  <rect x=\"30\" y=\"30\" width=\"40\" height=\"40\" fill=\"blue\"/>\n",
      "</svg>\n",
      "```\n",
      "</example>\n",
      "\n",
      "\n",
      "Please ensure that the generated SVG code is well-formed, valid, and strictly adheres to these constraints. Focus on a clear and concise representation of the input description within the given limitations. Always give the complete SVG code with nothing omitted. Never use an ellipsis.\n",
      "\n",
      "<description>\"crimson rectangles forming a chaotic grid\"</description>\n",
      "```svg\n",
      "<svg viewBox=\"0 0 256 256\" width=\"256\" height=\"256\">\n",
      "  <defs>\n",
      "    <linearGradient id=\"grad1\" x1=\"0%\" y1=\"0%\" x2=\"100%\" y2=\"100%\">\n",
      "      <stop offset=\"0%\" stop-color=\"#DC143C\" />\n",
      "      <stop offset=\"100%\" stop-color=\"#B2152C\" />\n",
      "    </linearGradient>\n",
      "  </defs>\n",
      "  <rect x=\"10\" y=\"10\" width=\"100\" height=\"50\" fill=\"url(#grad1)\"/>\n",
      "  <rect x=\"50\" y=\"20\" width=\"80\" height=\"70\" fill=\"url(#grad1)\"/>\n",
      "  <rect x=\"80\" y=\"80\" width=\"60\" height=\"40\" fill=\"url(#grad1)\"/>\n",
      "  <rect x=\"120\" y=\"10\" width=\"40\" height=\"90\" fill=\"url(#grad1)\"/> \n",
      "  <rect x=\"160\" y=\"40\" width=\"30\" height=\"60\" fill=\"url(#grad1)\"/> \n",
      "</svg>\n",
      "```\n",
      "\n",
      "\n",
      "\n",
      "\n",
      "DEBUG:root:Unprocessed SVG: <svg viewBox=\"0 0 256 256\" width=\"256\" height=\"256\">\n",
      "  <defs>\n",
      "    <linearGradient id=\"grad1\" x1=\"0%\" y1=\"0%\" x2=\"100%\" y2=\"100%\">\n",
      "      <stop offset=\"0%\" stop-color=\"#DC143C\" />\n",
      "      <stop offset=\"100%\" stop-color=\"#B2152C\" />\n",
      "    </linearGradient>\n",
      "  </defs>\n",
      "  <rect x=\"10\" y=\"10\" width=\"100\" height=\"50\" fill=\"url(#grad1)\"/>\n",
      "  <rect x=\"50\" y=\"20\" width=\"80\" height=\"70\" fill=\"url(#grad1)\"/>\n",
      "  <rect x=\"80\" y=\"80\" width=\"60\" height=\"40\" fill=\"url(#grad1)\"/>\n",
      "  <rect x=\"120\" y=\"10\" width=\"40\" height=\"90\" fill=\"url(#grad1)\"/> \n",
      "  <rect x=\"160\" y=\"40\" width=\"30\" height=\"60\" fill=\"url(#grad1)\"/> \n",
      "</svg>\n",
      "INFO:root:Sanitizing SVG...\n",
      "DEBUG:root:Processed SVG: <svg viewBox=\"0 0 256 256\" width=\"256\" height=\"256\"><defs><linearGradient id=\"grad1\" x1=\"0%\" y1=\"0%\" x2=\"100%\" y2=\"100%\"><stop offset=\"0%\" stop-color=\"#DC143C\"/><stop offset=\"100%\" stop-color=\"#B2152C\"/></linearGradient></defs><rect x=\"10\" y=\"10\" width=\"100\" height=\"50\" fill=\"url(#grad1)\"/><rect x=\"50\" y=\"20\" width=\"80\" height=\"70\" fill=\"url(#grad1)\"/><rect x=\"80\" y=\"80\" width=\"60\" height=\"40\" fill=\"url(#grad1)\"/><rect x=\"120\" y=\"10\" width=\"40\" height=\"90\" fill=\"url(#grad1)\"/><rect x=\"160\" y=\"40\" width=\"30\" height=\"60\" fill=\"url(#grad1)\"/></svg>\n"
     ]
    },
    {
     "name": "stdout",
     "output_type": "stream",
     "text": [
      "Prediction time for description 'crimson rectangles f...': 35.4151 seconds\n"
     ]
    },
    {
     "data": {
      "image/svg+xml": [
       "<svg viewBox=\"0 0 256 256\" width=\"256\" height=\"256\"><defs><linearGradient id=\"grad1\" x1=\"0%\" y1=\"0%\" x2=\"100%\" y2=\"100%\"><stop offset=\"0%\" stop-color=\"#DC143C\"/><stop offset=\"100%\" stop-color=\"#B2152C\"/></linearGradient></defs><rect x=\"10\" y=\"10\" width=\"100\" height=\"50\" fill=\"url(#grad1)\"/><rect x=\"50\" y=\"20\" width=\"80\" height=\"70\" fill=\"url(#grad1)\"/><rect x=\"80\" y=\"80\" width=\"60\" height=\"40\" fill=\"url(#grad1)\"/><rect x=\"120\" y=\"10\" width=\"40\" height=\"90\" fill=\"url(#grad1)\"/><rect x=\"160\" y=\"40\" width=\"30\" height=\"60\" fill=\"url(#grad1)\"/></svg>"
      ],
      "text/plain": [
       "<IPython.core.display.SVG object>"
      ]
     },
     "metadata": {},
     "output_type": "display_data"
    },
    {
     "name": "stderr",
     "output_type": "stream",
     "text": [
      "DEBUG:root:Output decoded from model: Generate SVG code to visually represent the following text description, while respecting the given constraints.\n",
      "<constraints>\n",
      "* **Allowed Elements:** `svg`, `path`, `circle`, `rect`, `ellipse`, `line`, `polyline`, `polygon`, `g`, `linearGradient`, `radialGradient`, `stop`, `defs`\n",
      "* **Allowed Attributes:** `viewBox`, `width`, `height`, `fill`, `stroke`, `stroke-width`, `d`, `cx`, `cy`, `r`, `x`, `y`, `rx`, `ry`, `x1`, `y1`, `x2`, `y2`, `points`, `transform`, `opacity`\n",
      "</constraints>\n",
      "\n",
      "<example>\n",
      "<description>\"A red circle with a blue square inside\"</description>\n",
      "```svg\n",
      "<svg viewBox=\"0 0 256 256\" width=\"256\" height=\"256\">\n",
      "  <circle cx=\"50\" cy=\"50\" r=\"40\" fill=\"red\"/>\n",
      "  <rect x=\"30\" y=\"30\" width=\"40\" height=\"40\" fill=\"blue\"/>\n",
      "</svg>\n",
      "```\n",
      "</example>\n",
      "\n",
      "\n",
      "Please ensure that the generated SVG code is well-formed, valid, and strictly adheres to these constraints. Focus on a clear and concise representation of the input description within the given limitations. Always give the complete SVG code with nothing omitted. Never use an ellipsis.\n",
      "\n",
      "<description>\"purple pyramids spiraling around a bronze cone\"</description>\n",
      "```svg\n",
      "<svg viewBox=\"0 0 256 256\" width=\"256\" height=\"256\">\n",
      "  \n",
      "  <polygon points=\"128,10 140,40 128,70 116,40\" fill=\"purple\"/> \n",
      "  <polygon points=\"128,10 140,40 128,70 116,40\" fill=\"purple\" transform=\"rotate(45)\"/> \n",
      "  <polygon points=\"128,10 140,40 128,70 116,40\" fill=\"purple\" transform=\"rotate(90)\"/> \n",
      "  <polygon points=\"128,10 140,40 128,70 116,40\" fill=\"purple\" transform=\"rotate(135)\"/> \n",
      " <ellipse cx=\"128\" cy=\"128\" rx=\"40\" ry=\"40\" fill=\"bronze\"/> \n",
      "\n",
      "</svg>\n",
      "\n",
      "\n",
      "\n",
      "\n",
      "```\n",
      "\n",
      "\n",
      "\n",
      "\n",
      "DEBUG:root:Unprocessed SVG: <svg viewBox=\"0 0 256 256\" width=\"256\" height=\"256\">\n",
      "  \n",
      "  <polygon points=\"128,10 140,40 128,70 116,40\" fill=\"purple\"/> \n",
      "  <polygon points=\"128,10 140,40 128,70 116,40\" fill=\"purple\" transform=\"rotate(45)\"/> \n",
      "  <polygon points=\"128,10 140,40 128,70 116,40\" fill=\"purple\" transform=\"rotate(90)\"/> \n",
      "  <polygon points=\"128,10 140,40 128,70 116,40\" fill=\"purple\" transform=\"rotate(135)\"/> \n",
      " <ellipse cx=\"128\" cy=\"128\" rx=\"40\" ry=\"40\" fill=\"bronze\"/> \n",
      "\n",
      "</svg>\n",
      "INFO:root:Sanitizing SVG...\n",
      "DEBUG:root:Processed SVG: <svg viewBox=\"0 0 256 256\" width=\"256\" height=\"256\"><polygon points=\"128,10 140,40 128,70 116,40\" fill=\"purple\"/><polygon points=\"128,10 140,40 128,70 116,40\" fill=\"purple\" transform=\"rotate(45)\"/><polygon points=\"128,10 140,40 128,70 116,40\" fill=\"purple\" transform=\"rotate(90)\"/><polygon points=\"128,10 140,40 128,70 116,40\" fill=\"purple\" transform=\"rotate(135)\"/><ellipse cx=\"128\" cy=\"128\" rx=\"40\" ry=\"40\" fill=\"bronze\"/></svg>\n"
     ]
    },
    {
     "name": "stdout",
     "output_type": "stream",
     "text": [
      "Prediction time for description 'purple pyramids spir...': 30.3919 seconds\n"
     ]
    },
    {
     "data": {
      "image/svg+xml": [
       "<svg viewBox=\"0 0 256 256\" width=\"256\" height=\"256\"><polygon points=\"128,10 140,40 128,70 116,40\" fill=\"purple\"/><polygon points=\"128,10 140,40 128,70 116,40\" fill=\"purple\" transform=\"rotate(45)\"/><polygon points=\"128,10 140,40 128,70 116,40\" fill=\"purple\" transform=\"rotate(90)\"/><polygon points=\"128,10 140,40 128,70 116,40\" fill=\"purple\" transform=\"rotate(135)\"/><ellipse cx=\"128\" cy=\"128\" rx=\"40\" ry=\"40\" fill=\"bronze\"/></svg>"
      ],
      "text/plain": [
       "<IPython.core.display.SVG object>"
      ]
     },
     "metadata": {},
     "output_type": "display_data"
    },
    {
     "name": "stderr",
     "output_type": "stream",
     "text": [
      "DEBUG:root:Output decoded from model: Generate SVG code to visually represent the following text description, while respecting the given constraints.\n",
      "<constraints>\n",
      "* **Allowed Elements:** `svg`, `path`, `circle`, `rect`, `ellipse`, `line`, `polyline`, `polygon`, `g`, `linearGradient`, `radialGradient`, `stop`, `defs`\n",
      "* **Allowed Attributes:** `viewBox`, `width`, `height`, `fill`, `stroke`, `stroke-width`, `d`, `cx`, `cy`, `r`, `x`, `y`, `rx`, `ry`, `x1`, `y1`, `x2`, `y2`, `points`, `transform`, `opacity`\n",
      "</constraints>\n",
      "\n",
      "<example>\n",
      "<description>\"A red circle with a blue square inside\"</description>\n",
      "```svg\n",
      "<svg viewBox=\"0 0 256 256\" width=\"256\" height=\"256\">\n",
      "  <circle cx=\"50\" cy=\"50\" r=\"40\" fill=\"red\"/>\n",
      "  <rect x=\"30\" y=\"30\" width=\"40\" height=\"40\" fill=\"blue\"/>\n",
      "</svg>\n",
      "```\n",
      "</example>\n",
      "\n",
      "\n",
      "Please ensure that the generated SVG code is well-formed, valid, and strictly adheres to these constraints. Focus on a clear and concise representation of the input description within the given limitations. Always give the complete SVG code with nothing omitted. Never use an ellipsis.\n",
      "\n",
      "<description>\"magenta trapezoids layered on a transluscent silver sheet\"</description>\n",
      "```svg\n",
      "<svg viewBox=\"0 0 256 256\" width=\"256\" height=\"256\">\n",
      "  <defs>\n",
      "    <linearGradient id=\"silverGradient\" x1=\"0%\" y1=\"0%\" x2=\"100%\" y2=\"100%\">\n",
      "      <stop offset=\"0%\" stop-color=\"#C0C0C0\" />\n",
      "      <stop offset=\"100%\" stop-color=\"#808080\" />\n",
      "    </linearGradient>\n",
      "  </defs>\n",
      "  <rect x=\"0\" y=\"0\" width=\"256\" height=\"256\" fill=\"url(#silverGradient)\" opacity=\"0.7\"/>\n",
      "  <polygon points=\"50,10 100,10 150,100 200,100\" fill=\"magenta\"/>\n",
      "  <polygon points=\"100,150 150,200 200,150 250,150\" fill=\"magenta\"/> \n",
      "</svg>\n",
      "```\n",
      "\n",
      "DEBUG:root:Unprocessed SVG: <svg viewBox=\"0 0 256 256\" width=\"256\" height=\"256\">\n",
      "  <defs>\n",
      "    <linearGradient id=\"silverGradient\" x1=\"0%\" y1=\"0%\" x2=\"100%\" y2=\"100%\">\n",
      "      <stop offset=\"0%\" stop-color=\"#C0C0C0\" />\n",
      "      <stop offset=\"100%\" stop-color=\"#808080\" />\n",
      "    </linearGradient>\n",
      "  </defs>\n",
      "  <rect x=\"0\" y=\"0\" width=\"256\" height=\"256\" fill=\"url(#silverGradient)\" opacity=\"0.7\"/>\n",
      "  <polygon points=\"50,10 100,10 150,100 200,100\" fill=\"magenta\"/>\n",
      "  <polygon points=\"100,150 150,200 200,150 250,150\" fill=\"magenta\"/> \n",
      "</svg>\n",
      "INFO:root:Sanitizing SVG...\n",
      "DEBUG:root:Processed SVG: <svg viewBox=\"0 0 256 256\" width=\"256\" height=\"256\"><defs><linearGradient id=\"silverGradient\" x1=\"0%\" y1=\"0%\" x2=\"100%\" y2=\"100%\"><stop offset=\"0%\" stop-color=\"#C0C0C0\"/><stop offset=\"100%\" stop-color=\"#808080\"/></linearGradient></defs><rect x=\"0\" y=\"0\" width=\"256\" height=\"256\" fill=\"url(#silverGradient)\" opacity=\"0.7\"/><polygon points=\"50,10 100,10 150,100 200,100\" fill=\"magenta\"/><polygon points=\"100,150 150,200 200,150 250,150\" fill=\"magenta\"/></svg>\n"
     ]
    },
    {
     "name": "stdout",
     "output_type": "stream",
     "text": [
      "Prediction time for description 'magenta trapezoids l...': 29.4618 seconds\n"
     ]
    },
    {
     "data": {
      "image/svg+xml": [
       "<svg viewBox=\"0 0 256 256\" width=\"256\" height=\"256\"><defs><linearGradient id=\"silverGradient\" x1=\"0%\" y1=\"0%\" x2=\"100%\" y2=\"100%\"><stop offset=\"0%\" stop-color=\"#C0C0C0\"/><stop offset=\"100%\" stop-color=\"#808080\"/></linearGradient></defs><rect x=\"0\" y=\"0\" width=\"256\" height=\"256\" fill=\"url(#silverGradient)\" opacity=\"0.7\"/><polygon points=\"50,10 100,10 150,100 200,100\" fill=\"magenta\"/><polygon points=\"100,150 150,200 200,150 250,150\" fill=\"magenta\"/></svg>"
      ],
      "text/plain": [
       "<IPython.core.display.SVG object>"
      ]
     },
     "metadata": {},
     "output_type": "display_data"
    },
    {
     "name": "stderr",
     "output_type": "stream",
     "text": [
      "DEBUG:root:Output decoded from model: Generate SVG code to visually represent the following text description, while respecting the given constraints.\n",
      "<constraints>\n",
      "* **Allowed Elements:** `svg`, `path`, `circle`, `rect`, `ellipse`, `line`, `polyline`, `polygon`, `g`, `linearGradient`, `radialGradient`, `stop`, `defs`\n",
      "* **Allowed Attributes:** `viewBox`, `width`, `height`, `fill`, `stroke`, `stroke-width`, `d`, `cx`, `cy`, `r`, `x`, `y`, `rx`, `ry`, `x1`, `y1`, `x2`, `y2`, `points`, `transform`, `opacity`\n",
      "</constraints>\n",
      "\n",
      "<example>\n",
      "<description>\"A red circle with a blue square inside\"</description>\n",
      "```svg\n",
      "<svg viewBox=\"0 0 256 256\" width=\"256\" height=\"256\">\n",
      "  <circle cx=\"50\" cy=\"50\" r=\"40\" fill=\"red\"/>\n",
      "  <rect x=\"30\" y=\"30\" width=\"40\" height=\"40\" fill=\"blue\"/>\n",
      "</svg>\n",
      "```\n",
      "</example>\n",
      "\n",
      "\n",
      "Please ensure that the generated SVG code is well-formed, valid, and strictly adheres to these constraints. Focus on a clear and concise representation of the input description within the given limitations. Always give the complete SVG code with nothing omitted. Never use an ellipsis.\n",
      "\n",
      "<description>\"a snowy plain\"</description>\n",
      "```svg\n",
      "<svg viewBox=\"0 0 256 256\" width=\"256\" height=\"256\">\n",
      "  <rect x=\"0\" y=\"0\" width=\"256\" height=\"256\" fill=\"white\" />\n",
      "  <path d=\"M 64 128 L 128 64 L 192 128 Z\" fill=\"lightblue\" transform=\"rotate(45,128,128)\"/>\n",
      "</svg>\n",
      "```\n",
      "DEBUG:root:Unprocessed SVG: <svg viewBox=\"0 0 256 256\" width=\"256\" height=\"256\">\n",
      "  <rect x=\"0\" y=\"0\" width=\"256\" height=\"256\" fill=\"white\" />\n",
      "  <path d=\"M 64 128 L 128 64 L 192 128 Z\" fill=\"lightblue\" transform=\"rotate(45,128,128)\"/>\n",
      "</svg>\n",
      "INFO:root:Sanitizing SVG...\n",
      "DEBUG:root:Path element \"d\" attribute validated (regex check).\n",
      "DEBUG:root:Processed SVG: <svg viewBox=\"0 0 256 256\" width=\"256\" height=\"256\"><rect x=\"0\" y=\"0\" width=\"256\" height=\"256\" fill=\"white\"/><path d=\"M 64 128 L 128 64 L 192 128 Z\" fill=\"lightblue\" transform=\"rotate(45,128,128)\"/></svg>\n"
     ]
    },
    {
     "name": "stdout",
     "output_type": "stream",
     "text": [
      "Prediction time for description 'a snowy plain...': 12.7310 seconds\n"
     ]
    },
    {
     "data": {
      "image/svg+xml": [
       "<svg viewBox=\"0 0 256 256\" width=\"256\" height=\"256\"><rect x=\"0\" y=\"0\" width=\"256\" height=\"256\" fill=\"white\"/><path d=\"M 64 128 L 128 64 L 192 128 Z\" fill=\"lightblue\" transform=\"rotate(45,128,128)\"/></svg>"
      ],
      "text/plain": [
       "<IPython.core.display.SVG object>"
      ]
     },
     "metadata": {},
     "output_type": "display_data"
    },
    {
     "name": "stderr",
     "output_type": "stream",
     "text": [
      "DEBUG:root:Output decoded from model: Generate SVG code to visually represent the following text description, while respecting the given constraints.\n",
      "<constraints>\n",
      "* **Allowed Elements:** `svg`, `path`, `circle`, `rect`, `ellipse`, `line`, `polyline`, `polygon`, `g`, `linearGradient`, `radialGradient`, `stop`, `defs`\n",
      "* **Allowed Attributes:** `viewBox`, `width`, `height`, `fill`, `stroke`, `stroke-width`, `d`, `cx`, `cy`, `r`, `x`, `y`, `rx`, `ry`, `x1`, `y1`, `x2`, `y2`, `points`, `transform`, `opacity`\n",
      "</constraints>\n",
      "\n",
      "<example>\n",
      "<description>\"A red circle with a blue square inside\"</description>\n",
      "```svg\n",
      "<svg viewBox=\"0 0 256 256\" width=\"256\" height=\"256\">\n",
      "  <circle cx=\"50\" cy=\"50\" r=\"40\" fill=\"red\"/>\n",
      "  <rect x=\"30\" y=\"30\" width=\"40\" height=\"40\" fill=\"blue\"/>\n",
      "</svg>\n",
      "```\n",
      "</example>\n",
      "\n",
      "\n",
      "Please ensure that the generated SVG code is well-formed, valid, and strictly adheres to these constraints. Focus on a clear and concise representation of the input description within the given limitations. Always give the complete SVG code with nothing omitted. Never use an ellipsis.\n",
      "\n",
      "<description>\"black and white checkered pants\"</description>\n",
      "```svg\n",
      "<svg viewBox=\"0 0 256 256\" width=\"256\" height=\"256\">\n",
      " <rect x=\"0\" y=\"0\" width=\"256\" height=\"256\" fill=\"#F0F0F0\"/>\n",
      " <rect x=\"0\" y=\"0\" width=\"256\" height=\"256\" fill=\"black\" />\n",
      "\n",
      "</svg>\n",
      "\n",
      "```\n",
      "\n",
      "\n",
      "\n",
      "```svg\n",
      "<svg viewBox=\"0 0 256 256\" width=\"256\" height=\"256\">\n",
      "  <defs>\n",
      "    <linearGradient id=\"grad\" x1=\"0%\" y1=\"0%\" x2=\"100%\" y2=\"100%\">\n",
      "      <stop offset=\"0%\" stop-color=\"black\" />\n",
      "      <stop offset=\"100%\" stop-color=\"white\" />\n",
      "    </linearGradient>\n",
      "  </defs>\n",
      "  <rect x=\"0\" y=\"0\" width=\"256\" height=\"256\" fill=\"url(#grad)\" />\n",
      "  <path d=\"M0 64v192h64v-64h192v64h-64v192h-192v-64z\" stroke=\"black\" stroke-width=\"4\" fill=\"transparent\"/>\n",
      "  <path d=\"M64 0h192v64h-64v192h-192v-64z\" stroke=\"black\" stroke-width=\"4\" fill=\"transparent\"/>\n",
      "</svg>\n",
      "\n",
      "``` \n",
      "\n",
      "\n",
      "\n",
      "This SVG code will produce a simple checkered pattern using a linear gradient to alternately fill black and white squares.\n",
      "\n",
      "\n",
      "\n",
      "Let me know if you have any other text descriptions you'd like me to convert into SVG code!\n",
      "\n",
      "\n",
      "\n",
      "\n",
      "DEBUG:root:Unprocessed SVG: <svg viewBox=\"0 0 256 256\" width=\"256\" height=\"256\">\n",
      "  <defs>\n",
      "    <linearGradient id=\"grad\" x1=\"0%\" y1=\"0%\" x2=\"100%\" y2=\"100%\">\n",
      "      <stop offset=\"0%\" stop-color=\"black\" />\n",
      "      <stop offset=\"100%\" stop-color=\"white\" />\n",
      "    </linearGradient>\n",
      "  </defs>\n",
      "  <rect x=\"0\" y=\"0\" width=\"256\" height=\"256\" fill=\"url(#grad)\" />\n",
      "  <path d=\"M0 64v192h64v-64h192v64h-64v192h-192v-64z\" stroke=\"black\" stroke-width=\"4\" fill=\"transparent\"/>\n",
      "  <path d=\"M64 0h192v64h-64v192h-192v-64z\" stroke=\"black\" stroke-width=\"4\" fill=\"transparent\"/>\n",
      "</svg>\n",
      "INFO:root:Sanitizing SVG...\n",
      "DEBUG:root:Path element \"d\" attribute validated (regex check).\n",
      "DEBUG:root:Path element \"d\" attribute validated (regex check).\n",
      "DEBUG:root:Processed SVG: <svg viewBox=\"0 0 256 256\" width=\"256\" height=\"256\"><defs><linearGradient id=\"grad\" x1=\"0%\" y1=\"0%\" x2=\"100%\" y2=\"100%\"><stop offset=\"0%\" stop-color=\"black\"/><stop offset=\"100%\" stop-color=\"white\"/></linearGradient></defs><rect x=\"0\" y=\"0\" width=\"256\" height=\"256\" fill=\"url(#grad)\"/><path d=\"M0 64v192h64v-64h192v64h-64v192h-192v-64z\" stroke=\"black\" stroke-width=\"4\" fill=\"transparent\"/><path d=\"M64 0h192v64h-64v192h-192v-64z\" stroke=\"black\" stroke-width=\"4\" fill=\"transparent\"/></svg>\n"
     ]
    },
    {
     "name": "stdout",
     "output_type": "stream",
     "text": [
      "Prediction time for description 'black and white chec...': 50.8407 seconds\n"
     ]
    },
    {
     "data": {
      "image/svg+xml": [
       "<svg viewBox=\"0 0 256 256\" width=\"256\" height=\"256\"><defs><linearGradient id=\"grad\" x1=\"0%\" y1=\"0%\" x2=\"100%\" y2=\"100%\"><stop offset=\"0%\" stop-color=\"black\"/><stop offset=\"100%\" stop-color=\"white\"/></linearGradient></defs><rect x=\"0\" y=\"0\" width=\"256\" height=\"256\" fill=\"url(#grad)\"/><path d=\"M0 64v192h64v-64h192v64h-64v192h-192v-64z\" stroke=\"black\" stroke-width=\"4\" fill=\"transparent\"/><path d=\"M64 0h192v64h-64v192h-192v-64z\" stroke=\"black\" stroke-width=\"4\" fill=\"transparent\"/></svg>"
      ],
      "text/plain": [
       "<IPython.core.display.SVG object>"
      ]
     },
     "metadata": {},
     "output_type": "display_data"
    },
    {
     "name": "stderr",
     "output_type": "stream",
     "text": [
      "DEBUG:root:Output decoded from model: Generate SVG code to visually represent the following text description, while respecting the given constraints.\n",
      "<constraints>\n",
      "* **Allowed Elements:** `svg`, `path`, `circle`, `rect`, `ellipse`, `line`, `polyline`, `polygon`, `g`, `linearGradient`, `radialGradient`, `stop`, `defs`\n",
      "* **Allowed Attributes:** `viewBox`, `width`, `height`, `fill`, `stroke`, `stroke-width`, `d`, `cx`, `cy`, `r`, `x`, `y`, `rx`, `ry`, `x1`, `y1`, `x2`, `y2`, `points`, `transform`, `opacity`\n",
      "</constraints>\n",
      "\n",
      "<example>\n",
      "<description>\"A red circle with a blue square inside\"</description>\n",
      "```svg\n",
      "<svg viewBox=\"0 0 256 256\" width=\"256\" height=\"256\">\n",
      "  <circle cx=\"50\" cy=\"50\" r=\"40\" fill=\"red\"/>\n",
      "  <rect x=\"30\" y=\"30\" width=\"40\" height=\"40\" fill=\"blue\"/>\n",
      "</svg>\n",
      "```\n",
      "</example>\n",
      "\n",
      "\n",
      "Please ensure that the generated SVG code is well-formed, valid, and strictly adheres to these constraints. Focus on a clear and concise representation of the input description within the given limitations. Always give the complete SVG code with nothing omitted. Never use an ellipsis.\n",
      "\n",
      "<description>\"a starlit night over snow-covered peaks\"</description>\n",
      "```svg\n",
      "<svg viewBox=\"0 0 256 256\" width=\"256\" height=\"256\">\n",
      "<defs>\n",
      "  <radialGradient id=\"starlight\" cx=\"50%\" cy=\"50%\" r=\"80%\">\n",
      "    <stop offset=\"0%\" stop-color=\"#222222\"/>\n",
      "    <stop offset=\"50%\" stop-color=\"#000000\"/>\n",
      "    <stop offset=\"100%\" stop-color=\"#111111\"/>\n",
      "  </radialGradient>\n",
      "</defs>\n",
      "<rect x=\"0\" y=\"0\" width=\"256\" height=\"256\" fill=\"url(#starlight)\"/>\n",
      "\n",
      "  \n",
      "<circle cx=\"100\" cy=\"100\" r=\"10\" fill=\"white\"/></circle>\n",
      "<circle cx=\"150\" cy=\"120\" r=\"8\" fill=\"white\"/></circle>\n",
      "<circle cx=\"200\" cy=\"80\" r=\"12\" fill=\"white\"/></circle>\n",
      "<circle cx=\"120\" cy=\"180\" r=\"6\" fill=\"white\"/></circle>\n",
      "<circle cx=\"80\" cy=\"160\" r=\"10\" fill=\"white\"/></circle>\n",
      "  \n",
      "<polygon points=\"60,200 30,220 90,240\" fill=\"white\" />\n",
      "\n",
      "\n",
      "</svg>\n",
      "```\n",
      "\n",
      "\n",
      "DEBUG:root:Unprocessed SVG: <svg viewBox=\"0 0 256 256\" width=\"256\" height=\"256\">\n",
      "<defs>\n",
      "  <radialGradient id=\"starlight\" cx=\"50%\" cy=\"50%\" r=\"80%\">\n",
      "    <stop offset=\"0%\" stop-color=\"#222222\"/>\n",
      "    <stop offset=\"50%\" stop-color=\"#000000\"/>\n",
      "    <stop offset=\"100%\" stop-color=\"#111111\"/>\n",
      "  </radialGradient>\n",
      "</defs>\n",
      "<rect x=\"0\" y=\"0\" width=\"256\" height=\"256\" fill=\"url(#starlight)\"/>\n",
      "\n",
      "  \n",
      "<circle cx=\"100\" cy=\"100\" r=\"10\" fill=\"white\"/></circle>\n",
      "<circle cx=\"150\" cy=\"120\" r=\"8\" fill=\"white\"/></circle>\n",
      "<circle cx=\"200\" cy=\"80\" r=\"12\" fill=\"white\"/></circle>\n",
      "<circle cx=\"120\" cy=\"180\" r=\"6\" fill=\"white\"/></circle>\n",
      "<circle cx=\"80\" cy=\"160\" r=\"10\" fill=\"white\"/></circle>\n",
      "  \n",
      "<polygon points=\"60,200 30,220 90,240\" fill=\"white\" />\n",
      "\n",
      "\n",
      "</svg>\n",
      "INFO:root:Sanitizing SVG...\n",
      "ERROR:root:SVG Parse Error: Opening and ending tag mismatch: svg line 1 and circle, line 12, column 57 (<string>, line 12). Returning default SVG.\n",
      "DEBUG:root:Processed SVG: <svg width=\"256\" height=\"256\" viewBox=\"0 0 256 256\"><circle cx=\"50\" cy=\"50\" r=\"40\" fill=\"red\" /></svg>\n"
     ]
    },
    {
     "name": "stdout",
     "output_type": "stream",
     "text": [
      "Prediction time for description 'a starlit night over...': 40.3817 seconds\n"
     ]
    },
    {
     "data": {
      "image/svg+xml": [
       "<svg width=\"256\" height=\"256\" viewBox=\"0 0 256 256\"><circle cx=\"50\" cy=\"50\" r=\"40\" fill=\"red\"/></svg>"
      ],
      "text/plain": [
       "<IPython.core.display.SVG object>"
      ]
     },
     "metadata": {},
     "output_type": "display_data"
    },
    {
     "name": "stderr",
     "output_type": "stream",
     "text": [
      "DEBUG:root:Output decoded from model: Generate SVG code to visually represent the following text description, while respecting the given constraints.\n",
      "<constraints>\n",
      "* **Allowed Elements:** `svg`, `path`, `circle`, `rect`, `ellipse`, `line`, `polyline`, `polygon`, `g`, `linearGradient`, `radialGradient`, `stop`, `defs`\n",
      "* **Allowed Attributes:** `viewBox`, `width`, `height`, `fill`, `stroke`, `stroke-width`, `d`, `cx`, `cy`, `r`, `x`, `y`, `rx`, `ry`, `x1`, `y1`, `x2`, `y2`, `points`, `transform`, `opacity`\n",
      "</constraints>\n",
      "\n",
      "<example>\n",
      "<description>\"A red circle with a blue square inside\"</description>\n",
      "```svg\n",
      "<svg viewBox=\"0 0 256 256\" width=\"256\" height=\"256\">\n",
      "  <circle cx=\"50\" cy=\"50\" r=\"40\" fill=\"red\"/>\n",
      "  <rect x=\"30\" y=\"30\" width=\"40\" height=\"40\" fill=\"blue\"/>\n",
      "</svg>\n",
      "```\n",
      "</example>\n",
      "\n",
      "\n",
      "Please ensure that the generated SVG code is well-formed, valid, and strictly adheres to these constraints. Focus on a clear and concise representation of the input description within the given limitations. Always give the complete SVG code with nothing omitted. Never use an ellipsis.\n",
      "\n",
      "<description>\"khaki triangles and azure crescents\"</description>\n",
      "```svg\n",
      "<svg viewBox=\"0 0 256 256\" width=\"256\" height=\"256\">\n",
      "  <polygon points=\"50,100 100,250 150,100\" fill=\"khaki\" rx=\"10\" ry=\"10\"/>\n",
      "\n",
      "\n",
      "\n",
      "<path d=\"M 100 150 A 70 70 0 1 1 200 150\" stroke = \"azure\" stroke-width=\"5\" fill=\"transparent\" />\n",
      "\n",
      "</svg>\n",
      "\n",
      "```\n",
      "\n",
      "\n",
      "\n",
      "\n",
      "DEBUG:root:Unprocessed SVG: <svg viewBox=\"0 0 256 256\" width=\"256\" height=\"256\">\n",
      "  <polygon points=\"50,100 100,250 150,100\" fill=\"khaki\" rx=\"10\" ry=\"10\"/>\n",
      "\n",
      "\n",
      "\n",
      "<path d=\"M 100 150 A 70 70 0 1 1 200 150\" stroke = \"azure\" stroke-width=\"5\" fill=\"transparent\" />\n",
      "\n",
      "</svg>\n",
      "INFO:root:Sanitizing SVG...\n",
      "DEBUG:root:Attribute \"rx\" for element \"polygon\" not allowed. Removing.\n",
      "DEBUG:root:Attribute \"ry\" for element \"polygon\" not allowed. Removing.\n",
      "DEBUG:root:Path element \"d\" attribute validated (regex check).\n",
      "DEBUG:root:Processed SVG: <svg viewBox=\"0 0 256 256\" width=\"256\" height=\"256\"><polygon points=\"50,100 100,250 150,100\" fill=\"khaki\"/><path d=\"M 100 150 A 70 70 0 1 1 200 150\" stroke=\"azure\" stroke-width=\"5\" fill=\"transparent\"/></svg>\n"
     ]
    },
    {
     "name": "stdout",
     "output_type": "stream",
     "text": [
      "Prediction time for description 'khaki triangles and ...': 14.5312 seconds\n"
     ]
    },
    {
     "data": {
      "image/svg+xml": [
       "<svg viewBox=\"0 0 256 256\" width=\"256\" height=\"256\"><polygon points=\"50,100 100,250 150,100\" fill=\"khaki\"/><path d=\"M 100 150 A 70 70 0 1 1 200 150\" stroke=\"azure\" stroke-width=\"5\" fill=\"transparent\"/></svg>"
      ],
      "text/plain": [
       "<IPython.core.display.SVG object>"
      ]
     },
     "metadata": {},
     "output_type": "display_data"
    },
    {
     "name": "stderr",
     "output_type": "stream",
     "text": [
      "DEBUG:root:Output decoded from model: Generate SVG code to visually represent the following text description, while respecting the given constraints.\n",
      "<constraints>\n",
      "* **Allowed Elements:** `svg`, `path`, `circle`, `rect`, `ellipse`, `line`, `polyline`, `polygon`, `g`, `linearGradient`, `radialGradient`, `stop`, `defs`\n",
      "* **Allowed Attributes:** `viewBox`, `width`, `height`, `fill`, `stroke`, `stroke-width`, `d`, `cx`, `cy`, `r`, `x`, `y`, `rx`, `ry`, `x1`, `y1`, `x2`, `y2`, `points`, `transform`, `opacity`\n",
      "</constraints>\n",
      "\n",
      "<example>\n",
      "<description>\"A red circle with a blue square inside\"</description>\n",
      "```svg\n",
      "<svg viewBox=\"0 0 256 256\" width=\"256\" height=\"256\">\n",
      "  <circle cx=\"50\" cy=\"50\" r=\"40\" fill=\"red\"/>\n",
      "  <rect x=\"30\" y=\"30\" width=\"40\" height=\"40\" fill=\"blue\"/>\n",
      "</svg>\n",
      "```\n",
      "</example>\n",
      "\n",
      "\n",
      "Please ensure that the generated SVG code is well-formed, valid, and strictly adheres to these constraints. Focus on a clear and concise representation of the input description within the given limitations. Always give the complete SVG code with nothing omitted. Never use an ellipsis.\n",
      "\n",
      "<description>\"a maroon dodecahedron interwoven with teal threads\"</description>\n",
      "```svg\n",
      "<svg viewBox=\"0 0 256 256\" width=\"256\" height=\"256\">\n",
      "  <polygon points=\"0,128 64,0 128,64 192,0 256,128 192,256 128,192 64,256 0,192\" fill=\"maroon\"/>\n",
      "  <polygon points=\"64,0 128,64 192,0 256,128 192,256 128,192 64,256\" fill=\"maroon\"/> \n",
      "  <polygon points=\"0,128 64,0 128,64\" fill=\"maroon\"/>\n",
      "  <polygon points=\"0,256 64,64 128,256\" fill=\"maroon\"/>  \n",
      "  <polygon points=\"128,64 192,160 256,64\" fill=\"maroon\"/> \n",
      "  <polygon points=\"128,192 192,256\" fill=\"maroon\"/>  \n",
      "  <!-- Add more polyons to create the full dodecahedron -->\n",
      "  \n",
      "  \n",
      "  <!-- Add teal threads (Lines) --> \n",
      "  <line x1=\"0\" y1=\"128\" x2=\"128\" y2=\"0\" stroke=\"teal\" stroke-width=\"2\"/>\n",
      "  </svg>\n",
      "``` \n",
      "\n",
      "\n",
      " **The teal threads should represent the connections between the points of the dodecahedron.** \n",
      "\n",
      "DEBUG:root:Unprocessed SVG: <svg viewBox=\"0 0 256 256\" width=\"256\" height=\"256\">\n",
      "  <polygon points=\"0,128 64,0 128,64 192,0 256,128 192,256 128,192 64,256 0,192\" fill=\"maroon\"/>\n",
      "  <polygon points=\"64,0 128,64 192,0 256,128 192,256 128,192 64,256\" fill=\"maroon\"/> \n",
      "  <polygon points=\"0,128 64,0 128,64\" fill=\"maroon\"/>\n",
      "  <polygon points=\"0,256 64,64 128,256\" fill=\"maroon\"/>  \n",
      "  <polygon points=\"128,64 192,160 256,64\" fill=\"maroon\"/> \n",
      "  <polygon points=\"128,192 192,256\" fill=\"maroon\"/>  \n",
      "  <!-- Add more polyons to create the full dodecahedron -->\n",
      "  \n",
      "  \n",
      "  <!-- Add teal threads (Lines) --> \n",
      "  <line x1=\"0\" y1=\"128\" x2=\"128\" y2=\"0\" stroke=\"teal\" stroke-width=\"2\"/>\n",
      "  </svg>\n",
      "INFO:root:Sanitizing SVG...\n",
      "DEBUG:root:Processed SVG: <svg viewBox=\"0 0 256 256\" width=\"256\" height=\"256\"><polygon points=\"0,128 64,0 128,64 192,0 256,128 192,256 128,192 64,256 0,192\" fill=\"maroon\"/><polygon points=\"64,0 128,64 192,0 256,128 192,256 128,192 64,256\" fill=\"maroon\"/><polygon points=\"0,128 64,0 128,64\" fill=\"maroon\"/><polygon points=\"0,256 64,64 128,256\" fill=\"maroon\"/><polygon points=\"128,64 192,160 256,64\" fill=\"maroon\"/><polygon points=\"128,192 192,256\" fill=\"maroon\"/><line x1=\"0\" y1=\"128\" x2=\"128\" y2=\"0\" stroke=\"teal\" stroke-width=\"2\"/></svg>\n"
     ]
    },
    {
     "name": "stdout",
     "output_type": "stream",
     "text": [
      "Prediction time for description 'a maroon dodecahedro...': 47.0734 seconds\n"
     ]
    },
    {
     "data": {
      "image/svg+xml": [
       "<svg viewBox=\"0 0 256 256\" width=\"256\" height=\"256\"><polygon points=\"0,128 64,0 128,64 192,0 256,128 192,256 128,192 64,256 0,192\" fill=\"maroon\"/><polygon points=\"64,0 128,64 192,0 256,128 192,256 128,192 64,256\" fill=\"maroon\"/><polygon points=\"0,128 64,0 128,64\" fill=\"maroon\"/><polygon points=\"0,256 64,64 128,256\" fill=\"maroon\"/><polygon points=\"128,64 192,160 256,64\" fill=\"maroon\"/><polygon points=\"128,192 192,256\" fill=\"maroon\"/><line x1=\"0\" y1=\"128\" x2=\"128\" y2=\"0\" stroke=\"teal\" stroke-width=\"2\"/></svg>"
      ],
      "text/plain": [
       "<IPython.core.display.SVG object>"
      ]
     },
     "metadata": {},
     "output_type": "display_data"
    }
   ],
   "source": [
    "def generate():\n",
    "    import polars as pl\n",
    "    from IPython.display import SVG\n",
    "    import time  # Import the time module\n",
    "    \n",
    "    logging.basicConfig(level=logging.DEBUG, force=True)\n",
    "    \n",
    "    train = pl.read_csv('/kaggle/input/drawing-with-llms/published/train.csv')\n",
    "    display(train.head())\n",
    "    \n",
    "    model = Model()\n",
    "    svgs = []\n",
    "    for desc in train.get_column('description'):\n",
    "        start_time = time.time()  # Record start time\n",
    "        svg = model.predict(desc)\n",
    "        end_time = time.time()    # Record end time\n",
    "        elapsed_time = end_time - start_time # Calculate elapsed time\n",
    "        print(f\"Prediction time for description '{desc[:20]}...': {elapsed_time:.4f} seconds\") # Print time\n",
    "    \n",
    "        try:\n",
    "            display(SVG(svg))\n",
    "        except Exception as e:\n",
    "            print(e)\n",
    "            continue\n",
    "\n",
    "# Uncomment and run the line below to see some generated images\n",
    "generate()"
   ]
  }
 ],
 "metadata": {
  "kaggle": {
   "accelerator": "nvidiaTeslaT4",
   "dataSources": [
    {
     "databundleVersionId": 11500533,
     "sourceId": 89659,
     "sourceType": "competition"
    },
    {
     "datasetId": 6936975,
     "sourceId": 11123842,
     "sourceType": "datasetVersion"
    },
    {
     "sourceId": 224423433,
     "sourceType": "kernelVersion"
    },
    {
     "modelId": 76277,
     "modelInstanceId": 72256,
     "sourceId": 104453,
     "sourceType": "modelInstanceVersion"
    }
   ],
   "dockerImageVersionId": 30919,
   "isGpuEnabled": true,
   "isInternetEnabled": true,
   "language": "python",
   "sourceType": "notebook"
  },
  "kernelspec": {
   "display_name": "Python 3",
   "language": "python",
   "name": "python3"
  },
  "language_info": {
   "codemirror_mode": {
    "name": "ipython",
    "version": 3
   },
   "file_extension": ".py",
   "mimetype": "text/x-python",
   "name": "python",
   "nbconvert_exporter": "python",
   "pygments_lexer": "ipython3",
   "version": "3.10.12"
  },
  "papermill": {
   "default_parameters": {},
   "duration": 1057.247884,
   "end_time": "2025-03-22T11:52:06.771700",
   "environment_variables": {},
   "exception": null,
   "input_path": "__notebook__.ipynb",
   "output_path": "__notebook__.ipynb",
   "parameters": {},
   "start_time": "2025-03-22T11:34:29.523816",
   "version": "2.6.0"
  },
  "widgets": {
   "application/vnd.jupyter.widget-state+json": {
    "state": {
     "0b70788f7ada4a04a07f42989500e726": {
      "model_module": "@jupyter-widgets/base",
      "model_module_version": "2.0.0",
      "model_name": "LayoutModel",
      "state": {
       "_model_module": "@jupyter-widgets/base",
       "_model_module_version": "2.0.0",
       "_model_name": "LayoutModel",
       "_view_count": null,
       "_view_module": "@jupyter-widgets/base",
       "_view_module_version": "2.0.0",
       "_view_name": "LayoutView",
       "align_content": null,
       "align_items": null,
       "align_self": null,
       "border_bottom": null,
       "border_left": null,
       "border_right": null,
       "border_top": null,
       "bottom": null,
       "display": null,
       "flex": null,
       "flex_flow": null,
       "grid_area": null,
       "grid_auto_columns": null,
       "grid_auto_flow": null,
       "grid_auto_rows": null,
       "grid_column": null,
       "grid_gap": null,
       "grid_row": null,
       "grid_template_areas": null,
       "grid_template_columns": null,
       "grid_template_rows": null,
       "height": null,
       "justify_content": null,
       "justify_items": null,
       "left": null,
       "margin": null,
       "max_height": null,
       "max_width": null,
       "min_height": null,
       "min_width": null,
       "object_fit": null,
       "object_position": null,
       "order": null,
       "overflow": null,
       "padding": null,
       "right": null,
       "top": null,
       "visibility": null,
       "width": null
      }
     },
     "22cedf92f0664993bdd9d4401b87c01a": {
      "model_module": "@jupyter-widgets/base",
      "model_module_version": "2.0.0",
      "model_name": "LayoutModel",
      "state": {
       "_model_module": "@jupyter-widgets/base",
       "_model_module_version": "2.0.0",
       "_model_name": "LayoutModel",
       "_view_count": null,
       "_view_module": "@jupyter-widgets/base",
       "_view_module_version": "2.0.0",
       "_view_name": "LayoutView",
       "align_content": null,
       "align_items": null,
       "align_self": null,
       "border_bottom": null,
       "border_left": null,
       "border_right": null,
       "border_top": null,
       "bottom": null,
       "display": null,
       "flex": null,
       "flex_flow": null,
       "grid_area": null,
       "grid_auto_columns": null,
       "grid_auto_flow": null,
       "grid_auto_rows": null,
       "grid_column": null,
       "grid_gap": null,
       "grid_row": null,
       "grid_template_areas": null,
       "grid_template_columns": null,
       "grid_template_rows": null,
       "height": null,
       "justify_content": null,
       "justify_items": null,
       "left": null,
       "margin": null,
       "max_height": null,
       "max_width": null,
       "min_height": null,
       "min_width": null,
       "object_fit": null,
       "object_position": null,
       "order": null,
       "overflow": null,
       "padding": null,
       "right": null,
       "top": null,
       "visibility": null,
       "width": null
      }
     },
     "2b6010d7038244ecb2a3d2c85f2fc0dd": {
      "model_module": "@jupyter-widgets/controls",
      "model_module_version": "2.0.0",
      "model_name": "HBoxModel",
      "state": {
       "_dom_classes": [],
       "_model_module": "@jupyter-widgets/controls",
       "_model_module_version": "2.0.0",
       "_model_name": "HBoxModel",
       "_view_count": null,
       "_view_module": "@jupyter-widgets/controls",
       "_view_module_version": "2.0.0",
       "_view_name": "HBoxView",
       "box_style": "",
       "children": [
        "IPY_MODEL_57642109002b4b7a9429945bd530d936",
        "IPY_MODEL_676cd11c935f47eb94b75262729c97df",
        "IPY_MODEL_8088dfc1856e46eb8022863d25d861a1"
       ],
       "layout": "IPY_MODEL_a888195bad7e485cb83c15a900f4fd8a",
       "tabbable": null,
       "tooltip": null
      }
     },
     "2bfd56a1b0124e32912668d44702751f": {
      "model_module": "@jupyter-widgets/base",
      "model_module_version": "2.0.0",
      "model_name": "LayoutModel",
      "state": {
       "_model_module": "@jupyter-widgets/base",
       "_model_module_version": "2.0.0",
       "_model_name": "LayoutModel",
       "_view_count": null,
       "_view_module": "@jupyter-widgets/base",
       "_view_module_version": "2.0.0",
       "_view_name": "LayoutView",
       "align_content": null,
       "align_items": null,
       "align_self": null,
       "border_bottom": null,
       "border_left": null,
       "border_right": null,
       "border_top": null,
       "bottom": null,
       "display": null,
       "flex": null,
       "flex_flow": null,
       "grid_area": null,
       "grid_auto_columns": null,
       "grid_auto_flow": null,
       "grid_auto_rows": null,
       "grid_column": null,
       "grid_gap": null,
       "grid_row": null,
       "grid_template_areas": null,
       "grid_template_columns": null,
       "grid_template_rows": null,
       "height": null,
       "justify_content": null,
       "justify_items": null,
       "left": null,
       "margin": null,
       "max_height": null,
       "max_width": null,
       "min_height": null,
       "min_width": null,
       "object_fit": null,
       "object_position": null,
       "order": null,
       "overflow": null,
       "padding": null,
       "right": null,
       "top": null,
       "visibility": null,
       "width": null
      }
     },
     "2e8540e9aa3d445a94814c5b3f312fd5": {
      "model_module": "@jupyter-widgets/base",
      "model_module_version": "2.0.0",
      "model_name": "LayoutModel",
      "state": {
       "_model_module": "@jupyter-widgets/base",
       "_model_module_version": "2.0.0",
       "_model_name": "LayoutModel",
       "_view_count": null,
       "_view_module": "@jupyter-widgets/base",
       "_view_module_version": "2.0.0",
       "_view_name": "LayoutView",
       "align_content": null,
       "align_items": null,
       "align_self": null,
       "border_bottom": null,
       "border_left": null,
       "border_right": null,
       "border_top": null,
       "bottom": null,
       "display": null,
       "flex": null,
       "flex_flow": null,
       "grid_area": null,
       "grid_auto_columns": null,
       "grid_auto_flow": null,
       "grid_auto_rows": null,
       "grid_column": null,
       "grid_gap": null,
       "grid_row": null,
       "grid_template_areas": null,
       "grid_template_columns": null,
       "grid_template_rows": null,
       "height": null,
       "justify_content": null,
       "justify_items": null,
       "left": null,
       "margin": null,
       "max_height": null,
       "max_width": null,
       "min_height": null,
       "min_width": null,
       "object_fit": null,
       "object_position": null,
       "order": null,
       "overflow": null,
       "padding": null,
       "right": null,
       "top": null,
       "visibility": null,
       "width": null
      }
     },
     "4adbbe6b7d4649209eda067585673ed7": {
      "model_module": "@jupyter-widgets/controls",
      "model_module_version": "2.0.0",
      "model_name": "HTMLModel",
      "state": {
       "_dom_classes": [],
       "_model_module": "@jupyter-widgets/controls",
       "_model_module_version": "2.0.0",
       "_model_name": "HTMLModel",
       "_view_count": null,
       "_view_module": "@jupyter-widgets/controls",
       "_view_module_version": "2.0.0",
       "_view_name": "HTMLView",
       "description": "",
       "description_allow_html": false,
       "layout": "IPY_MODEL_2e8540e9aa3d445a94814c5b3f312fd5",
       "placeholder": "​",
       "style": "IPY_MODEL_602bcde63ea54470891ffeefaabfcb5c",
       "tabbable": null,
       "tooltip": null,
       "value": "Loading checkpoint shards: 100%"
      }
     },
     "54a1500c581945adaf2addd7d9a61388": {
      "model_module": "@jupyter-widgets/controls",
      "model_module_version": "2.0.0",
      "model_name": "FloatProgressModel",
      "state": {
       "_dom_classes": [],
       "_model_module": "@jupyter-widgets/controls",
       "_model_module_version": "2.0.0",
       "_model_name": "FloatProgressModel",
       "_view_count": null,
       "_view_module": "@jupyter-widgets/controls",
       "_view_module_version": "2.0.0",
       "_view_name": "ProgressView",
       "bar_style": "success",
       "description": "",
       "description_allow_html": false,
       "layout": "IPY_MODEL_ab7829a40b1d4542879956f622016102",
       "max": 4.0,
       "min": 0.0,
       "orientation": "horizontal",
       "style": "IPY_MODEL_b22d5a53df66440389b16566601ab79b",
       "tabbable": null,
       "tooltip": null,
       "value": 4.0
      }
     },
     "57642109002b4b7a9429945bd530d936": {
      "model_module": "@jupyter-widgets/controls",
      "model_module_version": "2.0.0",
      "model_name": "HTMLModel",
      "state": {
       "_dom_classes": [],
       "_model_module": "@jupyter-widgets/controls",
       "_model_module_version": "2.0.0",
       "_model_name": "HTMLModel",
       "_view_count": null,
       "_view_module": "@jupyter-widgets/controls",
       "_view_module_version": "2.0.0",
       "_view_name": "HTMLView",
       "description": "",
       "description_allow_html": false,
       "layout": "IPY_MODEL_2bfd56a1b0124e32912668d44702751f",
       "placeholder": "​",
       "style": "IPY_MODEL_7fdacd9ad1a74225897a95b7024a83d4",
       "tabbable": null,
       "tooltip": null,
       "value": "Loading checkpoint shards: 100%"
      }
     },
     "602bcde63ea54470891ffeefaabfcb5c": {
      "model_module": "@jupyter-widgets/controls",
      "model_module_version": "2.0.0",
      "model_name": "HTMLStyleModel",
      "state": {
       "_model_module": "@jupyter-widgets/controls",
       "_model_module_version": "2.0.0",
       "_model_name": "HTMLStyleModel",
       "_view_count": null,
       "_view_module": "@jupyter-widgets/base",
       "_view_module_version": "2.0.0",
       "_view_name": "StyleView",
       "background": null,
       "description_width": "",
       "font_size": null,
       "text_color": null
      }
     },
     "63ca39aa0c9e41aaaa8dda81885a70dd": {
      "model_module": "@jupyter-widgets/base",
      "model_module_version": "2.0.0",
      "model_name": "LayoutModel",
      "state": {
       "_model_module": "@jupyter-widgets/base",
       "_model_module_version": "2.0.0",
       "_model_name": "LayoutModel",
       "_view_count": null,
       "_view_module": "@jupyter-widgets/base",
       "_view_module_version": "2.0.0",
       "_view_name": "LayoutView",
       "align_content": null,
       "align_items": null,
       "align_self": null,
       "border_bottom": null,
       "border_left": null,
       "border_right": null,
       "border_top": null,
       "bottom": null,
       "display": null,
       "flex": null,
       "flex_flow": null,
       "grid_area": null,
       "grid_auto_columns": null,
       "grid_auto_flow": null,
       "grid_auto_rows": null,
       "grid_column": null,
       "grid_gap": null,
       "grid_row": null,
       "grid_template_areas": null,
       "grid_template_columns": null,
       "grid_template_rows": null,
       "height": null,
       "justify_content": null,
       "justify_items": null,
       "left": null,
       "margin": null,
       "max_height": null,
       "max_width": null,
       "min_height": null,
       "min_width": null,
       "object_fit": null,
       "object_position": null,
       "order": null,
       "overflow": null,
       "padding": null,
       "right": null,
       "top": null,
       "visibility": null,
       "width": null
      }
     },
     "676cd11c935f47eb94b75262729c97df": {
      "model_module": "@jupyter-widgets/controls",
      "model_module_version": "2.0.0",
      "model_name": "FloatProgressModel",
      "state": {
       "_dom_classes": [],
       "_model_module": "@jupyter-widgets/controls",
       "_model_module_version": "2.0.0",
       "_model_name": "FloatProgressModel",
       "_view_count": null,
       "_view_module": "@jupyter-widgets/controls",
       "_view_module_version": "2.0.0",
       "_view_name": "ProgressView",
       "bar_style": "success",
       "description": "",
       "description_allow_html": false,
       "layout": "IPY_MODEL_0b70788f7ada4a04a07f42989500e726",
       "max": 4.0,
       "min": 0.0,
       "orientation": "horizontal",
       "style": "IPY_MODEL_733238b2e4294905b1d118bc94092b98",
       "tabbable": null,
       "tooltip": null,
       "value": 4.0
      }
     },
     "733238b2e4294905b1d118bc94092b98": {
      "model_module": "@jupyter-widgets/controls",
      "model_module_version": "2.0.0",
      "model_name": "ProgressStyleModel",
      "state": {
       "_model_module": "@jupyter-widgets/controls",
       "_model_module_version": "2.0.0",
       "_model_name": "ProgressStyleModel",
       "_view_count": null,
       "_view_module": "@jupyter-widgets/base",
       "_view_module_version": "2.0.0",
       "_view_name": "StyleView",
       "bar_color": null,
       "description_width": ""
      }
     },
     "7fdacd9ad1a74225897a95b7024a83d4": {
      "model_module": "@jupyter-widgets/controls",
      "model_module_version": "2.0.0",
      "model_name": "HTMLStyleModel",
      "state": {
       "_model_module": "@jupyter-widgets/controls",
       "_model_module_version": "2.0.0",
       "_model_name": "HTMLStyleModel",
       "_view_count": null,
       "_view_module": "@jupyter-widgets/base",
       "_view_module_version": "2.0.0",
       "_view_name": "StyleView",
       "background": null,
       "description_width": "",
       "font_size": null,
       "text_color": null
      }
     },
     "8088dfc1856e46eb8022863d25d861a1": {
      "model_module": "@jupyter-widgets/controls",
      "model_module_version": "2.0.0",
      "model_name": "HTMLModel",
      "state": {
       "_dom_classes": [],
       "_model_module": "@jupyter-widgets/controls",
       "_model_module_version": "2.0.0",
       "_model_name": "HTMLModel",
       "_view_count": null,
       "_view_module": "@jupyter-widgets/controls",
       "_view_module_version": "2.0.0",
       "_view_name": "HTMLView",
       "description": "",
       "description_allow_html": false,
       "layout": "IPY_MODEL_a66f0b67cbe744ce897c08dbfb905374",
       "placeholder": "​",
       "style": "IPY_MODEL_beacc0deaa734ee99ba8946f0713cad5",
       "tabbable": null,
       "tooltip": null,
       "value": " 4/4 [01:30&lt;00:00, 21.54s/it]"
      }
     },
     "a66f0b67cbe744ce897c08dbfb905374": {
      "model_module": "@jupyter-widgets/base",
      "model_module_version": "2.0.0",
      "model_name": "LayoutModel",
      "state": {
       "_model_module": "@jupyter-widgets/base",
       "_model_module_version": "2.0.0",
       "_model_name": "LayoutModel",
       "_view_count": null,
       "_view_module": "@jupyter-widgets/base",
       "_view_module_version": "2.0.0",
       "_view_name": "LayoutView",
       "align_content": null,
       "align_items": null,
       "align_self": null,
       "border_bottom": null,
       "border_left": null,
       "border_right": null,
       "border_top": null,
       "bottom": null,
       "display": null,
       "flex": null,
       "flex_flow": null,
       "grid_area": null,
       "grid_auto_columns": null,
       "grid_auto_flow": null,
       "grid_auto_rows": null,
       "grid_column": null,
       "grid_gap": null,
       "grid_row": null,
       "grid_template_areas": null,
       "grid_template_columns": null,
       "grid_template_rows": null,
       "height": null,
       "justify_content": null,
       "justify_items": null,
       "left": null,
       "margin": null,
       "max_height": null,
       "max_width": null,
       "min_height": null,
       "min_width": null,
       "object_fit": null,
       "object_position": null,
       "order": null,
       "overflow": null,
       "padding": null,
       "right": null,
       "top": null,
       "visibility": null,
       "width": null
      }
     },
     "a888195bad7e485cb83c15a900f4fd8a": {
      "model_module": "@jupyter-widgets/base",
      "model_module_version": "2.0.0",
      "model_name": "LayoutModel",
      "state": {
       "_model_module": "@jupyter-widgets/base",
       "_model_module_version": "2.0.0",
       "_model_name": "LayoutModel",
       "_view_count": null,
       "_view_module": "@jupyter-widgets/base",
       "_view_module_version": "2.0.0",
       "_view_name": "LayoutView",
       "align_content": null,
       "align_items": null,
       "align_self": null,
       "border_bottom": null,
       "border_left": null,
       "border_right": null,
       "border_top": null,
       "bottom": null,
       "display": null,
       "flex": null,
       "flex_flow": null,
       "grid_area": null,
       "grid_auto_columns": null,
       "grid_auto_flow": null,
       "grid_auto_rows": null,
       "grid_column": null,
       "grid_gap": null,
       "grid_row": null,
       "grid_template_areas": null,
       "grid_template_columns": null,
       "grid_template_rows": null,
       "height": null,
       "justify_content": null,
       "justify_items": null,
       "left": null,
       "margin": null,
       "max_height": null,
       "max_width": null,
       "min_height": null,
       "min_width": null,
       "object_fit": null,
       "object_position": null,
       "order": null,
       "overflow": null,
       "padding": null,
       "right": null,
       "top": null,
       "visibility": null,
       "width": null
      }
     },
     "ab7829a40b1d4542879956f622016102": {
      "model_module": "@jupyter-widgets/base",
      "model_module_version": "2.0.0",
      "model_name": "LayoutModel",
      "state": {
       "_model_module": "@jupyter-widgets/base",
       "_model_module_version": "2.0.0",
       "_model_name": "LayoutModel",
       "_view_count": null,
       "_view_module": "@jupyter-widgets/base",
       "_view_module_version": "2.0.0",
       "_view_name": "LayoutView",
       "align_content": null,
       "align_items": null,
       "align_self": null,
       "border_bottom": null,
       "border_left": null,
       "border_right": null,
       "border_top": null,
       "bottom": null,
       "display": null,
       "flex": null,
       "flex_flow": null,
       "grid_area": null,
       "grid_auto_columns": null,
       "grid_auto_flow": null,
       "grid_auto_rows": null,
       "grid_column": null,
       "grid_gap": null,
       "grid_row": null,
       "grid_template_areas": null,
       "grid_template_columns": null,
       "grid_template_rows": null,
       "height": null,
       "justify_content": null,
       "justify_items": null,
       "left": null,
       "margin": null,
       "max_height": null,
       "max_width": null,
       "min_height": null,
       "min_width": null,
       "object_fit": null,
       "object_position": null,
       "order": null,
       "overflow": null,
       "padding": null,
       "right": null,
       "top": null,
       "visibility": null,
       "width": null
      }
     },
     "b22d5a53df66440389b16566601ab79b": {
      "model_module": "@jupyter-widgets/controls",
      "model_module_version": "2.0.0",
      "model_name": "ProgressStyleModel",
      "state": {
       "_model_module": "@jupyter-widgets/controls",
       "_model_module_version": "2.0.0",
       "_model_name": "ProgressStyleModel",
       "_view_count": null,
       "_view_module": "@jupyter-widgets/base",
       "_view_module_version": "2.0.0",
       "_view_name": "StyleView",
       "bar_color": null,
       "description_width": ""
      }
     },
     "beacc0deaa734ee99ba8946f0713cad5": {
      "model_module": "@jupyter-widgets/controls",
      "model_module_version": "2.0.0",
      "model_name": "HTMLStyleModel",
      "state": {
       "_model_module": "@jupyter-widgets/controls",
       "_model_module_version": "2.0.0",
       "_model_name": "HTMLStyleModel",
       "_view_count": null,
       "_view_module": "@jupyter-widgets/base",
       "_view_module_version": "2.0.0",
       "_view_name": "StyleView",
       "background": null,
       "description_width": "",
       "font_size": null,
       "text_color": null
      }
     },
     "ca0c7b59fba045b4abdf91b9181f399e": {
      "model_module": "@jupyter-widgets/controls",
      "model_module_version": "2.0.0",
      "model_name": "HTMLStyleModel",
      "state": {
       "_model_module": "@jupyter-widgets/controls",
       "_model_module_version": "2.0.0",
       "_model_name": "HTMLStyleModel",
       "_view_count": null,
       "_view_module": "@jupyter-widgets/base",
       "_view_module_version": "2.0.0",
       "_view_name": "StyleView",
       "background": null,
       "description_width": "",
       "font_size": null,
       "text_color": null
      }
     },
     "ea1912ff050f4d538b14643a7eb3b353": {
      "model_module": "@jupyter-widgets/controls",
      "model_module_version": "2.0.0",
      "model_name": "HBoxModel",
      "state": {
       "_dom_classes": [],
       "_model_module": "@jupyter-widgets/controls",
       "_model_module_version": "2.0.0",
       "_model_name": "HBoxModel",
       "_view_count": null,
       "_view_module": "@jupyter-widgets/controls",
       "_view_module_version": "2.0.0",
       "_view_name": "HBoxView",
       "box_style": "",
       "children": [
        "IPY_MODEL_4adbbe6b7d4649209eda067585673ed7",
        "IPY_MODEL_54a1500c581945adaf2addd7d9a61388",
        "IPY_MODEL_f395a52fa21a439c9c61fe5bd229bdec"
       ],
       "layout": "IPY_MODEL_63ca39aa0c9e41aaaa8dda81885a70dd",
       "tabbable": null,
       "tooltip": null
      }
     },
     "f395a52fa21a439c9c61fe5bd229bdec": {
      "model_module": "@jupyter-widgets/controls",
      "model_module_version": "2.0.0",
      "model_name": "HTMLModel",
      "state": {
       "_dom_classes": [],
       "_model_module": "@jupyter-widgets/controls",
       "_model_module_version": "2.0.0",
       "_model_name": "HTMLModel",
       "_view_count": null,
       "_view_module": "@jupyter-widgets/controls",
       "_view_module_version": "2.0.0",
       "_view_name": "HTMLView",
       "description": "",
       "description_allow_html": false,
       "layout": "IPY_MODEL_22cedf92f0664993bdd9d4401b87c01a",
       "placeholder": "​",
       "style": "IPY_MODEL_ca0c7b59fba045b4abdf91b9181f399e",
       "tabbable": null,
       "tooltip": null,
       "value": " 4/4 [00:19&lt;00:00,  4.79s/it]"
      }
     }
    },
    "version_major": 2,
    "version_minor": 0
   }
  }
 },
 "nbformat": 4,
 "nbformat_minor": 5
}
